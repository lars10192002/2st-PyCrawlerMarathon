{
 "cells": [
  {
   "cell_type": "markdown",
   "metadata": {},
   "source": [
    "# 空氣污染監測網 網路爬蟲實作練習\n",
    "\n",
    "\n",
    "* 能夠利用 selenium + BeautifulSoup 撰寫爬蟲，並存放到合適的資料結構\n"
   ]
  },
  {
   "cell_type": "markdown",
   "metadata": {},
   "source": [
    "## 作業目標\n",
    "\n",
    "根據範例 ，完成以下問題：\n",
    "\n",
    "* ① 取出 台北市士林區 2018/01 – 2018/08 的 SO2 資料\n",
    "* ② 取出 台北市士林區 2018/01 – 2018/08 的 SO2、CO 資料\n",
    "\n",
    "\n",
    "\n"
   ]
  },
  {
   "cell_type": "code",
   "execution_count": 2,
   "metadata": {},
   "outputs": [],
   "source": [
    "from selenium import webdriver\n",
    "from selenium.webdriver.support.ui import Select\n",
    "import requests\n",
    "from bs4 import BeautifulSoup "
   ]
  },
  {
   "cell_type": "code",
   "execution_count": 3,
   "metadata": {},
   "outputs": [],
   "source": [
    "PATH = '/Users/lucakao/PythonWorkspace/2st-PyCrawlerMarathon/webdriver/chromedriver'\n",
    "browser = webdriver.Chrome(executable_path=PATH)\n",
    "\n",
    "browser.get(\"http://taqm.epa.gov.tw/taqm/tw/MonthlyAverage.aspx\")"
   ]
  },
  {
   "cell_type": "code",
   "execution_count": null,
   "metadata": {},
   "outputs": [],
   "source": [
    "city = Select(browser.find_element_by_id('ctl05_ddlSite'))\n",
    "city.select_by_value('11')\n",
    "year = Select(browser.find_element_by_id('ctl05_ddlYear'))\n",
    "year.select_by_value('2018')\n",
    "\n",
    "browser.find_element_by_id('ctl05_btnQuery').click()"
   ]
  },
  {
   "cell_type": "code",
   "execution_count": 33,
   "metadata": {},
   "outputs": [
    {
     "output_type": "stream",
     "name": "stdout",
     "text": "SO2 2018/01 1.80\n2018/02 1.90\n2018/03 2.20\n2018/04 2.30\n2018/05 3.10\n2018/06 2.70\n2018/07 2.20\n2018/08 2.40\n2018/09 2.10\n2018/10 1.70\n2018/11 1.90\n2018/12 1.80\nCO 2018/01 0.34\n2018/02 0.44\n2018/03 0.40\n2018/04 0.38\n2018/05 0.34\n2018/06 0.29\n2018/07 0.21\n2018/08 0.30\n2018/09 0.26\n2018/10 0.29\n2018/11 0.30\n2018/12 0.35\nO3 2018/01 33.40\n2018/02 32.50\n2018/03 35\n2018/04 38.40\n2018/05 31.60\n2018/06 29.50\n2018/07 18.70\n2018/08 26.40\n2018/09 29.10\n2018/10 45.90\n2018/11 32.40\n2018/12 30.70\nPM10 2018/01 23\n2018/02 41\n2018/03 39\n2018/04 48\n2018/05 37\n2018/06 26\n2018/07 24\n2018/08 26\n2018/09 28\n2018/10 33\n2018/11 25\n2018/12 21\nNOx 2018/01 14.17\n2018/02 19.43\n2018/03 18.50\n2018/04 15.24\n2018/05 15.20\n2018/06 13.79\n2018/07 11.60\n2018/08 14.75\n2018/09 12.40\n2018/10 12.45\n2018/11 13.41\n2018/12 14.56\nNO 2018/01 3.41\n2018/02 4.48\n2018/03 4.93\n2018/04 2.60\n2018/05 2.26\n2018/06 2.41\n2018/07 2.68\n2018/08 2.68\n2018/09 2.41\n2018/10 2.13\n2018/11 2.71\n2018/12 3.42\nNO2 2018/01 10.77\n2018/02 14.95\n2018/03 13.56\n2018/04 12.64\n2018/05 12.94\n2018/06 11.38\n2018/07 8.92\n2018/08 12.08\n2018/09 10\n2018/10 10.33\n2018/11 10.71\n2018/12 11.15\nTHC    \nNMHC    \nCH4    \n10\n"
    }
   ],
   "source": [
    "html = browser.page_source\n",
    "soup = BeautifulSoup(html, 'html5lib')\n",
    "\n",
    "table = soup.find(class_='TABLE_G')\n",
    "\n",
    "data = dict()\n",
    "for tr in table.find_all('tr')[1:]:\n",
    "    row = tr.find_all('td')\n",
    "    if len(row) == 5: #取標題\n",
    "        title = row[0].text\n",
    "        data[title]={}\n",
    "        date = row[2].text\n",
    "        value = row[3].text\n",
    "        data[title][date] = value\n",
    "        print(title,date,value)\n",
    "    if len(row) == 3: #取value\n",
    "        date = row[0].text\n",
    "        value = row[1].text\n",
    "        data[title][date] = value\n",
    "        print(date,value)\n",
    "\n",
    "\n",
    "print(len(data))\n",
    ""
   ]
  },
  {
   "cell_type": "code",
   "execution_count": 37,
   "metadata": {},
   "outputs": [],
   "source": [
    "import pandas as pd"
   ]
  },
  {
   "cell_type": "code",
   "execution_count": 39,
   "metadata": {},
   "outputs": [],
   "source": [
    "result = pd.DataFrame(data)"
   ]
  },
  {
   "cell_type": "code",
   "execution_count": 41,
   "metadata": {},
   "outputs": [
    {
     "output_type": "execute_result",
     "data": {
      "text/plain": "          SO2    CO     O3 PM10    NOx    NO    NO2  THC NMHC  CH4\n2018/01  1.80  0.34  33.40   23  14.17  3.41  10.77  NaN  NaN  NaN\n2018/02  1.90  0.44  32.50   41  19.43  4.48  14.95  NaN  NaN  NaN\n2018/03  2.20  0.40     35   39  18.50  4.93  13.56  NaN  NaN  NaN\n2018/04  2.30  0.38  38.40   48  15.24  2.60  12.64  NaN  NaN  NaN\n2018/05  3.10  0.34  31.60   37  15.20  2.26  12.94  NaN  NaN  NaN\n2018/06  2.70  0.29  29.50   26  13.79  2.41  11.38  NaN  NaN  NaN\n2018/07  2.20  0.21  18.70   24  11.60  2.68   8.92  NaN  NaN  NaN\n2018/08  2.40  0.30  26.40   26  14.75  2.68  12.08  NaN  NaN  NaN\n2018/09  2.10  0.26  29.10   28  12.40  2.41     10  NaN  NaN  NaN\n2018/10  1.70  0.29  45.90   33  12.45  2.13  10.33  NaN  NaN  NaN\n2018/11  1.90  0.30  32.40   25  13.41  2.71  10.71  NaN  NaN  NaN\n2018/12  1.80  0.35  30.70   21  14.56  3.42  11.15  NaN  NaN  NaN\n          NaN   NaN    NaN  NaN    NaN   NaN    NaN               ",
      "text/html": "<div>\n<style scoped>\n    .dataframe tbody tr th:only-of-type {\n        vertical-align: middle;\n    }\n\n    .dataframe tbody tr th {\n        vertical-align: top;\n    }\n\n    .dataframe thead th {\n        text-align: right;\n    }\n</style>\n<table border=\"1\" class=\"dataframe\">\n  <thead>\n    <tr style=\"text-align: right;\">\n      <th></th>\n      <th>SO2</th>\n      <th>CO</th>\n      <th>O3</th>\n      <th>PM10</th>\n      <th>NOx</th>\n      <th>NO</th>\n      <th>NO2</th>\n      <th>THC</th>\n      <th>NMHC</th>\n      <th>CH4</th>\n    </tr>\n  </thead>\n  <tbody>\n    <tr>\n      <th>2018/01</th>\n      <td>1.80</td>\n      <td>0.34</td>\n      <td>33.40</td>\n      <td>23</td>\n      <td>14.17</td>\n      <td>3.41</td>\n      <td>10.77</td>\n      <td>NaN</td>\n      <td>NaN</td>\n      <td>NaN</td>\n    </tr>\n    <tr>\n      <th>2018/02</th>\n      <td>1.90</td>\n      <td>0.44</td>\n      <td>32.50</td>\n      <td>41</td>\n      <td>19.43</td>\n      <td>4.48</td>\n      <td>14.95</td>\n      <td>NaN</td>\n      <td>NaN</td>\n      <td>NaN</td>\n    </tr>\n    <tr>\n      <th>2018/03</th>\n      <td>2.20</td>\n      <td>0.40</td>\n      <td>35</td>\n      <td>39</td>\n      <td>18.50</td>\n      <td>4.93</td>\n      <td>13.56</td>\n      <td>NaN</td>\n      <td>NaN</td>\n      <td>NaN</td>\n    </tr>\n    <tr>\n      <th>2018/04</th>\n      <td>2.30</td>\n      <td>0.38</td>\n      <td>38.40</td>\n      <td>48</td>\n      <td>15.24</td>\n      <td>2.60</td>\n      <td>12.64</td>\n      <td>NaN</td>\n      <td>NaN</td>\n      <td>NaN</td>\n    </tr>\n    <tr>\n      <th>2018/05</th>\n      <td>3.10</td>\n      <td>0.34</td>\n      <td>31.60</td>\n      <td>37</td>\n      <td>15.20</td>\n      <td>2.26</td>\n      <td>12.94</td>\n      <td>NaN</td>\n      <td>NaN</td>\n      <td>NaN</td>\n    </tr>\n    <tr>\n      <th>2018/06</th>\n      <td>2.70</td>\n      <td>0.29</td>\n      <td>29.50</td>\n      <td>26</td>\n      <td>13.79</td>\n      <td>2.41</td>\n      <td>11.38</td>\n      <td>NaN</td>\n      <td>NaN</td>\n      <td>NaN</td>\n    </tr>\n    <tr>\n      <th>2018/07</th>\n      <td>2.20</td>\n      <td>0.21</td>\n      <td>18.70</td>\n      <td>24</td>\n      <td>11.60</td>\n      <td>2.68</td>\n      <td>8.92</td>\n      <td>NaN</td>\n      <td>NaN</td>\n      <td>NaN</td>\n    </tr>\n    <tr>\n      <th>2018/08</th>\n      <td>2.40</td>\n      <td>0.30</td>\n      <td>26.40</td>\n      <td>26</td>\n      <td>14.75</td>\n      <td>2.68</td>\n      <td>12.08</td>\n      <td>NaN</td>\n      <td>NaN</td>\n      <td>NaN</td>\n    </tr>\n    <tr>\n      <th>2018/09</th>\n      <td>2.10</td>\n      <td>0.26</td>\n      <td>29.10</td>\n      <td>28</td>\n      <td>12.40</td>\n      <td>2.41</td>\n      <td>10</td>\n      <td>NaN</td>\n      <td>NaN</td>\n      <td>NaN</td>\n    </tr>\n    <tr>\n      <th>2018/10</th>\n      <td>1.70</td>\n      <td>0.29</td>\n      <td>45.90</td>\n      <td>33</td>\n      <td>12.45</td>\n      <td>2.13</td>\n      <td>10.33</td>\n      <td>NaN</td>\n      <td>NaN</td>\n      <td>NaN</td>\n    </tr>\n    <tr>\n      <th>2018/11</th>\n      <td>1.90</td>\n      <td>0.30</td>\n      <td>32.40</td>\n      <td>25</td>\n      <td>13.41</td>\n      <td>2.71</td>\n      <td>10.71</td>\n      <td>NaN</td>\n      <td>NaN</td>\n      <td>NaN</td>\n    </tr>\n    <tr>\n      <th>2018/12</th>\n      <td>1.80</td>\n      <td>0.35</td>\n      <td>30.70</td>\n      <td>21</td>\n      <td>14.56</td>\n      <td>3.42</td>\n      <td>11.15</td>\n      <td>NaN</td>\n      <td>NaN</td>\n      <td>NaN</td>\n    </tr>\n    <tr>\n      <th></th>\n      <td>NaN</td>\n      <td>NaN</td>\n      <td>NaN</td>\n      <td>NaN</td>\n      <td>NaN</td>\n      <td>NaN</td>\n      <td>NaN</td>\n      <td></td>\n      <td></td>\n      <td></td>\n    </tr>\n  </tbody>\n</table>\n</div>"
     },
     "metadata": {},
     "execution_count": 41
    }
   ],
   "source": [
    "result"
   ]
  },
  {
   "cell_type": "markdown",
   "metadata": {},
   "source": [
    "### ① 取出 台北市士林區 2018/01 – 2018/08 的 SO2 資料"
   ]
  },
  {
   "cell_type": "code",
   "execution_count": 42,
   "metadata": {},
   "outputs": [
    {
     "output_type": "execute_result",
     "data": {
      "text/plain": "          SO2\n2018/01  1.80\n2018/02  1.90\n2018/03  2.20\n2018/04  2.30\n2018/05  3.10\n2018/06  2.70\n2018/07  2.20\n2018/08  2.40",
      "text/html": "<div>\n<style scoped>\n    .dataframe tbody tr th:only-of-type {\n        vertical-align: middle;\n    }\n\n    .dataframe tbody tr th {\n        vertical-align: top;\n    }\n\n    .dataframe thead th {\n        text-align: right;\n    }\n</style>\n<table border=\"1\" class=\"dataframe\">\n  <thead>\n    <tr style=\"text-align: right;\">\n      <th></th>\n      <th>SO2</th>\n    </tr>\n  </thead>\n  <tbody>\n    <tr>\n      <th>2018/01</th>\n      <td>1.80</td>\n    </tr>\n    <tr>\n      <th>2018/02</th>\n      <td>1.90</td>\n    </tr>\n    <tr>\n      <th>2018/03</th>\n      <td>2.20</td>\n    </tr>\n    <tr>\n      <th>2018/04</th>\n      <td>2.30</td>\n    </tr>\n    <tr>\n      <th>2018/05</th>\n      <td>3.10</td>\n    </tr>\n    <tr>\n      <th>2018/06</th>\n      <td>2.70</td>\n    </tr>\n    <tr>\n      <th>2018/07</th>\n      <td>2.20</td>\n    </tr>\n    <tr>\n      <th>2018/08</th>\n      <td>2.40</td>\n    </tr>\n  </tbody>\n</table>\n</div>"
     },
     "metadata": {},
     "execution_count": 42
    }
   ],
   "source": [
    "result[['SO2']][:8]"
   ]
  },
  {
   "cell_type": "markdown",
   "metadata": {},
   "source": [
    "### ② 取出 台北市士林區 2018/01 – 2018/08 的 SO2、CO 資料"
   ]
  },
  {
   "cell_type": "code",
   "execution_count": 44,
   "metadata": {},
   "outputs": [
    {
     "output_type": "execute_result",
     "data": {
      "text/plain": "          SO2    CO\n2018/01  1.80  0.34\n2018/02  1.90  0.44\n2018/03  2.20  0.40\n2018/04  2.30  0.38\n2018/05  3.10  0.34\n2018/06  2.70  0.29\n2018/07  2.20  0.21\n2018/08  2.40  0.30",
      "text/html": "<div>\n<style scoped>\n    .dataframe tbody tr th:only-of-type {\n        vertical-align: middle;\n    }\n\n    .dataframe tbody tr th {\n        vertical-align: top;\n    }\n\n    .dataframe thead th {\n        text-align: right;\n    }\n</style>\n<table border=\"1\" class=\"dataframe\">\n  <thead>\n    <tr style=\"text-align: right;\">\n      <th></th>\n      <th>SO2</th>\n      <th>CO</th>\n    </tr>\n  </thead>\n  <tbody>\n    <tr>\n      <th>2018/01</th>\n      <td>1.80</td>\n      <td>0.34</td>\n    </tr>\n    <tr>\n      <th>2018/02</th>\n      <td>1.90</td>\n      <td>0.44</td>\n    </tr>\n    <tr>\n      <th>2018/03</th>\n      <td>2.20</td>\n      <td>0.40</td>\n    </tr>\n    <tr>\n      <th>2018/04</th>\n      <td>2.30</td>\n      <td>0.38</td>\n    </tr>\n    <tr>\n      <th>2018/05</th>\n      <td>3.10</td>\n      <td>0.34</td>\n    </tr>\n    <tr>\n      <th>2018/06</th>\n      <td>2.70</td>\n      <td>0.29</td>\n    </tr>\n    <tr>\n      <th>2018/07</th>\n      <td>2.20</td>\n      <td>0.21</td>\n    </tr>\n    <tr>\n      <th>2018/08</th>\n      <td>2.40</td>\n      <td>0.30</td>\n    </tr>\n  </tbody>\n</table>\n</div>"
     },
     "metadata": {},
     "execution_count": 44
    }
   ],
   "source": [
    "result[['SO2','CO']][:8]"
   ]
  },
  {
   "cell_type": "code",
   "execution_count": null,
   "metadata": {},
   "outputs": [],
   "source": []
  }
 ],
 "metadata": {
  "kernelspec": {
   "display_name": "Python 3",
   "language": "python",
   "name": "python3"
  },
  "language_info": {
   "codemirror_mode": {
    "name": "ipython",
    "version": 3
   },
   "file_extension": ".py",
   "mimetype": "text/x-python",
   "name": "python",
   "nbconvert_exporter": "python",
   "pygments_lexer": "ipython3",
   "version": "3.7.4-final"
  }
 },
 "nbformat": 4,
 "nbformat_minor": 2
}