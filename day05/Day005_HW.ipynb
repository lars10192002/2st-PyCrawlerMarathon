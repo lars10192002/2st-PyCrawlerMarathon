{
 "cells": [
  {
   "cell_type": "markdown",
   "metadata": {},
   "source": [
    "# API 資料串接 - 以 Dcard API 實作範例\n",
    "\n",
    "* 了解 Dcard API 使用方式與回傳內容\n",
    "* 撰寫程式存取 API 且解析 JSON 格式資料\n"
   ]
  },
  {
   "cell_type": "markdown",
   "metadata": {},
   "source": [
    "## 作業目標\n",
    "\n",
    "* 請利用 API: https://www.dcard.tw/_api/forums/pet/posts?popular=true 回答下列問題：\n",
    "\n",
    "1. 這個 API 一次會回傳幾筆資料？每一筆資料包含哪些欄位？\n",
    "2. 取出每一筆資料的「標題」、「貼文時間」、「留言人數」、「按讚人數」\n",
    "3. 計算熱門/非熱門文章的「平均留言人數」與「平均按讚人數」"
   ]
  },
  {
   "cell_type": "code",
   "execution_count": 6,
   "metadata": {},
   "outputs": [
    {
     "name": "stdout",
     "output_type": "stream",
     "text": "共 30 筆資料\n<class 'list'>\n欄位:\n1 id\n2 title\n3 excerpt\n4 anonymousSchool\n5 anonymousDepartment\n6 pinned\n7 forumId\n8 replyId\n9 createdAt\n10 updatedAt\n11 commentCount\n12 likeCount\n13 withNickname\n14 tags\n15 topics\n16 meta\n17 forumName\n18 forumAlias\n19 gender\n20 school\n21 replyTitle\n22 mediaMeta\n23 reactions\n24 hidden\n25 customStyle\n26 isSuspiciousAccount\n27 layout\n28 withImages\n29 withVideos\n30 media\n31 reportReasonText\n32 postAvatar\n"
    }
   ],
   "source": [
    "# 1. 這個 API 一次會回傳幾筆資料？每一筆資料包含哪些欄位？\n",
    "import json\n",
    "data = json.loads(response)\n",
    "print('共',len(data), '筆資料')\n",
    "print(type(data))\n",
    "\n",
    "print('欄位:')\n",
    "for k,v in enumerate(data[0].keys()):\n",
    "    print(k+1,v)    \n",
    "    \n",
    "\n",
    "\n",
    "\n",
    ""
   ]
  },
  {
   "cell_type": "code",
   "execution_count": 4,
   "metadata": {},
   "outputs": [
    {
     "data": {
      "text/plain": "le\":null,\"isSuspiciousAccount\":false,\"layout\":\"classic\",\"withImages\":true,\"withVideos\":false,\"media\":[{\"url\":\"https://megapx-assets.dcard.tw/images/cb29abde-c3c9-43d5-b7f1-f8ea25e0123d/640.jpeg\"}],\"reportReasonText\":\"\",\"postAvatar\":\"\"},{\"id\":233269609,\"title\":\"專業手機架\",\"excerpt\":\"狗狗一直想要討摸摸 但你又想滑手機怎麼辦，專業手機架！，狗狗爽爽 你也爽爽\",\"anonymousSchool\":false,\"anonymousDepartment\":true,\"pinned\":false,\"forumId\":\"7ee21581-1307-4ba9-b9dc-82028bdcca49\",\"replyId\":null,\"createdAt\":\"2020-03-15T14:42:03.115Z\",\"updatedAt\":\"2020-03-15T14:42:03.115Z\",\"commentCount\":0,\"likeCount\":4,\"withNickname\":false,\"tags\":[],\"topics\":[\"狗\",\"寵物\"],\"meta\":{\"layout\":\"classic\"},\"forumName\":\"寵物\",\"forumAlias\":\"pet\",\"gender\":\"F\",\"school\":\"靜宜大學\",\"replyTitle\":null,\"mediaMeta\":[{\"id\":\"ba4b6e8a-15d5-454e-9d5c-ea610b9cafa9\",\"url\":\"https://megapx-assets.dcard.tw/images/d03b922c-9cf0-4dfb-8053-aa1fdd311158/640.jpeg\",\"normalizedUrl\":\"https://megapx-assets.dcard.tw/images/d03b922c-9cf0-4dfb-8053-aa1fdd311158/640.jpeg\",\"thumbnail\":\"https://megapx-assets.dcard.tw/images/d03b922c-9cf0-4dfb-8053-aa1fdd311158/640.jpeg\",\"type\":\"image/thumbnail\",\"tags\":[\"ANNOTATED\"],\"createdAt\":\"2020-03-15T14:42:03.115Z\",\"updatedAt\":\"2020-03-15T14:42:03.115Z\",\"width\":480,\"height\":640},{\"id\":\"ba4b6e8a-15d5-454e-9d5c-ea610b9cafa9\",\"url\":\"https://megapx-assets.dcard.tw/images/d03b922c-9cf0-4dfb-8053-aa1fdd311158/640.jpeg\",\"normalizedUrl\":\"https://megapx.dcard.tw/v1/images/d03b922c-9cf0-4dfb-8053-aa1fdd311158\",\"thumbnail\":\"https://megapx-assets.dcard.tw/images/d03b922c-9cf0-4dfb-8053-aa1fdd311158/640.jpeg\",\"type\":\"image/megapx\",\"tags\":[\"ANNOTATED\"],\"createdAt\":\"2020-03-15T14:42:03.115Z\",\"updatedAt\":\"2020-03-15T14:42:03.115Z\",\"width\":1500,\"height\":2000},{\"id\":\"3ab5fe2c-5c72-4b6e-bf5c-6ea995010531\",\"url\":\"https://megapx-assets.dcard.tw/images/a6c1a005-6dcd-491f-bc79-4779d3e81e61/640.jpeg\",\"normalizedUrl\":\"https://megapx.dcard.tw/v1/images/a6c1a005-6dcd-491f-bc79-4779d3e81e61\",\"thumbnail\":\"https://megapx-assets.dcard.tw/images/a6c1a005-6dcd-491f-bc79-4779d3e81e61/640.jpeg\",\"type\":\"image/megapx\",\"tags\":[\"ANNOTATED\"],\"createdAt\":\"2020-03-15T14:42:03.115Z\",\"updatedAt\":\"2020-03-15T14:42:03.115Z\",\"width\":1125,\"height\":2000},{\"id\":\"c203ce01-c5a4-4d8d-8abe-88331690871a\",\"url\":\"https://megapx-assets.dcard.tw/images/de0bcf79-cbb6-43c1-a7e8-25752df6ddff/640.jpeg\",\"normalizedUrl\":\"https://megapx.dcard.tw/v1/images/de0bcf79-cbb6-43c1-a7e8-25752df6ddff\",\"thumbnail\":\"https://megapx-assets.dcard.tw/images/de0bcf79-cbb6-43c1-a7e8-25752df6ddff/640.jpeg\",\"type\":\"image/megapx\",\"tags\":[\"ANNOTATED\"],\"createdAt\":\"2020-03-15T14:42:03.115Z\",\"updatedAt\":\"2020-03-15T14:42:03.115Z\",\"width\":1125,\"height\":2000}],\"reactions\":[{\"id\":\"286f599c-f86a-4932-82f0-f5a06f1eca03\",\"count\":4}],\"hidden\":false,\"customStyle\":null,\"isSuspiciousAccount\":false,\"layout\":\"classic\",\"withImages\":true,\"withVideos\":false,\"media\":[{\"url\":\"https://megapx-assets.dcard.tw/images/d03b922c-9cf0-4dfb-8053-aa1fdd311158/640.jpeg\"},{\"url\":\"https://megapx-assets.dcard.tw/images/a6c1a005-6dcd-491f-bc79-4779d3e81e61/640.jpeg\"},{\"url\":\"https://megapx-assets.dcard.tw/images/de0bcf79-cbb6-43c1-a7e8-25752df6ddff/640.jpeg\"}],\"reportReasonText\":\"\",\"postAvatar\":\"\"},{\"id\":233265732,\"title\":\"IKEA 鯊魚🦈VS 玳瑁貓🐱\",\"excerpt\":\"選手1介紹，品種：米克斯玳瑁貓，名字： Vito（女），年齡：1歲，攻擊力： 爆咬 爆抓 爆衝 用靜電的尾巴電人（小皮卡丘來也看我的十萬伏特～～～～選手2介紹，品種： IKEA鯊魚，名字：OPPA（男\",\"anonymousSchool\":false,\"anonymousDepartment\":true,\"pinned\":false,\"forumId\":\"7ee21581-1307-4ba9-b9dc-82028bdcca49\",\"replyId\":null,\"createdAt\":\"2020-03-15T03:39:58.611Z\",\"updatedAt\":\"2020-03-16T01:05:30.793Z\",\"commentCount\":2,\"likeCount\":4,\"withNickname\":false,\"tags\":[],\"topics\":[\"鯊魚\",\"貓\",\"寵物\",\"米克斯\",\"可愛\"],\"meta\":{\"layout\":\"classic\"},\"forumName\":\"寵物\",\"forumAlias\":\"pet\",\"gender\":\"F\",\"school\":\"景文科技大學\",\"replyTitle\":null,\"mediaMeta\":[{\"id\":\"f760163b-0aa2-4577-8716-1c2fc36e05d9\",\"url\":\"https://megapx-assets.dcard.tw/images/fa76ff9b-ceeb-4030-8c85-391a97e946b6/640.jpeg\",\"normalizedUrl\":\"https://megapx-assets.dcard.tw/images/fa76ff9b-ceeb-4030-8c85-391a97e946b6/640.jpeg\",\"thumbnail\":\"https://megapx-assets.dcard.tw/images/fa76ff9b-ceeb-4030-8c85-391a97e946b6/640.jpeg\",\"type\":\"image/thumbnail\",\"tags\":[\"ANNOTATED\"],\"createdAt\":\"2020-03-15T03:39:58.611Z\",\"updatedAt\":\"2020-03-16T01:05:30.793Z\",\"width\":480,\"height\":640},{\"id\":\"f760163b-0aa2-4577-8716-1c2fc36e05d9\",\"url\":\"https://megapx-assets.dcard.tw/images/fa76ff9b-ceeb-4030-8c85-391a97e946b6/640.jpeg\",\"normalizedUrl\":\"https://megapx.dcard.tw/v1/images/fa76ff9b-ceeb-4030-8c85-391a97e946b6\",\"thumbnail\":\"https://megapx-assets.dcard.tw/images/fa76ff9b-ceeb-4030-8c85-391a97e946b6/640.jpeg\",\"type\":\"image/megapx\",\"tags\":[\"ANNOTATED\"],\"createdAt\":\"2020-03-15T03:39:58.611Z\",\"updatedAt\":\"2020-03-16T01:05:30.793Z\",\"width\":1500,\"height\":2000},{\"id\":\"816a0869-1b16-459a-8a47-7587767222f8\",\"url\":\"https://megapx-assets.dcard.tw/images/346b1973-b5c7-45a6-ac49-37265e08465d/640.jpeg\",\"normalizedUrl\":\"https://megapx.dcard.tw/v1/images/346b1973-b5c7-45a6-ac49-37265e08465d\",\"thumbnail\":\"https://megapx-assets.dcard.tw/images/346b1973-b5c7-45a6-ac49-37265e08465d/640.jpeg\",\"type\":\"image/megapx\",\"tags\":[\"ANNOTATED\"],\"createdAt\":\"2020-03-15T03:39:58.611Z\",\"updatedAt\":\"2020-03-16T01:05:30.793Z\",\"width\":2000,\"height\":1500},{\"id\":\"2a0afec4-e2d0-4364-b64c-e5e922afe3d8\",\"url\":\"https://megapx-assets.dcard.tw/images/b560c39b-f3d2-432b-946e-a937de075715/640.jpeg\",\"normalizedUrl\":\"https://megapx.dcard.tw/v1/images/b560c39b-f3d2-432b-946e-a937de075715\",\"thumbnail\":\"https://megapx-assets.dcard.tw/images/b560c39b-f3d2-432b-946e-a937de075715/640.jpeg\",\"type\":\"image/megapx\",\"tags\":[\"ANNOTATED\"],\"createdAt\":\"2020-03-15T03:39:58.611Z\",\"updatedAt\":\"2020-03-16T01:05:30.793Z\",\"width\":1500,\"height\":2000},{\"id\":\"a7fcd77f-907f-4cdd-8edf-0ad743cfcbd0\",\"url\":\"https://megapx-assets.dcard.tw/images/fc457469-0b0d-4b56-a7d0-6125b0b8baaa/640.jpeg\",\"normalizedUrl\":\"https://megapx.dcard.tw/v1/images/fc457469-0b0d-4b56-a7d0-6125b0b8baaa\",\"thumbnail\":\"https://megapx-assets.dcard.tw/images/fc457469-0b0d-4b56-a7d0-6125b0b8baaa/640.jpeg\",\"type\":\"image/megapx\",\"tags\":[\"ANNOTATED\"],\"createdAt\":\"2020-03-15T03:39:58.611Z\",\"updatedAt\":\"2020-03-16T01:05:30.793Z\",\"width\":1500,\"height\":2000},{\"id\":\"89860992-ab59-471e-ad0b-6150ea67fab0\",\"url\":\"https://www.dcard.tw/v2/vivid/videos/7bfce113-fb33-43ab-b744-fbda91dac1e5?r=1.3333333333333333\",\"normalizedUrl\":\"\",\"thumbnail\":\"https://vivid.dcard.tw/Public/7bfce113-fb33-43ab-b744-fbda91dac1e5/thumbnail.jpg\",\"type\":\"video/vivid\",\"tags\":[\"ANNOTATED_FAILED\"],\"createdAt\":\"2020-03-15T03:39:58.611Z\",\"updatedAt\":\"2020-03-16T01:05:30.793Z\"},{\"id\":\"daa05359-cc56-4584-a2f8-e3fb73edf929\",\"url\":\"https://megapx-assets.dcard.tw/images/139d112d-be3f-41ad-b6f8-c94dc743cf52/640.jpeg\",\"normalizedUrl\":\"https://megapx.dcard.tw/v1/images/139d112d-be3f-41ad-b6f8-c94dc743cf52\",\"thumbnail\":\"https://megapx-assets.dcard.tw/images/139d112d-be3f-41ad-b6f8-c94dc743cf52/640.jpeg\",\"type\":\"image/megapx\",\"tags\":[\"ANNOTATED\"],\"createdAt\":\"2020-03-15T03:39:58.611Z\",\"updatedAt\":\"2020-03-16T01:05:30.793Z\",\"width\":1500,\"height\":2000},{\"id\":\"1155fbe5-f5f0-499b-8cda-0f47b4ba5e55\",\"url\":\"https://megapx-assets.dcard.tw/images/6d5e6fc7-c386-4df5-872c-9516667b5aa8/640.jpeg\",\"normalizedUrl\":\"https://megapx.dcard.tw/v1/images/6d5e6fc7-c386-4df5-872c-9516667b5aa8\",\"thumbnail\":\"https://megapx-assets.dcard.tw/images/6d5e6fc7-c386-4df5-872c-9516667b5aa8/640.jpeg\",\"type\":\"image/megapx\",\"tags\":[\"ANNOTATED\"],\"createdAt\":\"2020-03-15T03:39:58.611Z\",\"updatedAt\":\"2020-03-16T01:05:30.793Z\",\"width\":2000,\"height\":1500},{\"id\":\"9b32dd3c-ef95-41dd-a814-82bd3d5fe393\",\"url\":\"https://www.dcard.tw/v2/vivid/videos/d5aa74a5-0c1c-410e-b433-5b8009649b5e?r=1.7777777777777777\",\"normalizedUrl\":\"\",\"thumbnail\":\"https://vivid.dcard.tw/Public/d5aa74a5-0c1c-410e-b433-5b8009649b5e/thumbnail.jpg\",\"type\":\"video/vivid\",\"tags\":[\"ANNOTATED_FAILED\"],\"createdAt\":\"2020-03-15T04:02:30.620Z\",\"updatedAt\":\"2020-03-16T01:05:30.793Z\"}],\"reactions\":[{\"id\":\"286f599c-f86a-4932-82f0-f5a06f1eca03\",\"count\":4}],\"hidden\":false,\"customStyle\":null,\"isSuspiciousAccount\":false,\"layout\":\"classic\",\"withImages\":true,\"withVideos\":true,\"media\":[{\"url\":\"https://megapx-assets.dcard.tw/images/fa76ff9b-ceeb-4030-8c85-391a97e946b6/640.jpeg\"},{\"url\":\"https://megapx-assets.dcard.tw/images/346b1973-b5c7-45a6-ac49-37265e08465d/640.jpeg\"},{\"url\":\"https://megapx-assets.dcard.tw/images/b560c39b-f3d2-432b-946e-a937de075715/640.jpeg\"},{\"url\":\"https://megapx-assets.dcard.tw/images/fc457469-0b0d-4b56-a7d0-6125b0b8baaa/640.jpeg\"},{\"url\":\"https://vivid.dcard.tw/Public/7bfce113-fb33-43ab-b744-fbda91dac1e5/thumbnail.jpg\"},{\"url\":\"https://megapx-assets.dcard.tw/images/139d112d-be3f-41ad-b6f8-c94dc743cf52/640.jpeg\"},{\"url\":\"https://megapx-assets.dcard.tw/images/6d5e6fc7-c386-4df5-872c-9516667b5aa8/640.jpeg\"},{\"url\":\"https://vivid.dcard.tw/Public/d5aa74a5-0c1c-410e-b433-5b8009649b5e/thumbnail.jpg\"}],\"reportReasonText\":\"\",\"postAvatar\":\"\"},{\"id\":233265291,\"title\":\"#分享 虎斑牛牛 法鬥\",\"excerpt\":\"大家好！我是1歲3個月體重邁向11公斤的虎斑牛牛，我喜歡坐車看風景去兜風️，最後附上一張 蓮花舌⋯？\",\"anonymousSchool\":false,\"anonymousDepartment\":false,\"pinned\":false,\"forumId\":\"7ee21581-1307-4ba9-b9dc-82028bdcca49\",\"replyId\":null,\"createdAt\":\"2020-03-15T01:31:16.131Z\",\"updatedAt\":\"2020-03-15T08:34:26.520Z\",\"commentCount\":0,\"likeCount\":4,\"withNickname\":true,\"tags\":[],\"topics\":[\"法鬥\",\"虎斑\",\"寵物\",\"狗\",\"牛牛\"],\"meta\":{\"layout\":\"classic\"},\"forumName\":\"寵物\",\"forumAlias\":\"pet\",\"gender\":\"F\",\"school\":\"Ariel.y\",\"department\":\"ariel.y\",\"replyTitle\":null,\"mediaMeta\":[{\"id\":\"7a5deb6e-bf09-446f-801c-310d480b8a74\",\"url\":\"https://megapx-assets.dcard.tw/images/46f3738d-c637-4eca-a054-f32dcccef784/640.jpeg\",\"normalizedUrl\":\"https://megapx-assets.dcard.tw/images/46f3738d-c637-4eca-a054-f32dcccef784/640.jpeg\",\"thumbnail\":\"https://megapx-assets.dcard.tw/images/46f3738d-c637-4eca-a054-f32dcccef784/640.jpeg\",\"type\":\"image/thumbnail\",\"tags\":[\"ANNOTATED\"],\"createdAt\":\"2020-03-15T01:31:16.131Z\",\"updatedAt\":\"2020-03-15T08:34:26.520Z\",\"width\":480,\"height\":640},{\"id\":\"7a5deb6e-bf09-446f-801c-310d480b8a74\",\"url\":\"https://megapx-assets.dcard.tw/images/46f3738d-c637-4eca-a054-f32dcccef784/640.jpeg\",\"normalizedUrl\":\"https://megapx.dcard.tw/v1/images/46f3738d-c637-4eca-a054-f32dcccef784\",\"thumbnail\":\"https://megapx-assets.dcard.tw/images/46f3738d-c637-4eca-a054-f32dcccef784/640.jpeg\",\"type\":\"image/megapx\",\"tags\":[\"ANNOTATED\"],\"createdAt\":\"2020-03-15T01:31:16.131Z\",\"updatedAt\":\"2020-03-15T08:34:26.520Z\",\"width\":1108,\"height\":1478},{\"id\":\"d0808376-fc77-4967-9b9a-7eedd3c8c93e\",\"url\":\"https://megapx-assets.dcard.tw/images/e76dff13-78ce-4db2-91f8-7bd1c20869d3/640.jpeg\",\"normalizedUrl\":\"https://megapx.dcard.tw/v1/images/e76dff13-78ce-4db2-91f8-7bd1c20869d3\",\"thumbnail\":\"https://megapx-assets.dcard.tw/images/e76dff13-78ce-4db2-91f8-7bd1c20869d3/640.jpeg\",\"type\":\"image/megapx\",\"tags\":[\"ANNOTATED\"],\"createdAt\":\"2020-03-15T01:31:16.131Z\",\"updatedAt\":\"2020-03-15T08:34:26.520Z\",\"width\":1108,\"height\":1478},{\"id\":\"62559b3d-1448-433b-b38a-c7502ab3c8f1\",\"url\":\"https://megapx-assets.dcard.tw/images/9ff6ab13-2699-443c-bf44-8ee8abf6bdaf/640.jpeg\",\"normalizedUrl\":\"https://megapx.dcard.tw/v1/images/9ff6ab13-2699-443c-bf44-8ee8abf6bdaf\",\"thumbnail\":\"https://megapx-assets.dcard.tw/images/9ff6ab13-2699-443c-bf44-8ee8abf6bdaf/640.jpeg\",\"type\":\"image/megapx\",\"tags\":[\"ANNOTATED\"],\"createdAt\":\"2020-03-15T01:31:16.131Z\",\"updatedAt\":\"2020-03-15T08:34:26.520Z\",\"width\":1500,\"height\":2000},{\"id\":\"173f878a-113e-4cb1-8343-d2b149093028\",\"url\":\"https://megapx-assets.dcard.tw/images/51147ff3-b446-49b2-874c-f97409893bad/640.jpeg\",\"normalizedUrl\":\"https://megapx.dcard.tw/v1/images/51147ff3-b446-49b2-874c-f97409893bad\",\"thumbnail\":\"https://megapx-assets.dcard.tw/images/51147ff3-b446-49b2-874c-f97409893bad/640.jpeg\",\"type\":\"image/megapx\",\"tags\":[\"ANNOTATED\"],\"createdAt\":\"2020-03-15T01:31:16.131Z\",\"updatedAt\":\"2020-03-15T08:34:26.520Z\",\"width\":1500,\"height\":2000},{\"id\":\"5d0bb731-5404-4ed3-ae93-3b309a4561da\",\"url\":\"https://megapx-assets.dcard.tw/images/b58b295f-5847-4d1f-b152-5b20b414f6bf/640.jpeg\",\"normalizedUrl\":\"https://megapx.dcard.tw/v1/images/b58b295f-5847-4d1f-b152-5b20b414f6bf\",\"thumbnail\":\"https://megapx-assets.dcard.tw/images/b58b295f-5847-4d1f-b152-5b20b414f6bf/640.jpeg\",\"type\":\"image/megapx\",\"tags\":[\"ANNOTATED\"],\"createdAt\":\"2020-03-15T01:31:16.131Z\",\"updatedAt\":\"2020-03-15T08:34:26.520Z\",\"width\":1108,\"height\":1478}],\"reactions\":[{\"id\":\"286f599c-f86a-4932-82f0-f5a06f1eca03\",\"count\":4}],\"hidden\":false,\"customStyle\":null,\"isSuspiciousAccount\":false,\"layout\":\"classic\",\"withImages\":true,\"withVideos\":false,\"media\":[{\"url\":\"https://megapx-assets.dcard.tw/images/46f3738d-c637-4eca-a054-f32dcccef784/640.jpeg\"},{\"url\":\"https://megapx-assets.dcard.tw/images/e76dff13-78ce-4db2-91f8-7bd1c20869d3/640.jpeg\"},{\"url\":\"https://megapx-assets.dcard.tw/images/9ff6ab13-2699-443c-bf44-8ee8abf6bdaf/640.jpeg\"},{\"url\":\"https://megapx-assets.dcard.tw/images/51147ff3-b446-49b2-874c-f97409893bad/640.jpeg\"},{\"url\":\"https://megapx-assets.dcard.tw/images/b58b295f-5847-4d1f-b152-5b20b414f6bf/640.jpeg\"}],\"reportReasonText\":\"\",\"postAvatar\":\"\"},{\"id\":233264347,\"title\":\"協尋雲林二崙 狗狗走失\",\"excerpt\":\"他叫yellow 是黃色的米克斯，身上有藍色項圈 跟拖著一條鍊子，大約20kg左右，在今天下午14：20分，往雲林二崙鄉油車的 大同國小 方向跑去，（繩子脫落後跑走的），希望有住在那邊的同學 可以幫我\",\"anonymousSchool\":false,\"anonymousDepartment\":true,\"pinned\":false,\"forumId\":\"7ee21581-1307-4ba9-b9dc-82028bdcca49\",\"replyId\":null,\"createdAt\":\"2020-03-14T17:59:05.640Z\",\"updatedAt\":\"2020-03-14T17:59:05.640Z\",\"commentCount\":0,\"likeCount\":4,\"withNickname\":false,\"tags\":[],\"topics\":[\"狗\",\"走失協尋\"],\"meta\":{\"layout\":\"classic\"},\"forumName\":\"寵物\",\"forumAlias\":\"pet\",\"gender\":\"F\",\"school\":\"弘光科技大學\",\"replyTitle\":null,\"mediaMeta\":[{\"id\":\"5699e507-acbc-4822-b476-7e4c086b340f\",\"url\":\"https://i.imgur.com/NPPkXi8l.jpg\",\"normalizedUrl\":\"https://i.imgur.com/NPPkXi8l.jpg\",\"thumbnail\":\"https://i.imgur.com/NPPkXi8l.jpg\",\"type\":\"image/thumbnail\",\"tags\":[\"ANNOTATED\"],\"createdAt\":\"2020-03-14T17:59:05.640Z\",\"updatedAt\":\"2020-03-14T17:59:05.640Z\"},{\"id\":\"5699e507-acbc-4822-b476-7e4c086b340f\",\"url\":\"https://i.imgur.com/NPPkXi8.jpg\",\"normalizedUrl\":\"https://imgur.com/NPPkXi8\",\"thumbnail\":\"https://i.imgur.com/NPPkXi8l.jpg\",\"type\":\"image/imgur\",\"tags\":[\"ANNOTATED\"],\"createdAt\":\"2020-03-14T17:59:05.640Z\",\"updatedAt\":\"2020-03-14T17:59:05.640Z\"},{\"id\":\"6ab30c84-397a-4742-8f70-7ce9f7db430c\",\"url\":\"https://i.imgur.com/EK2aFi8.jpg\",\"normalizedUrl\":\"https://imgur.com/EK2aFi8\",\"thumbnail\":\"https://i.imgur.com/EK2aFi8l.jpg\",\"type\":\"image/imgur\",\"tags\":[\"ANNOTATED\"],\"createdAt\":\"2020-03-14T17:59:05.640Z\",\"updatedAt\":\"2020-03-14T17:59:05.640Z\"}],\"reactions\":[{\"id\":\"286f599c-f86a-4932-82f0-f5a06f1eca03\",\"count\":4}],\"hidden\":false,\"customStyle\":null,\"isSuspiciousAccount\":false,\"layout\":\"classic\",\"withImages\":true,\"withVideos\":false,\"media\":[{\"url\":\"https://i.imgur.com/NPPkXi8.jpg\"},{\"url\":\"https://i.imgur.com/EK2aFi8.jpg\"}],\"reportReasonText\":\"\",\"postAvatar\":\"\"},{\"id\":233272833,\"title\":\"彰化尋狗！彰師大附近！拜託大家幫幫忙了！\",\"excerpt\":\"非常緊急！！寵物狗走失，請求協助，走失地點：彰化縣彰化市彰泰三街，走失時間：3/15晚上9點40分，（監視器最後拍到身影，往金馬路及建國西街方向），品種：德國狼犬（母），特徵：臉全黑，全身黑色土黃色混\",\"anonymousSchool\":false,\"anonymousDepartment\":true,\"pinned\":false,\"forumId\":\"7ee21581-1307-4ba9-b9dc-82028bdcca49\",\"replyId\":null,\"createdAt\":\"2020-03-16T04:32:38.699Z\",\"updatedAt\":\"2020-03-16T04:32:38.699Z\",\"commentCount\":0,\"likeCount\":3,\"withNickname\":false,\"tags\":[],\"topics\":[\"尋狗\",\"彰化\",\"狗\",\"寵物\",\"走失\"],\"meta\":{\"layout\":\"classic\"},\"forumName\":\"寵物\",\"forumAlias\":\"pet\",\"gender\":\"F\",\"school\":\"國立彰化師範大學\",\"replyTitle\":null,\"mediaMeta\":[{\"id\":\"0fb2b2e1-6891-496a-84e5-64ff93ed9376\",\"url\":\"https://megapx-assets.dcard.tw/images/d3411e54-d01b-41f7-834c-e5016b4b4528/320.jpeg\",\"normalizedUrl\":\"https://megapx-assets.dcard.tw/images/d3411e54-d01b-41f7-834c-e5016b4b4528/320.jpeg\",\"thumbnail\":\"https://megapx-assets.dcard.tw/images/d3411e54-d01b-41f7-834c-e5016b4b4528/320.jpeg\",\"type\":\"image/thumbnail\",\"tags\":[\"ANNOTATED\"],\"createdAt\":\"2020-03-16T04:32:38.699Z\",\"updatedAt\":\"2020-03-16T04:32:38.699Z\",\"width\":320,\"height\":192},{\"id\":\"0fb2b2e1-6891-496a-84e5-64ff93ed9376\",\"url\":\"https://megapx-assets.dcard.tw/images/d3411e54-d01b-41f7-834c-e5016b4b4528/full.jpeg\",\"normalizedUrl\":\"https://megapx.dcard.tw/v1/images/d3411e54-d01b-41f7-834c-e5016b4b4528\",\"thumbnail\":\"https://megapx-assets.dcard.tw/images/d3411e54-d01b-41f7-834c-e5016b4b4528/320.jpeg\",\"type\":\"image/megapx\",\"tags\":[\"ANNOTATED\"],\"createdAt\":\"2020-03-16T04:32:38.699Z\",\"updatedAt\":\"2020-03-16T04:32:38.699Z\",\"width\":750,\"height\":450}],\"reactions\":[{\"id\":\"286f599c-f86a-4932-82f0-f5a06f1eca03\",\"count\":3}],\"hidden\":false,\"customStyle\":null,\"isSuspiciousAccount\":false,\"layout\":\"classic\",\"withImages\":true,\"withVideos\":false,\"media\":[{\"url\":\"https://megapx-assets.dcard.tw/images/d3411e54-d01b-41f7-834c-e5016b4b4528/full.jpeg\"}],\"reportReasonText\":\"\",\"postAvatar\":\"\"},{\"id\":233272013,\"title\":\"生日快樂-默默兔寶\",\"excerpt\":\"我覺得在發悄悄兔寶以前，剛好遇到了值得慶祝的事情，那就是大姐默默四歲了！！！，一個擁有權與勢的女人，在12點的時候突然把他吵醒，跟他說生日快樂，給他些祝福的話，還很不滿因為被我吵醒，還不給他吃的也只是\",\"anonymousSchool\":false,\"anonymousDepartment\":false,\"pinned\":false,\"forumId\":\"7ee21581-1307-4ba9-b9dc-82028bdcca49\",\"replyId\":null,\"createdAt\":\"2020-03-16T01:52:52.748Z\",\"updatedAt\":\"2020-03-16T01:52:52.748Z\",\"commentCount\":0,\"likeCount\":3,\"withNickname\":true,\"tags\":[],\"topics\":[\"生日快樂\",\"兔寶\",\"寵物\",\"可愛\",\"兔\"],\"meta\":{\"layout\":\"classic\"},\"forumName\":\"寵物\",\"forumAlias\":\"pet\",\"gender\":\"F\",\"school\":\"家有三隻賠錢貨\",\"department\":\"rabbits.dog\",\"replyTitle\":null,\"mediaMeta\":[{\"id\":\"76251927-8f67-4dcd-baee-728a990ce485\",\"url\":\"https://i.imgur.com/wcpcU5hl.jpg\",\"normalizedUrl\":\"https://i.imgur.com/wcpcU5hl.jpg\",\"thumbnail\":\"https://i.imgur.com/wcpcU5hl.jpg\",\"type\":\"image/thumbnail\",\"tags\":[\"ANNOTATED\"],\"createdAt\":\"2020-03-16T01:52:52.748Z\",\"updatedAt\":\"2020-03-16T01:52:52.748Z\"},{\"id\":\"76251927-8f67-4dcd-baee-728a990ce485\",\"url\":\"https://i.imgur.com/wcpcU5h.jpg\",\"normalizedUrl\":\"https://imgur.com/wcpcU5h\",\"thumbnail\":\"https://i.imgur.com/wcpcU5hl.jpg\",\"type\":\"image/imgur\",\"tags\":[\"ANNOTATED\"],\"createdAt\":\"2020-03-16T01:52:52.748Z\",\"updatedAt\":\"2020-03-16T01:52:52.748Z\"}],\"reactions\":[{\"id\":\"286f599c-f86a-4932-82f0-f5a06f1eca03\",\"count\":3}],\"hidden\":false,\"customStyle\":null,\"isSuspiciousAccount\":false,\"layout\":\"classic\",\"withImages\":true,\"withVideos\":false,\"media\":[{\"url\":\"https://i.imgur.com/wcpcU5h.jpg\"}],\"reportReasonText\":\"\",\"postAvatar\":\"\"},{\"id\":233270474,\"title\":\"求助 我家的黃金鼠突然變得很怕我\",\"excerpt\":\"上週六剛帶回家，一切都好好的，那時他大概一個多月大，帶回家的時候他都很主動的親人，（所以我也沒有特別不理他讓他適應環境，因為我覺得他適應得滿好的，沒幾天就給摸然後吃我手上的食物，也會爬上手中吃飼料 甚\",\"anonymousSchool\":false,\"anonymousDepartment\":true,\"pinned\":false,\"forumId\":\"7ee21581-1307-4ba9-b9dc-82028bdcca49\",\"replyId\":null,\"createdAt\":\"2020-03-15T16:29:25.731Z\",\"updatedAt\":\"2020-03-15T16:45:18.943Z\",\"commentCount\":6,\"likeCount\":3,\"withNickname\":false,\"tags\":[],\"topics\":[\"黃金\",\"鼠\",\"緊張\"],\"meta\":{\"layout\":\"classic\"},\"forumName\":\"寵物\",\"forumAlias\":\"pet\",\"gender\":\"F\",\"school\":\"國立高雄應用科技大學\",\"replyTitle\":null,\"mediaMeta\":[{\"id\":\"a70686ae-21c5-4878-8d4f-31697067d712\",\"url\":\"https://megapx-assets.dcard.tw/images/6e252572-7a9b-400e-90c9-99e4df8f5ae4/640.jpeg\",\"normalizedUrl\":\"https://megapx-assets.dcard.tw/images/6e252572-7a9b-400e-90c9-99e4df8f5ae4/640.jpeg\",\"thumbnail\":\"https://megapx-assets.dcard.tw/images/6e252572-7a9b-400e-90c9-99e4df8f5ae4/640.jpeg\",\"type\":\"image/thumbnail\",\"tags\":[\"ANNOTATED\"],\"createdAt\":\"2020-03-15T16:29:50.582Z\",\"updatedAt\":\"2020-03-15T16:45:18.943Z\",\"width\":480,\"height\":640},{\"id\":\"a70686ae-21c5-4878-8d4f-31697067d712\",\"url\":\"https://megapx-assets.dcard.tw/images/6e252572-7a9b-400e-90c9-99e4df8f5ae4/640.jpeg\",\"normalizedUrl\":\"https://megapx.dcard.tw/v1/images/6e252572-7a9b-400e-90c9-99e4df8f5ae4\",\"thumbnail\":\"https://megapx-assets.dcard.tw/images/6e252572-7a9b-400e-90c9-99e4df8f5ae4/640.jpeg\",\"type\":\"image/megapx\",\"tags\":[\"ANNOTATED\"],\"createdAt\":\"2020-03-15T16:29:50.582Z\",\"updatedAt\":\"2020-03-15T16:45:18.943Z\",\"width\":1500,\"height\":2000}],\"reactions\":[{\"id\":\"286f599c-f86a-4932-82f0-f5a06f1eca03\",\"count\":3}],\"hidden\":false,\"customStyle\":null,\"isSuspiciousAccount\":false,\"layout\":\"classic\",\"withImages\":true,\"withVideos\":false,\"media\":[{\"url\":\"https://megapx-assets.dcard.tw/images/6e252572-7a9b-400e-90c9-99e4df8f5ae4/640.jpeg\"}],\"reportReasonText\":\"\",\"postAvatar\":\"\"}]'"
     },
     "execution_count": 4,
     "metadata": {},
     "output_type": "execute_result"
    }
   ],
   "source": [
    "import requests\n",
    "r = requests.get('https://www.dcard.tw/_api/forums/pet/posts?popular=true')\n",
    "response = r.text\n",
    "\n",
    "response"
   ]
  },
  {
   "cell_type": "code",
   "execution_count": 36,
   "metadata": {},
   "outputs": [
    {
     "name": "stdout",
     "output_type": "stream",
     "text": "1\ntitle : 暖貓 謝謝你\ncreatedAt : 2020-03-03T18:34:15.001Z\ncommentCount : 19\nlikeCount : 709\n2\ntitle : 兄day你怎麼變這樣\ncreatedAt : 2020-03-04T14:12:22.188Z\ncommentCount : 10\nlikeCount : 55\n3\ntitle : 第一次養貓的我\ncreatedAt : 2020-03-03T16:02:29.061Z\ncommentCount : 6\nlikeCount : 41\n4\ntitle : 遛貓遛到回不了家\ncreatedAt : 2020-03-04T02:24:23.766Z\ncommentCount : 5\nlikeCount : 29\n5\ntitle : 一束貓也太可愛了吧！\ncreatedAt : 2020-03-04T14:20:38.948Z\ncommentCount : 2\nlikeCount : 26\n6\ntitle : 同學我需要妳的貓來撫慰心靈\ncreatedAt : 2020-03-04T09:52:05.983Z\ncommentCount : 6\nlikeCount : 26\n7\ntitle : 再說我認真魔人 小心我噴死妳\ncreatedAt : 2020-03-04T12:07:14.145Z\ncommentCount : 6\nlikeCount : 24\n8\ntitle : 不當演員可惜了\ncreatedAt : 2020-03-04T13:24:51.655Z\ncommentCount : 2\nlikeCount : 23\n9\ntitle : 太可愛了！求原圖🥺\ncreatedAt : 2020-03-04T04:05:13.918Z\ncommentCount : 2\nlikeCount : 21\n10\ntitle : 我的公主我心疼\ncreatedAt : 2020-03-03T21:15:04.047Z\ncommentCount : 4\nlikeCount : 21\n11\ntitle : 我的貓讓我流了一地鼻血！\ncreatedAt : 2020-03-03T15:05:00.248Z\ncommentCount : 2\nlikeCount : 20\n12\ntitle : 喔乾 怎麼這麼亮\ncreatedAt : 2020-03-03T15:06:47.942Z\ncommentCount : 2\nlikeCount : 17\n13\ntitle : 諧星狗長大了🐶\ncreatedAt : 2020-03-03T19:12:57.135Z\ncommentCount : 2\nlikeCount : 16\n14\ntitle : 養了12年的科基\ncreatedAt : 2020-03-04T16:48:55.262Z\ncommentCount : 2\nlikeCount : 13\n15\ntitle : 不覺得貓眼睛超像一種食物的嗎？\ncreatedAt : 2020-03-04T17:25:47.611Z\ncommentCount : 2\nlikeCount : 11\n16\ntitle : 犬種介紹特輯3  極地登板 薩摩耶犬~\ncreatedAt : 2020-03-04T15:57:25.482Z\ncommentCount : 8\nlikeCount : 11\n17\ntitle : 來蓋個黑貓樓吧\ncreatedAt : 2020-03-04T12:22:14.998Z\ncommentCount : 3\nlikeCount : 10\n18\ntitle : 爬蟲不可怕 可怕的是無知\ncreatedAt : 2020-03-04T17:47:34.104Z\ncommentCount : 10\nlikeCount : 9\n19\ntitle : 寵物圖卡來襲❤️\ncreatedAt : 2020-03-04T12:55:05.985Z\ncommentCount : 6\nlikeCount : 9\n20\ntitle : 走失鸚鵡😢\ncreatedAt : 2020-03-04T18:40:56.691Z\ncommentCount : 0\nlikeCount : 8\n21\ntitle : 我的哈雷，各個都是她的好朋友，請問大家的小猫也會這樣嗎？完全不怕生，希望這個性可以伴隨她一起長大😬先讓大家看看她可愛的模樣，因為長大就換路線了\ncreatedAt : 2020-03-04T06:53:04.433Z\ncommentCount : 6\nlikeCount : 8\n22\ntitle : 嘎～\ncreatedAt : 2020-03-04T06:21:21.135Z\ncommentCount : 3\nlikeCount : 7\n23\ntitle : 我的貓咪會ㄟˊ依\ncreatedAt : 2020-03-03T16:43:13.425Z\ncommentCount : 3\nlikeCount : 7\n24\ntitle : 枕邊不是人\ncreatedAt : 2020-03-04T15:37:42.292Z\ncommentCount : 1\nlikeCount : 6\n25\ntitle : 怎麼沒有爬蟲版\ncreatedAt : 2020-03-04T17:10:31.097Z\ncommentCount : 9\nlikeCount : 4\n26\ntitle : 貓咪只喜愛中高價位的主食罐\ncreatedAt : 2020-03-04T16:59:36.243Z\ncommentCount : 3\nlikeCount : 4\n27\ntitle : 純種黑色土狗領養\ncreatedAt : 2020-03-04T16:36:15.022Z\ncommentCount : 2\nlikeCount : 4\n28\ntitle : 請益 貓可以吃銀柳葉嗎？\ncreatedAt : 2020-03-04T13:48:15.754Z\ncommentCount : 0\nlikeCount : 4\n29\ntitle : #問 蜥蜴可以這樣抓嗎？\ncreatedAt : 2020-03-04T11:16:04.836Z\ncommentCount : 6\nlikeCount : 4\n30\ntitle : #問 浪浪領養疫苗\ncreatedAt : 2020-03-04T04:14:09.247Z\ncommentCount : 6\nlikeCount : 4\n"
    }
   ],
   "source": [
    "import json\n",
    "data = json.loads(response)\n",
    "\n",
    "for k,item in enumerate(data):\n",
    "    print(k+1)    \n",
    "    print(\"title : \"+item['title'])\n",
    "    print(\"createdAt : \"+item['createdAt'])\n",
    "    print(\"commentCount : \"+str(item['commentCount']))\n",
    "    print(\"likeCount : \"+str(item['likeCount']))"
   ]
  },
  {
   "cell_type": "code",
   "execution_count": 21,
   "metadata": {},
   "outputs": [
    {
     "name": "stdout",
     "output_type": "stream",
     "text": "1\ntitle : 暖貓 謝謝你\ncreatedAt : 2020-03-03T18:34:15.001Z\ncommentCount : 19\nlikeCount : 709\n-------------------------------------------------\n2\ntitle : 兄day你怎麼變這樣\ncreatedAt : 2020-03-04T14:12:22.188Z\ncommentCount : 10\nlikeCount : 55\n-------------------------------------------------\n3\ntitle : 第一次養貓的我\ncreatedAt : 2020-03-03T16:02:29.061Z\ncommentCount : 6\nlikeCount : 41\n-------------------------------------------------\n4\ntitle : 遛貓遛到回不了家\ncreatedAt : 2020-03-04T02:24:23.766Z\ncommentCount : 5\nlikeCount : 29\n-------------------------------------------------\n5\ntitle : 一束貓也太可愛了吧！\ncreatedAt : 2020-03-04T14:20:38.948Z\ncommentCount : 2\nlikeCount : 26\n-------------------------------------------------\n6\ntitle : 同學我需要妳的貓來撫慰心靈\ncreatedAt : 2020-03-04T09:52:05.983Z\ncommentCount : 6\nlikeCount : 26\n-------------------------------------------------\n7\ntitle : 再說我認真魔人 小心我噴死妳\ncreatedAt : 2020-03-04T12:07:14.145Z\ncommentCount : 6\nlikeCount : 24\n-------------------------------------------------\n8\ntitle : 不當演員可惜了\ncreatedAt : 2020-03-04T13:24:51.655Z\ncommentCount : 2\nlikeCount : 23\n-------------------------------------------------\n9\ntitle : 太可愛了！求原圖🥺\ncreatedAt : 2020-03-04T04:05:13.918Z\ncommentCount : 2\nlikeCount : 21\n-------------------------------------------------\n10\ntitle : 我的公主我心疼\ncreatedAt : 2020-03-03T21:15:04.047Z\ncommentCount : 4\nlikeCount : 21\n-------------------------------------------------\n11\ntitle : 我的貓讓我流了一地鼻血！\ncreatedAt : 2020-03-03T15:05:00.248Z\ncommentCount : 2\nlikeCount : 20\n-------------------------------------------------\n12\ntitle : 喔乾 怎麼這麼亮\ncreatedAt : 2020-03-03T15:06:47.942Z\ncommentCount : 2\nlikeCount : 17\n-------------------------------------------------\n13\ntitle : 諧星狗長大了🐶\ncreatedAt : 2020-03-03T19:12:57.135Z\ncommentCount : 2\nlikeCount : 16\n-------------------------------------------------\n14\ntitle : 養了12年的科基\ncreatedAt : 2020-03-04T16:48:55.262Z\ncommentCount : 2\nlikeCount : 13\n-------------------------------------------------\n15\ntitle : 不覺得貓眼睛超像一種食物的嗎？\ncreatedAt : 2020-03-04T17:25:47.611Z\ncommentCount : 2\nlikeCount : 11\n-------------------------------------------------\n16\ntitle : 犬種介紹特輯3  極地登板 薩摩耶犬~\ncreatedAt : 2020-03-04T15:57:25.482Z\ncommentCount : 8\nlikeCount : 11\n-------------------------------------------------\n17\ntitle : 來蓋個黑貓樓吧\ncreatedAt : 2020-03-04T12:22:14.998Z\ncommentCount : 3\nlikeCount : 10\n-------------------------------------------------\n18\ntitle : 爬蟲不可怕 可怕的是無知\ncreatedAt : 2020-03-04T17:47:34.104Z\ncommentCount : 10\nlikeCount : 9\n-------------------------------------------------\n19\ntitle : 寵物圖卡來襲❤️\ncreatedAt : 2020-03-04T12:55:05.985Z\ncommentCount : 6\nlikeCount : 9\n-------------------------------------------------\n20\ntitle : 走失鸚鵡😢\ncreatedAt : 2020-03-04T18:40:56.691Z\ncommentCount : 0\nlikeCount : 8\n-------------------------------------------------\n21\ntitle : 我的哈雷，各個都是她的好朋友，請問大家的小猫也會這樣嗎？完全不怕生，希望這個性可以伴隨她一起長大😬先讓大家看看她可愛的模樣，因為長大就換路線了\ncreatedAt : 2020-03-04T06:53:04.433Z\ncommentCount : 6\nlikeCount : 8\n-------------------------------------------------\n22\ntitle : 嘎～\ncreatedAt : 2020-03-04T06:21:21.135Z\ncommentCount : 3\nlikeCount : 7\n-------------------------------------------------\n23\ntitle : 我的貓咪會ㄟˊ依\ncreatedAt : 2020-03-03T16:43:13.425Z\ncommentCount : 3\nlikeCount : 7\n-------------------------------------------------\n24\ntitle : 枕邊不是人\ncreatedAt : 2020-03-04T15:37:42.292Z\ncommentCount : 1\nlikeCount : 6\n-------------------------------------------------\n25\ntitle : 怎麼沒有爬蟲版\ncreatedAt : 2020-03-04T17:10:31.097Z\ncommentCount : 9\nlikeCount : 4\n-------------------------------------------------\n26\ntitle : 貓咪只喜愛中高價位的主食罐\ncreatedAt : 2020-03-04T16:59:36.243Z\ncommentCount : 3\nlikeCount : 4\n-------------------------------------------------\n27\ntitle : 純種黑色土狗領養\ncreatedAt : 2020-03-04T16:36:15.022Z\ncommentCount : 2\nlikeCount : 4\n-------------------------------------------------\n28\ntitle : 請益 貓可以吃銀柳葉嗎？\ncreatedAt : 2020-03-04T13:48:15.754Z\ncommentCount : 0\nlikeCount : 4\n-------------------------------------------------\n29\ntitle : #問 蜥蜴可以這樣抓嗎？\ncreatedAt : 2020-03-04T11:16:04.836Z\ncommentCount : 6\nlikeCount : 4\n-------------------------------------------------\n30\ntitle : #問 浪浪領養疫苗\ncreatedAt : 2020-03-04T04:14:09.247Z\ncommentCount : 6\nlikeCount : 4\n-------------------------------------------------\n"
    }
   ],
   "source": [
    "# 2. 取出每一筆資料的「標題」、「貼文時間」、「留言人數」、「按讚人數」\n",
    "\n",
    "import json \n",
    "\n",
    "data = json.loads(response)\n",
    "tmp = 0\n",
    "for i in data:\n",
    "    tmp = tmp+1\n",
    "    print(tmp)\n",
    "    print(\"title : \"+i['title'])\n",
    "    print(\"createdAt : \"+i['createdAt'])\n",
    "    print(\"commentCount : \"+str(i['commentCount']))\n",
    "    print(\"likeCount : \"+str(i['likeCount']))\n",
    "    print(\"-------------------------------------------------\")"
   ]
  },
  {
   "cell_type": "code",
   "execution_count": 51,
   "metadata": {},
   "outputs": [
    {
     "name": "stdout",
     "output_type": "stream",
     "text": "平均留言人數 4.7\n平均按讚人數 42.1\n"
    }
   ],
   "source": [
    "# 3. 計算熱門文章的「平均留言人數」與「平均按讚人數」\n",
    "import requests\n",
    "import json \n",
    "\n",
    "\n",
    "\n",
    "r = requests.get('https://www.dcard.tw/_api/forums/pet/posts?popular=true')\n",
    "# response = r.text\n",
    "data = json.loads(r.text)\n",
    "count = 0\n",
    "like = 0\n",
    "for i in data:\n",
    "    count = count+i['commentCount']\n",
    "    like = like+i['likeCount']\n",
    "    # print(len(data))\n",
    "    # print(count)\n",
    "    # print(count/len(data))\n",
    "    # print(\"--------------------------\")\n",
    "    # # print(i['commentCount'])\n",
    "\n",
    "\n",
    "print('平均留言人數',count/len(data))\n",
    "print('平均按讚人數',like/len(data))\n",
    "\n"
   ]
  },
  {
   "cell_type": "code",
   "execution_count": 50,
   "metadata": {},
   "outputs": [
    {
     "name": "stdout",
     "output_type": "stream",
     "text": "平均留言人數 3.6\n平均按讚人數 10.633333333333333\n"
    }
   ],
   "source": [
    "# 3. 非熱門文章的「平均留言人數」與「平均按讚人數」\n",
    "import requests\n",
    "r = requests.get('https://www.dcard.tw/_api/forums/pet/posts?popular=false')\n",
    "data = json.loads(r.text)\n",
    "count = 0\n",
    "like = 0\n",
    "for i in data:\n",
    "    count = count+i['commentCount']\n",
    "    like = like+i['likeCount']\n",
    "    # print(len(data))\n",
    "    # print(count)\n",
    "    # print(count/len(data))\n",
    "    # print(\"--------------------------\")\n",
    "    # # print(i['commentCount'])\n",
    "\n",
    "\n",
    "print('平均留言人數',count/len(data))\n",
    "print('平均按讚人數',like/len(data))"
   ]
  },
  {
   "cell_type": "code",
   "execution_count": null,
   "metadata": {},
   "outputs": [],
   "source": []
  }
 ],
 "metadata": {
  "kernelspec": {
   "display_name": "Python 3",
   "language": "python",
   "name": "python3"
  },
  "language_info": {
   "codemirror_mode": {
    "name": "ipython",
    "version": 3
   },
   "file_extension": ".py",
   "mimetype": "text/x-python",
   "name": "python",
   "nbconvert_exporter": "python",
   "pygments_lexer": "ipython3",
   "version": "3.7.4-final"
  }
 },
 "nbformat": 4,
 "nbformat_minor": 2
}