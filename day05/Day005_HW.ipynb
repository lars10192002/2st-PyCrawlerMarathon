{
 "cells": [
  {
   "cell_type": "markdown",
   "metadata": {},
   "source": [
    "# API 資料串接 - 以 Dcard API 實作範例\n",
    "\n",
    "* 了解 Dcard API 使用方式與回傳內容\n",
    "* 撰寫程式存取 API 且解析 JSON 格式資料\n"
   ]
  },
  {
   "cell_type": "markdown",
   "metadata": {},
   "source": [
    "## 作業目標\n",
    "\n",
    "* 請利用 API: https://www.dcard.tw/_api/forums/pet/posts?popular=true 回答下列問題：\n",
    "\n",
    "1. 這個 API 一次會回傳幾筆資料？每一筆資料包含哪些欄位？\n",
    "2. 取出每一筆資料的「標題」、「貼文時間」、「留言人數」、「按讚人數」\n",
    "3. 計算熱門/非熱門文章的「平均留言人數」與「平均按讚人數」"
   ]
  },
  {
   "cell_type": "code",
   "execution_count": 72,
   "metadata": {},
   "outputs": [
    {
     "name": "stdout",
     "output_type": "stream",
     "text": "共 30 筆資料\n欄位:\n1 id\n2 title\n3 excerpt\n4 anonymousSchool\n5 anonymousDepartment\n6 pinned\n7 forumId\n8 replyId\n9 createdAt\n10 updatedAt\n11 commentCount\n12 likeCount\n13 withNickname\n14 tags\n15 topics\n16 meta\n17 forumName\n18 forumAlias\n19 gender\n20 school\n21 replyTitle\n22 reportReason\n23 mediaMeta\n24 reactions\n25 hidden\n26 customStyle\n27 isSuspiciousAccount\n28 layout\n29 withImages\n30 withVideos\n31 media\n32 reportReasonText\n33 postAvatar\n"
    }
   ],
   "source": [
    "# 1. 這個 API 一次會回傳幾筆資料？每一筆資料包含哪些欄位？\n",
    "import json\n",
    "data = json.loads(response)\n",
    "print('共',len(data), '筆資料')\n",
    "\n",
    "print('欄位:')\n",
    "for k,v in enumerate(data[0].keys()):\n",
    "    print(k+1,v)    \n",
    "    \n",
    "\n",
    "\n",
    "\n"
   ]
  },
  {
   "cell_type": "code",
   "execution_count": 2,
   "metadata": {},
   "outputs": [
    {
     "data": {
      "text/plain": "-04T06:53:04.433Z\",\"updatedAt\":\"2020-03-04T07:28:56.617Z\"},{\"id\":\"9a0c9c62-f70d-45de-9bda-8e8b8ea0a568\",\"url\":\"https://i.imgur.com/WmCKL5i.jpg\",\"normalizedUrl\":\"https://imgur.com/WmCKL5i\",\"thumbnail\":\"https://i.imgur.com/WmCKL5il.jpg\",\"type\":\"image/imgur\",\"tags\":[\"ANNOTATED\"],\"createdAt\":\"2020-03-04T06:53:04.433Z\",\"updatedAt\":\"2020-03-04T07:28:56.617Z\"},{\"id\":\"7b906f57-46ab-4e64-900d-f76228565346\",\"url\":\"https://i.imgur.com/mck4cwY.jpg\",\"normalizedUrl\":\"https://imgur.com/mck4cwY\",\"thumbnail\":\"https://i.imgur.com/mck4cwYl.jpg\",\"type\":\"image/imgur\",\"tags\":[\"ANNOTATED\"],\"createdAt\":\"2020-03-04T06:53:04.433Z\",\"updatedAt\":\"2020-03-04T07:28:56.617Z\"},{\"id\":\"aa1dbfbd-daac-4e0b-ab79-2ac408ee022b\",\"url\":\"https://i.imgur.com/55BNVUj.jpg\",\"normalizedUrl\":\"https://imgur.com/55BNVUj\",\"thumbnail\":\"https://i.imgur.com/55BNVUjl.jpg\",\"type\":\"image/imgur\",\"tags\":[\"ANNOTATED\"],\"createdAt\":\"2020-03-04T06:53:04.433Z\",\"updatedAt\":\"2020-03-04T07:28:56.617Z\"},{\"id\":\"4d9c87f6-9571-4241-bd19-aba0ad98fa80\",\"url\":\"https://i.imgur.com/lgkqb8Q.jpg\",\"normalizedUrl\":\"https://imgur.com/lgkqb8Q\",\"thumbnail\":\"https://i.imgur.com/lgkqb8Ql.jpg\",\"type\":\"image/imgur\",\"tags\":[\"ANNOTATED\",\"POSSIBLY_UNSAFE\",\"GOOGLE_VISION_ADULT_LIKELY\"],\"createdAt\":\"2020-03-04T06:53:04.433Z\",\"updatedAt\":\"2020-03-04T07:28:56.617Z\"},{\"id\":\"5bb71176-08a5-4c5c-8e04-4676bbf1d104\",\"url\":\"https://i.imgur.com/Tg10rBz.jpg\",\"normalizedUrl\":\"https://imgur.com/Tg10rBz\",\"thumbnail\":\"https://i.imgur.com/Tg10rBzl.jpg\",\"type\":\"image/imgur\",\"tags\":[\"ANNOTATED\"],\"createdAt\":\"2020-03-04T06:53:04.433Z\",\"updatedAt\":\"2020-03-04T07:28:56.617Z\"},{\"id\":\"caea4a40-f4d5-4a6b-bdc7-e863f77af8a6\",\"url\":\"https://i.imgur.com/pDtcVO2.jpg\",\"normalizedUrl\":\"https://imgur.com/pDtcVO2\",\"thumbnail\":\"https://i.imgur.com/pDtcVO2l.jpg\",\"type\":\"image/imgur\",\"tags\":[\"ANNOTATED\"],\"createdAt\":\"2020-03-04T06:53:04.433Z\",\"updatedAt\":\"2020-03-04T07:28:56.617Z\"}],\"reactions\":[{\"id\":\"286f599c-f86a-4932-82f0-f5a06f1eca03\",\"count\":8}],\"hidden\":false,\"customStyle\":null,\"isSuspiciousAccount\":false,\"layout\":\"classic\",\"withImages\":true,\"withVideos\":true,\"media\":[{\"url\":\"https://vivid.dcard.tw/Public/c9ca2c54-0122-464a-a87d-f0d69325c4ad/thumbnail.jpg\"},{\"url\":\"https://i.imgur.com/x8w3n0u.jpg\"},{\"url\":\"https://i.imgur.com/gT7BuUT.jpg\"},{\"url\":\"https://i.imgur.com/qYuKlXQ.jpg\"},{\"url\":\"https://i.imgur.com/WmCKL5i.jpg\"},{\"url\":\"https://i.imgur.com/mck4cwY.jpg\"},{\"url\":\"https://i.imgur.com/55BNVUj.jpg\"},{\"url\":\"https://i.imgur.com/lgkqb8Q.jpg\"},{\"url\":\"https://i.imgur.com/Tg10rBz.jpg\"},{\"url\":\"https://i.imgur.com/pDtcVO2.jpg\"}],\"reportReasonText\":\"\",\"postAvatar\":\"\"},{\"id\":233188163,\"title\":\"嘎～\",\"excerpt\":\"放上我家可愛的鳥寶給大家欣賞，虎皮腹部毛的顏色真的很美 淡淡的藍色，跟貓咪相親相愛🥰\",\"anonymousSchool\":false,\"anonymousDepartment\":true,\"pinned\":false,\"forumId\":\"7ee21581-1307-4ba9-b9dc-82028bdcca49\",\"replyId\":null,\"createdAt\":\"2020-03-04T06:21:21.135Z\",\"updatedAt\":\"2020-03-04T06:23:11.155Z\",\"commentCount\":3,\"likeCount\":7,\"withNickname\":false,\"tags\":[],\"topics\":[\"寵物\",\"鸚鵡\"],\"meta\":{\"layout\":\"classic\"},\"forumName\":\"寵物\",\"forumAlias\":\"pet\",\"gender\":\"F\",\"school\":\"義守大學\",\"replyTitle\":null,\"mediaMeta\":[{\"id\":\"8bb66871-a489-45b6-ba12-6d01a380c9a1\",\"url\":\"https://megapx-assets.dcard.tw/images/851d8ae8-0370-41c8-867a-1243cc4e784a/640.jpeg\",\"normalizedUrl\":\"https://megapx-assets.dcard.tw/images/851d8ae8-0370-41c8-867a-1243cc4e784a/640.jpeg\",\"thumbnail\":\"https://megapx-assets.dcard.tw/images/851d8ae8-0370-41c8-867a-1243cc4e784a/640.jpeg\",\"type\":\"image/thumbnail\",\"tags\":[\"ANNOTATED\"],\"createdAt\":\"2020-03-04T06:21:21.135Z\",\"updatedAt\":\"2020-03-04T06:23:11.155Z\",\"width\":480,\"height\":640},{\"id\":\"8bb66871-a489-45b6-ba12-6d01a380c9a1\",\"url\":\"https://megapx-assets.dcard.tw/images/851d8ae8-0370-41c8-867a-1243cc4e784a/1280.jpeg\",\"normalizedUrl\":\"https://megapx.dcard.tw/v1/images/851d8ae8-0370-41c8-867a-1243cc4e784a\",\"thumbnail\":\"https://megapx-assets.dcard.tw/images/851d8ae8-0370-41c8-867a-1243cc4e784a/640.jpeg\",\"type\":\"image/megapx\",\"tags\":[\"ANNOTATED\"],\"createdAt\":\"2020-03-04T06:21:21.135Z\",\"updatedAt\":\"2020-03-04T06:23:11.155Z\",\"width\":1500,\"height\":2000},{\"id\":\"56b9863b-c96e-4611-b971-a884602b0fc5\",\"url\":\"https://megapx-assets.dcard.tw/images/441d3bc9-7cd5-4b40-94ea-1057e064856b/1280.jpeg\",\"normalizedUrl\":\"https://megapx.dcard.tw/v1/images/441d3bc9-7cd5-4b40-94ea-1057e064856b\",\"thumbnail\":\"https://megapx-assets.dcard.tw/images/441d3bc9-7cd5-4b40-94ea-1057e064856b/640.jpeg\",\"type\":\"image/megapx\",\"tags\":[],\"createdAt\":\"2020-03-04T06:23:11.155Z\",\"updatedAt\":\"2020-03-04T06:23:11.155Z\",\"width\":1500,\"height\":2000}],\"reactions\":[{\"id\":\"286f599c-f86a-4932-82f0-f5a06f1eca03\",\"count\":7}],\"hidden\":false,\"customStyle\":null,\"isSuspiciousAccount\":false,\"layout\":\"classic\",\"withImages\":true,\"withVideos\":false,\"media\":[{\"url\":\"https://megapx-assets.dcard.tw/images/851d8ae8-0370-41c8-867a-1243cc4e784a/1280.jpeg\"},{\"url\":\"https://megapx-assets.dcard.tw/images/441d3bc9-7cd5-4b40-94ea-1057e064856b/1280.jpeg\"}],\"reportReasonText\":\"\",\"postAvatar\":\"\"},{\"id\":233185230,\"title\":\"我的貓咪會ㄟˊ依\",\"excerpt\":\"他叫mibo，他會ㄟˊ依，我ㄟˊ依ㄟˊ依它就跟著ㄟˊ依ㄟˊ依，我不ㄟˊ依它就不太ㄟˊ依\",\"anonymousSchool\":false,\"anonymousDepartment\":false,\"pinned\":false,\"forumId\":\"7ee21581-1307-4ba9-b9dc-82028bdcca49\",\"replyId\":null,\"createdAt\":\"2020-03-03T16:43:13.425Z\",\"updatedAt\":\"2020-03-04T01:34:31.035Z\",\"commentCount\":3,\"likeCount\":7,\"withNickname\":true,\"tags\":[\"HIDE_THUMBNAIL\"],\"topics\":[\"貓\",\"可愛\",\"領養代替購買\",\"貓咪\"],\"meta\":{\"layout\":\"classic\"},\"forumName\":\"寵物\",\"forumAlias\":\"pet\",\"gender\":\"M\",\"school\":\"厭世吉娃娃\",\"department\":\"blacknigga0501\",\"replyTitle\":null,\"mediaMeta\":[{\"id\":\"8bd2d12d-96f6-4b64-b2ad-a14ae60401ee\",\"url\":\"https://www.dcard.tw/v2/vivid/videos/39f674e1-56e0-45c7-b7db-f406cb2ee724?r=1.7777777777777777\",\"normalizedUrl\":\"\",\"thumbnail\":\"https://vivid.dcard.tw/Public/39f674e1-56e0-45c7-b7db-f406cb2ee724/thumbnail.jpg\",\"type\":\"video/vivid\",\"tags\":[\"ANNOTATED_FAILED\"],\"createdAt\":\"2020-03-03T16:43:13.425Z\",\"updatedAt\":\"2020-03-04T01:34:31.035Z\"}],\"reactions\":[{\"id\":\"286f599c-f86a-4932-82f0-f5a06f1eca03\",\"count\":7}],\"hidden\":false,\"customStyle\":null,\"isSuspiciousAccount\":false,\"layout\":\"classic\",\"withImages\":true,\"withVideos\":true,\"media\":[],\"reportReasonText\":\"\",\"postAvatar\":\"\"},{\"id\":233192561,\"title\":\"枕邊不是人\",\"excerpt\":\"大家晚安，為了湊字數…，曬一下回不去的奶狗時期🥰，完。\",\"anonymousSchool\":false,\"anonymousDepartment\":false,\"pinned\":false,\"forumId\":\"7ee21581-1307-4ba9-b9dc-82028bdcca49\",\"replyId\":null,\"createdAt\":\"2020-03-04T15:37:42.292Z\",\"updatedAt\":\"2020-03-04T15:37:42.292Z\",\"commentCount\":1,\"likeCount\":6,\"withNickname\":true,\"tags\":[],\"topics\":[\"柴犬\",\"廢文\"],\"meta\":{\"layout\":\"classic\"},\"forumName\":\"寵物\",\"forumAlias\":\"pet\",\"gender\":\"F\",\"school\":\"一隻柴犬的主人\",\"department\":\"ptpu6969\",\"replyTitle\":null,\"mediaMeta\":[{\"id\":\"a52177a9-5b13-40a3-87fa-b2096accce9c\",\"url\":\"https://megapx-assets.dcard.tw/images/f1b2f7b4-3163-4be4-b269-4ef2d6e6e8a7/640.jpeg\",\"normalizedUrl\":\"https://megapx-assets.dcard.tw/images/f1b2f7b4-3163-4be4-b269-4ef2d6e6e8a7/640.jpeg\",\"thumbnail\":\"https://megapx-assets.dcard.tw/images/f1b2f7b4-3163-4be4-b269-4ef2d6e6e8a7/640.jpeg\",\"type\":\"image/thumbnail\",\"tags\":[],\"createdAt\":\"2020-03-04T15:37:42.292Z\",\"updatedAt\":\"2020-03-04T15:37:42.292Z\",\"width\":480,\"height\":640},{\"id\":\"a52177a9-5b13-40a3-87fa-b2096accce9c\",\"url\":\"https://megapx-assets.dcard.tw/images/f1b2f7b4-3163-4be4-b269-4ef2d6e6e8a7/1280.jpeg\",\"normalizedUrl\":\"https://megapx.dcard.tw/v1/images/f1b2f7b4-3163-4be4-b269-4ef2d6e6e8a7\",\"thumbnail\":\"https://megapx-assets.dcard.tw/images/f1b2f7b4-3163-4be4-b269-4ef2d6e6e8a7/640.jpeg\",\"type\":\"image/megapx\",\"tags\":[],\"createdAt\":\"2020-03-04T15:37:42.292Z\",\"updatedAt\":\"2020-03-04T15:37:42.292Z\",\"width\":1500,\"height\":2000},{\"id\":\"d13a2a96-20f0-4a08-96a3-8a7517fc46c2\",\"url\":\"https://megapx-assets.dcard.tw/images/4e05cb68-a199-403c-bb7e-c340444f3c74/1280.jpeg\",\"normalizedUrl\":\"https://megapx.dcard.tw/v1/images/4e05cb68-a199-403c-bb7e-c340444f3c74\",\"thumbnail\":\"https://megapx-assets.dcard.tw/images/4e05cb68-a199-403c-bb7e-c340444f3c74/640.jpeg\",\"type\":\"image/megapx\",\"tags\":[],\"createdAt\":\"2020-03-04T15:37:42.292Z\",\"updatedAt\":\"2020-03-04T15:37:42.292Z\",\"width\":1478,\"height\":1108}],\"reactions\":[{\"id\":\"286f599c-f86a-4932-82f0-f5a06f1eca03\",\"count\":6}],\"hidden\":false,\"customStyle\":null,\"isSuspiciousAccount\":false,\"layout\":\"classic\",\"withImages\":true,\"withVideos\":false,\"media\":[{\"url\":\"https://megapx-assets.dcard.tw/images/f1b2f7b4-3163-4be4-b269-4ef2d6e6e8a7/1280.jpeg\"},{\"url\":\"https://megapx-assets.dcard.tw/images/4e05cb68-a199-403c-bb7e-c340444f3c74/1280.jpeg\"}],\"reportReasonText\":\"\",\"postAvatar\":\"\"},{\"id\":233193290,\"title\":\"怎麼沒有爬蟲版\",\"excerpt\":\"（如果錯版會撤下），先說本人喜歡所有動物，覺得每種動物都有他可愛或者獨特的地方，雖然我也喜歡狗狗和貓咪，不過有時候想看看更多爬蟲相關的貼文，龜 蜥蜴 蛇 蛙等等，只是比例相較貓狗的文真的少好多，想知道\",\"anonymousSchool\":false,\"anonymousDepartment\":true,\"pinned\":false,\"forumId\":\"7ee21581-1307-4ba9-b9dc-82028bdcca49\",\"replyId\":null,\"createdAt\":\"2020-03-04T17:10:31.097Z\",\"updatedAt\":\"2020-03-04T17:10:31.097Z\",\"commentCount\":9,\"likeCount\":4,\"withNickname\":false,\"tags\":[\"HIDE_THUMBNAIL\"],\"topics\":[\"寵物\",\"可愛\",\"爬蟲類\",\"龜\"],\"meta\":{\"layout\":\"classic\"},\"forumName\":\"寵物\",\"forumAlias\":\"pet\",\"gender\":\"M\",\"school\":\"輔仁大學\",\"replyTitle\":null,\"mediaMeta\":[],\"reactions\":[{\"id\":\"286f599c-f86a-4932-82f0-f5a06f1eca03\",\"count\":4}],\"hidden\":false,\"customStyle\":null,\"isSuspiciousAccount\":false,\"layout\":\"classic\",\"withImages\":false,\"withVideos\":false,\"media\":[],\"reportReasonText\":\"\",\"postAvatar\":\"\"},{\"id\":233193223,\"title\":\"貓咪只喜愛中高價位的主食罐\",\"excerpt\":\"真的覺得我的貓咪偏好相當詭異，我買主食罐99%只買150g以上的，以下價位都是150g以上，80g請自行價格乘2再對照下表：低價位（50以下）：無，不給貓咪吃成分不好的，中價位（50~70）：克瑞斯N\",\"anonymousSchool\":false,\"anonymousDepartment\":false,\"pinned\":false,\"forumId\":\"7ee21581-1307-4ba9-b9dc-82028bdcca49\",\"replyId\":null,\"createdAt\":\"2020-03-04T16:59:36.243Z\",\"updatedAt\":\"2020-03-04T17:02:17.010Z\",\"commentCount\":3,\"likeCount\":4,\"withNickname\":true,\"tags\":[],\"topics\":[\"主食罐\",\"貓\",\"貓咪\",\"小王八蛋貓\"],\"meta\":{\"layout\":\"classic\"},\"forumName\":\"寵物\",\"forumAlias\":\"pet\",\"gender\":\"F\",\"school\":\"貓咪咪同學\",\"department\":\"sh980932\",\"replyTitle\":null,\"mediaMeta\":[{\"id\":\"6260628a-3e93-4500-a7ae-a17865148257\",\"url\":\"https://i.imgur.com/TKDdhASl.jpg\",\"normalizedUrl\":\"https://i.imgur.com/TKDdhASl.jpg\",\"thumbnail\":\"https://i.imgur.com/TKDdhASl.jpg\",\"type\":\"image/thumbnail\",\"tags\":[\"ANNOTATED\"],\"createdAt\":\"2020-03-04T17:02:17.010Z\",\"updatedAt\":\"2020-03-04T17:02:17.010Z\"},{\"id\":\"6260628a-3e93-4500-a7ae-a17865148257\",\"url\":\"https://i.imgur.com/TKDdhAS.jpg\",\"normalizedUrl\":\"https://imgur.com/TKDdhAS\",\"thumbnail\":\"https://i.imgur.com/TKDdhASl.jpg\",\"type\":\"image/imgur\",\"tags\":[\"ANNOTATED\"],\"createdAt\":\"2020-03-04T17:02:17.010Z\",\"updatedAt\":\"2020-03-04T17:02:17.010Z\"},{\"id\":\"4ce660ea-887a-4150-9b46-593f49cd0802\",\"url\":\"https://www.dcard.tw/v2/vivid/videos/997767be-4d0f-48ac-8c43-fb533c341448?r=1.7777777777777777\",\"normalizedUrl\":\"\",\"thumbnail\":\"https://vivid.dcard.tw/Public/997767be-4d0f-48ac-8c43-fb533c341448/thumbnail.jpg\",\"type\":\"video/vivid\",\"tags\":[\"ANNOTATED_FAILED\"],\"createdAt\":\"2020-03-04T16:59:36.243Z\",\"updatedAt\":\"2020-03-04T17:02:17.010Z\"}],\"reactions\":[{\"id\":\"286f599c-f86a-4932-82f0-f5a06f1eca03\",\"count\":4}],\"hidden\":false,\"customStyle\":null,\"isSuspiciousAccount\":false,\"layout\":\"classic\",\"withImages\":true,\"withVideos\":true,\"media\":[{\"url\":\"https://i.imgur.com/TKDdhAS.jpg\"},{\"url\":\"https://vivid.dcard.tw/Public/997767be-4d0f-48ac-8c43-fb533c341448/thumbnail.jpg\"}],\"reportReasonText\":\"\",\"postAvatar\":\"\"},{\"id\":233193065,\"title\":\"純種黑色土狗領養\",\"excerpt\":\"一窩 有六隻黑色的小狗狗 有喜歡的可以帶回家照顧嗎？我爸爸拍的晃到別介意呀..，在雲林 不知道要怎麼能找到領養的人，有違反版規的話 會再改善！！感謝！！\",\"anonymousSchool\":false,\"anonymousDepartment\":true,\"pinned\":false,\"forumId\":\"7ee21581-1307-4ba9-b9dc-82028bdcca49\",\"replyId\":null,\"createdAt\":\"2020-03-04T16:36:15.022Z\",\"updatedAt\":\"2020-03-04T16:36:15.022Z\",\"commentCount\":2,\"likeCount\":4,\"withNickname\":false,\"tags\":[],\"topics\":[\"土狗\",\"領養\",\"純種\",\"狗\",\"可愛\"],\"meta\":{\"layout\":\"classic\"},\"forumName\":\"寵物\",\"forumAlias\":\"pet\",\"gender\":\"F\",\"school\":\"中原大學\",\"replyTitle\":null,\"mediaMeta\":[{\"id\":\"f4a189f5-f50f-4db4-bb1b-776b4f2ea0a1\",\"url\":\"https://megapx-assets.dcard.tw/images/ef39bce6-d62e-4878-ab3e-b946fdc104aa/640.jpeg\",\"normalizedUrl\":\"https://megapx-assets.dcard.tw/images/ef39bce6-d62e-4878-ab3e-b946fdc104aa/640.jpeg\",\"thumbnail\":\"https://megapx-assets.dcard.tw/images/ef39bce6-d62e-4878-ab3e-b946fdc104aa/640.jpeg\",\"type\":\"image/thumbnail\",\"tags\":[],\"createdAt\":\"2020-03-04T16:36:15.022Z\",\"updatedAt\":\"2020-03-04T16:36:15.022Z\",\"width\":480,\"height\":640},{\"id\":\"f4a189f5-f50f-4db4-bb1b-776b4f2ea0a1\",\"url\":\"https://megapx-assets.dcard.tw/images/ef39bce6-d62e-4878-ab3e-b946fdc104aa/1280.jpeg\",\"normalizedUrl\":\"https://megapx.dcard.tw/v1/images/ef39bce6-d62e-4878-ab3e-b946fdc104aa\",\"thumbnail\":\"https://megapx-assets.dcard.tw/images/ef39bce6-d62e-4878-ab3e-b946fdc104aa/640.jpeg\",\"type\":\"image/megapx\",\"tags\":[],\"createdAt\":\"2020-03-04T16:36:15.022Z\",\"updatedAt\":\"2020-03-04T16:36:15.022Z\",\"width\":1080,\"height\":1440},{\"id\":\"26798c7e-2c1b-4618-98c9-45b6f5a089ce\",\"url\":\"https://megapx-assets.dcard.tw/images/3235136d-d45e-4e06-87b5-f9edc0198757/1280.jpeg\",\"normalizedUrl\":\"https://megapx.dcard.tw/v1/images/3235136d-d45e-4e06-87b5-f9edc0198757\",\"thumbnail\":\"https://megapx-assets.dcard.tw/images/3235136d-d45e-4e06-87b5-f9edc0198757/640.jpeg\",\"type\":\"image/megapx\",\"tags\":[],\"createdAt\":\"2020-03-04T16:36:15.022Z\",\"updatedAt\":\"2020-03-04T16:36:15.022Z\",\"width\":1080,\"height\":1440},{\"id\":\"e1825b73-5740-4896-82ed-48dc50559f58\",\"url\":\"https://megapx-assets.dcard.tw/images/055e2590-54c4-40bf-940b-86eb65f2cbd9/1280.jpeg\",\"normalizedUrl\":\"https://megapx.dcard.tw/v1/images/055e2590-54c4-40bf-940b-86eb65f2cbd9\",\"thumbnail\":\"https://megapx-assets.dcard.tw/images/055e2590-54c4-40bf-940b-86eb65f2cbd9/640.jpeg\",\"type\":\"image/megapx\",\"tags\":[],\"createdAt\":\"2020-03-04T16:36:15.022Z\",\"updatedAt\":\"2020-03-04T16:36:15.022Z\",\"width\":1080,\"height\":1440},{\"id\":\"e6b20530-46fb-40d0-995f-2b9add44fb75\",\"url\":\"https://megapx-assets.dcard.tw/images/6d5c1a2f-965c-445b-bd2c-b85409464650/1280.jpeg\",\"normalizedUrl\":\"https://megapx.dcard.tw/v1/images/6d5c1a2f-965c-445b-bd2c-b85409464650\",\"thumbnail\":\"https://megapx-assets.dcard.tw/images/6d5c1a2f-965c-445b-bd2c-b85409464650/640.jpeg\",\"type\":\"image/megapx\",\"tags\":[],\"createdAt\":\"2020-03-04T16:36:15.022Z\",\"updatedAt\":\"2020-03-04T16:36:15.022Z\",\"width\":1080,\"height\":1440}],\"reactions\":[{\"id\":\"286f599c-f86a-4932-82f0-f5a06f1eca03\",\"count\":4}],\"hidden\":false,\"customStyle\":null,\"isSuspiciousAccount\":false,\"layout\":\"classic\",\"withImages\":true,\"withVideos\":false,\"media\":[{\"url\":\"https://megapx-assets.dcard.tw/images/ef39bce6-d62e-4878-ab3e-b946fdc104aa/1280.jpeg\"},{\"url\":\"https://megapx-assets.dcard.tw/images/3235136d-d45e-4e06-87b5-f9edc0198757/1280.jpeg\"},{\"url\":\"https://megapx-assets.dcard.tw/images/055e2590-54c4-40bf-940b-86eb65f2cbd9/1280.jpeg\"},{\"url\":\"https://megapx-assets.dcard.tw/images/6d5c1a2f-965c-445b-bd2c-b85409464650/1280.jpeg\"}],\"reportReasonText\":\"\",\"postAvatar\":\"\"},{\"id\":233191518,\"title\":\"請益 貓可以吃銀柳葉嗎？\",\"excerpt\":\"家裡過年買了一顆銀柳結果現在長出葉子，家裡的貓都會偷吃他的葉子...，上網查銀柳沒有毒 但是不知道對貓有沒有害，難得他願意吃植物（´･_･`）一般的菜都不吃，想問問有沒有人知道？發文附圖 附上我家貓咪\",\"anonymousSchool\":false,\"anonymousDepartment\":true,\"pinned\":false,\"forumId\":\"7ee21581-1307-4ba9-b9dc-82028bdcca49\",\"replyId\":null,\"createdAt\":\"2020-03-04T13:48:15.754Z\",\"updatedAt\":\"2020-03-04T13:48:15.754Z\",\"commentCount\":0,\"likeCount\":4,\"withNickname\":false,\"tags\":[],\"topics\":[\"貓\"],\"meta\":{\"layout\":\"classic\"},\"forumName\":\"寵物\",\"forumAlias\":\"pet\",\"gender\":\"F\",\"school\":\"朝陽科技大學\",\"replyTitle\":null,\"mediaMeta\":[{\"id\":\"22eb32a0-36d1-4a79-92c7-b99cb9395fb1\",\"url\":\"https://i.imgur.com/TIMPVGBl.jpg\",\"normalizedUrl\":\"https://i.imgur.com/TIMPVGBl.jpg\",\"thumbnail\":\"https://i.imgur.com/TIMPVGBl.jpg\",\"type\":\"image/thumbnail\",\"tags\":[\"ANNOTATED\"],\"createdAt\":\"2020-03-04T13:48:15.754Z\",\"updatedAt\":\"2020-03-04T13:48:15.754Z\"},{\"id\":\"22eb32a0-36d1-4a79-92c7-b99cb9395fb1\",\"url\":\"https://i.imgur.com/TIMPVGB.jpg\",\"normalizedUrl\":\"https://imgur.com/TIMPVGB\",\"thumbnail\":\"https://i.imgur.com/TIMPVGBl.jpg\",\"type\":\"image/imgur\",\"tags\":[\"ANNOTATED\"],\"createdAt\":\"2020-03-04T13:48:15.754Z\",\"updatedAt\":\"2020-03-04T13:48:15.754Z\"}],\"reactions\":[{\"id\":\"286f599c-f86a-4932-82f0-f5a06f1eca03\",\"count\":4}],\"hidden\":false,\"customStyle\":null,\"isSuspiciousAccount\":false,\"layout\":\"classic\",\"withImages\":true,\"withVideos\":false,\"media\":[{\"url\":\"https://i.imgur.com/TIMPVGB.jpg\"}],\"reportReasonText\":\"\",\"postAvatar\":\"\"},{\"id\":233190333,\"title\":\"#問 蜥蜴可以這樣抓嗎？\",\"excerpt\":\"乳圖，某天在社群網站上滑到的，圖片看起來還好但文字敘述總覺得怪怪的，有沒有養蜥蜴的同學幫忙解答，幫當事蜥上個馬賽克\",\"anonymousSchool\":false,\"anonymousDepartment\":false,\"pinned\":false,\"forumId\":\"7ee21581-1307-4ba9-b9dc-82028bdcca49\",\"replyId\":null,\"createdAt\":\"2020-03-04T11:16:04.836Z\",\"updatedAt\":\"2020-03-04T11:19:09.553Z\",\"commentCount\":6,\"likeCount\":4,\"withNickname\":true,\"tags\":[],\"topics\":[\"蜥蜴\"],\"meta\":{\"layout\":\"classic\"},\"forumName\":\"寵物\",\"forumAlias\":\"pet\",\"gender\":\"F\",\"school\":\"卡佛\",\"department\":\"needacover\",\"replyTitle\":null,\"mediaMeta\":[{\"id\":\"910efe55-3eee-4c8b-9b5d-4a50d03e0311\",\"url\":\"https://megapx-assets.dcard.tw/images/9f826e0c-e836-4cd4-a8bb-2c0c7b896808/640.jpeg\",\"normalizedUrl\":\"https://megapx-assets.dcard.tw/images/9f826e0c-e836-4cd4-a8bb-2c0c7b896808/640.jpeg\",\"thumbnail\":\"https://megapx-assets.dcard.tw/images/9f826e0c-e836-4cd4-a8bb-2c0c7b896808/640.jpeg\",\"type\":\"image/thumbnail\",\"tags\":[\"ANNOTATED\"],\"createdAt\":\"2020-03-04T11:16:04.836Z\",\"updatedAt\":\"2020-03-04T11:19:09.553Z\",\"width\":584,\"height\":640},{\"id\":\"910efe55-3eee-4c8b-9b5d-4a50d03e0311\",\"url\":\"https://megapx-assets.dcard.tw/images/9f826e0c-e836-4cd4-a8bb-2c0c7b896808/full.jpeg\",\"normalizedUrl\":\"https://megapx.dcard.tw/v1/images/9f826e0c-e836-4cd4-a8bb-2c0c7b896808\",\"thumbnail\":\"https://megapx-assets.dcard.tw/images/9f826e0c-e836-4cd4-a8bb-2c0c7b896808/640.jpeg\",\"type\":\"image/megapx\",\"tags\":[\"ANNOTATED\"],\"createdAt\":\"2020-03-04T11:16:04.836Z\",\"updatedAt\":\"2020-03-04T11:19:09.553Z\",\"width\":750,\"height\":822}],\"reactions\":[{\"id\":\"286f599c-f86a-4932-82f0-f5a06f1eca03\",\"count\":3},{\"id\":\"aa0d425f-d530-4478-9a77-fe3aedc79eea\",\"count\":1}],\"hidden\":false,\"customStyle\":null,\"isSuspiciousAccount\":false,\"layout\":\"classic\",\"withImages\":true,\"withVideos\":false,\"media\":[{\"url\":\"https://megapx-assets.dcard.tw/images/9f826e0c-e836-4cd4-a8bb-2c0c7b896808/full.jpeg\"}],\"reportReasonText\":\"\",\"postAvatar\":\"\"},{\"id\":233187336,\"title\":\"#問 浪浪領養疫苗\",\"excerpt\":\"上禮拜男朋友在回家路上見了一隻流浪貓，剛好我們想養貓咪很久了  就直接帶他回家，有去查過 是沒有晶片的 也沒有項圈，但是獸醫是建議因為他是浪浪看我們要不要打五合一，剛剛爬文看到五合一好像家貓不適合施打\",\"anonymousSchool\":false,\"anonymousDepartment\":true,\"pinned\":false,\"forumId\":\"7ee21581-1307-4ba9-b9dc-82028bdcca49\",\"replyId\":null,\"createdAt\":\"2020-03-04T04:14:09.247Z\",\"updatedAt\":\"2020-03-04T04:14:31.569Z\",\"commentCount\":6,\"likeCount\":4,\"withNickname\":false,\"tags\":[],\"topics\":[\"領養\",\"浪浪\",\"貓\",\"疫苗\",\"寵物\"],\"meta\":{\"layout\":\"classic\"},\"forumName\":\"寵物\",\"forumAlias\":\"pet\",\"gender\":\"F\",\"school\":\"正修科技大學\",\"replyTitle\":null,\"mediaMeta\":[{\"id\":\"e9590b92-04a6-43ed-b701-09a97064ebc5\",\"url\":\"https://megapx-assets.dcard.tw/images/dd37da51-e073-4bde-808d-793a18c06416/640.jpeg\",\"normalizedUrl\":\"https://megapx-assets.dcard.tw/images/dd37da51-e073-4bde-808d-793a18c06416/640.jpeg\",\"thumbnail\":\"https://megapx-assets.dcard.tw/images/dd37da51-e073-4bde-808d-793a18c06416/640.jpeg\",\"type\":\"image/thumbnail\",\"tags\":[\"ANNOTATED\"],\"createdAt\":\"2020-03-04T04:14:09.247Z\",\"updatedAt\":\"2020-03-04T04:14:31.569Z\",\"width\":640,\"height\":360},{\"id\":\"e9590b92-04a6-43ed-b701-09a97064ebc5\",\"url\":\"https://megapx-assets.dcard.tw/images/dd37da51-e073-4bde-808d-793a18c06416/1280.jpeg\",\"normalizedUrl\":\"https://megapx.dcard.tw/v1/images/dd37da51-e073-4bde-808d-793a18c06416\",\"thumbnail\":\"https://megapx-assets.dcard.tw/images/dd37da51-e073-4bde-808d-793a18c06416/640.jpeg\",\"type\":\"image/megapx\",\"tags\":[\"ANNOTATED\"],\"createdAt\":\"2020-03-04T04:14:09.247Z\",\"updatedAt\":\"2020-03-04T04:14:31.569Z\",\"width\":2000,\"height\":1125}],\"reactions\":[{\"id\":\"286f599c-f86a-4932-82f0-f5a06f1eca03\",\"count\":4}],\"hidden\":false,\"customStyle\":null,\"isSuspiciousAccount\":false,\"layout\":\"classic\",\"withImages\":true,\"withVideos\":false,\"media\":[{\"url\":\"https://megapx-assets.dcard.tw/images/dd37da51-e073-4bde-808d-793a18c06416/1280.jpeg\"}],\"reportReasonText\":\"\",\"postAvatar\":\"\"}]'"
     },
     "execution_count": 2,
     "metadata": {},
     "output_type": "execute_result"
    }
   ],
   "source": [
    "import requests\n",
    "r = requests.get('https://www.dcard.tw/_api/forums/pet/posts?popular=true')\n",
    "response = r.text\n",
    "\n",
    "response"
   ]
  },
  {
   "cell_type": "code",
   "execution_count": 36,
   "metadata": {},
   "outputs": [
    {
     "name": "stdout",
     "output_type": "stream",
     "text": "1\ntitle : 暖貓 謝謝你\ncreatedAt : 2020-03-03T18:34:15.001Z\ncommentCount : 19\nlikeCount : 709\n2\ntitle : 兄day你怎麼變這樣\ncreatedAt : 2020-03-04T14:12:22.188Z\ncommentCount : 10\nlikeCount : 55\n3\ntitle : 第一次養貓的我\ncreatedAt : 2020-03-03T16:02:29.061Z\ncommentCount : 6\nlikeCount : 41\n4\ntitle : 遛貓遛到回不了家\ncreatedAt : 2020-03-04T02:24:23.766Z\ncommentCount : 5\nlikeCount : 29\n5\ntitle : 一束貓也太可愛了吧！\ncreatedAt : 2020-03-04T14:20:38.948Z\ncommentCount : 2\nlikeCount : 26\n6\ntitle : 同學我需要妳的貓來撫慰心靈\ncreatedAt : 2020-03-04T09:52:05.983Z\ncommentCount : 6\nlikeCount : 26\n7\ntitle : 再說我認真魔人 小心我噴死妳\ncreatedAt : 2020-03-04T12:07:14.145Z\ncommentCount : 6\nlikeCount : 24\n8\ntitle : 不當演員可惜了\ncreatedAt : 2020-03-04T13:24:51.655Z\ncommentCount : 2\nlikeCount : 23\n9\ntitle : 太可愛了！求原圖🥺\ncreatedAt : 2020-03-04T04:05:13.918Z\ncommentCount : 2\nlikeCount : 21\n10\ntitle : 我的公主我心疼\ncreatedAt : 2020-03-03T21:15:04.047Z\ncommentCount : 4\nlikeCount : 21\n11\ntitle : 我的貓讓我流了一地鼻血！\ncreatedAt : 2020-03-03T15:05:00.248Z\ncommentCount : 2\nlikeCount : 20\n12\ntitle : 喔乾 怎麼這麼亮\ncreatedAt : 2020-03-03T15:06:47.942Z\ncommentCount : 2\nlikeCount : 17\n13\ntitle : 諧星狗長大了🐶\ncreatedAt : 2020-03-03T19:12:57.135Z\ncommentCount : 2\nlikeCount : 16\n14\ntitle : 養了12年的科基\ncreatedAt : 2020-03-04T16:48:55.262Z\ncommentCount : 2\nlikeCount : 13\n15\ntitle : 不覺得貓眼睛超像一種食物的嗎？\ncreatedAt : 2020-03-04T17:25:47.611Z\ncommentCount : 2\nlikeCount : 11\n16\ntitle : 犬種介紹特輯3  極地登板 薩摩耶犬~\ncreatedAt : 2020-03-04T15:57:25.482Z\ncommentCount : 8\nlikeCount : 11\n17\ntitle : 來蓋個黑貓樓吧\ncreatedAt : 2020-03-04T12:22:14.998Z\ncommentCount : 3\nlikeCount : 10\n18\ntitle : 爬蟲不可怕 可怕的是無知\ncreatedAt : 2020-03-04T17:47:34.104Z\ncommentCount : 10\nlikeCount : 9\n19\ntitle : 寵物圖卡來襲❤️\ncreatedAt : 2020-03-04T12:55:05.985Z\ncommentCount : 6\nlikeCount : 9\n20\ntitle : 走失鸚鵡😢\ncreatedAt : 2020-03-04T18:40:56.691Z\ncommentCount : 0\nlikeCount : 8\n21\ntitle : 我的哈雷，各個都是她的好朋友，請問大家的小猫也會這樣嗎？完全不怕生，希望這個性可以伴隨她一起長大😬先讓大家看看她可愛的模樣，因為長大就換路線了\ncreatedAt : 2020-03-04T06:53:04.433Z\ncommentCount : 6\nlikeCount : 8\n22\ntitle : 嘎～\ncreatedAt : 2020-03-04T06:21:21.135Z\ncommentCount : 3\nlikeCount : 7\n23\ntitle : 我的貓咪會ㄟˊ依\ncreatedAt : 2020-03-03T16:43:13.425Z\ncommentCount : 3\nlikeCount : 7\n24\ntitle : 枕邊不是人\ncreatedAt : 2020-03-04T15:37:42.292Z\ncommentCount : 1\nlikeCount : 6\n25\ntitle : 怎麼沒有爬蟲版\ncreatedAt : 2020-03-04T17:10:31.097Z\ncommentCount : 9\nlikeCount : 4\n26\ntitle : 貓咪只喜愛中高價位的主食罐\ncreatedAt : 2020-03-04T16:59:36.243Z\ncommentCount : 3\nlikeCount : 4\n27\ntitle : 純種黑色土狗領養\ncreatedAt : 2020-03-04T16:36:15.022Z\ncommentCount : 2\nlikeCount : 4\n28\ntitle : 請益 貓可以吃銀柳葉嗎？\ncreatedAt : 2020-03-04T13:48:15.754Z\ncommentCount : 0\nlikeCount : 4\n29\ntitle : #問 蜥蜴可以這樣抓嗎？\ncreatedAt : 2020-03-04T11:16:04.836Z\ncommentCount : 6\nlikeCount : 4\n30\ntitle : #問 浪浪領養疫苗\ncreatedAt : 2020-03-04T04:14:09.247Z\ncommentCount : 6\nlikeCount : 4\n"
    }
   ],
   "source": [
    "import json\n",
    "data = json.loads(response)\n",
    "\n",
    "for k,item in enumerate(data):\n",
    "    print(k+1)    \n",
    "    print(\"title : \"+item['title'])\n",
    "    print(\"createdAt : \"+item['createdAt'])\n",
    "    print(\"commentCount : \"+str(item['commentCount']))\n",
    "    print(\"likeCount : \"+str(item['likeCount']))"
   ]
  },
  {
   "cell_type": "code",
   "execution_count": 21,
   "metadata": {},
   "outputs": [
    {
     "name": "stdout",
     "output_type": "stream",
     "text": "1\ntitle : 暖貓 謝謝你\ncreatedAt : 2020-03-03T18:34:15.001Z\ncommentCount : 19\nlikeCount : 709\n-------------------------------------------------\n2\ntitle : 兄day你怎麼變這樣\ncreatedAt : 2020-03-04T14:12:22.188Z\ncommentCount : 10\nlikeCount : 55\n-------------------------------------------------\n3\ntitle : 第一次養貓的我\ncreatedAt : 2020-03-03T16:02:29.061Z\ncommentCount : 6\nlikeCount : 41\n-------------------------------------------------\n4\ntitle : 遛貓遛到回不了家\ncreatedAt : 2020-03-04T02:24:23.766Z\ncommentCount : 5\nlikeCount : 29\n-------------------------------------------------\n5\ntitle : 一束貓也太可愛了吧！\ncreatedAt : 2020-03-04T14:20:38.948Z\ncommentCount : 2\nlikeCount : 26\n-------------------------------------------------\n6\ntitle : 同學我需要妳的貓來撫慰心靈\ncreatedAt : 2020-03-04T09:52:05.983Z\ncommentCount : 6\nlikeCount : 26\n-------------------------------------------------\n7\ntitle : 再說我認真魔人 小心我噴死妳\ncreatedAt : 2020-03-04T12:07:14.145Z\ncommentCount : 6\nlikeCount : 24\n-------------------------------------------------\n8\ntitle : 不當演員可惜了\ncreatedAt : 2020-03-04T13:24:51.655Z\ncommentCount : 2\nlikeCount : 23\n-------------------------------------------------\n9\ntitle : 太可愛了！求原圖🥺\ncreatedAt : 2020-03-04T04:05:13.918Z\ncommentCount : 2\nlikeCount : 21\n-------------------------------------------------\n10\ntitle : 我的公主我心疼\ncreatedAt : 2020-03-03T21:15:04.047Z\ncommentCount : 4\nlikeCount : 21\n-------------------------------------------------\n11\ntitle : 我的貓讓我流了一地鼻血！\ncreatedAt : 2020-03-03T15:05:00.248Z\ncommentCount : 2\nlikeCount : 20\n-------------------------------------------------\n12\ntitle : 喔乾 怎麼這麼亮\ncreatedAt : 2020-03-03T15:06:47.942Z\ncommentCount : 2\nlikeCount : 17\n-------------------------------------------------\n13\ntitle : 諧星狗長大了🐶\ncreatedAt : 2020-03-03T19:12:57.135Z\ncommentCount : 2\nlikeCount : 16\n-------------------------------------------------\n14\ntitle : 養了12年的科基\ncreatedAt : 2020-03-04T16:48:55.262Z\ncommentCount : 2\nlikeCount : 13\n-------------------------------------------------\n15\ntitle : 不覺得貓眼睛超像一種食物的嗎？\ncreatedAt : 2020-03-04T17:25:47.611Z\ncommentCount : 2\nlikeCount : 11\n-------------------------------------------------\n16\ntitle : 犬種介紹特輯3  極地登板 薩摩耶犬~\ncreatedAt : 2020-03-04T15:57:25.482Z\ncommentCount : 8\nlikeCount : 11\n-------------------------------------------------\n17\ntitle : 來蓋個黑貓樓吧\ncreatedAt : 2020-03-04T12:22:14.998Z\ncommentCount : 3\nlikeCount : 10\n-------------------------------------------------\n18\ntitle : 爬蟲不可怕 可怕的是無知\ncreatedAt : 2020-03-04T17:47:34.104Z\ncommentCount : 10\nlikeCount : 9\n-------------------------------------------------\n19\ntitle : 寵物圖卡來襲❤️\ncreatedAt : 2020-03-04T12:55:05.985Z\ncommentCount : 6\nlikeCount : 9\n-------------------------------------------------\n20\ntitle : 走失鸚鵡😢\ncreatedAt : 2020-03-04T18:40:56.691Z\ncommentCount : 0\nlikeCount : 8\n-------------------------------------------------\n21\ntitle : 我的哈雷，各個都是她的好朋友，請問大家的小猫也會這樣嗎？完全不怕生，希望這個性可以伴隨她一起長大😬先讓大家看看她可愛的模樣，因為長大就換路線了\ncreatedAt : 2020-03-04T06:53:04.433Z\ncommentCount : 6\nlikeCount : 8\n-------------------------------------------------\n22\ntitle : 嘎～\ncreatedAt : 2020-03-04T06:21:21.135Z\ncommentCount : 3\nlikeCount : 7\n-------------------------------------------------\n23\ntitle : 我的貓咪會ㄟˊ依\ncreatedAt : 2020-03-03T16:43:13.425Z\ncommentCount : 3\nlikeCount : 7\n-------------------------------------------------\n24\ntitle : 枕邊不是人\ncreatedAt : 2020-03-04T15:37:42.292Z\ncommentCount : 1\nlikeCount : 6\n-------------------------------------------------\n25\ntitle : 怎麼沒有爬蟲版\ncreatedAt : 2020-03-04T17:10:31.097Z\ncommentCount : 9\nlikeCount : 4\n-------------------------------------------------\n26\ntitle : 貓咪只喜愛中高價位的主食罐\ncreatedAt : 2020-03-04T16:59:36.243Z\ncommentCount : 3\nlikeCount : 4\n-------------------------------------------------\n27\ntitle : 純種黑色土狗領養\ncreatedAt : 2020-03-04T16:36:15.022Z\ncommentCount : 2\nlikeCount : 4\n-------------------------------------------------\n28\ntitle : 請益 貓可以吃銀柳葉嗎？\ncreatedAt : 2020-03-04T13:48:15.754Z\ncommentCount : 0\nlikeCount : 4\n-------------------------------------------------\n29\ntitle : #問 蜥蜴可以這樣抓嗎？\ncreatedAt : 2020-03-04T11:16:04.836Z\ncommentCount : 6\nlikeCount : 4\n-------------------------------------------------\n30\ntitle : #問 浪浪領養疫苗\ncreatedAt : 2020-03-04T04:14:09.247Z\ncommentCount : 6\nlikeCount : 4\n-------------------------------------------------\n"
    }
   ],
   "source": [
    "# 2. 取出每一筆資料的「標題」、「貼文時間」、「留言人數」、「按讚人數」\n",
    "\n",
    "import json \n",
    "\n",
    "data = json.loads(response)\n",
    "tmp = 0\n",
    "for i in data:\n",
    "    tmp = tmp+1\n",
    "    print(tmp)\n",
    "    print(\"title : \"+i['title'])\n",
    "    print(\"createdAt : \"+i['createdAt'])\n",
    "    print(\"commentCount : \"+str(i['commentCount']))\n",
    "    print(\"likeCount : \"+str(i['likeCount']))\n",
    "    print(\"-------------------------------------------------\")"
   ]
  },
  {
   "cell_type": "code",
   "execution_count": 51,
   "metadata": {},
   "outputs": [
    {
     "name": "stdout",
     "output_type": "stream",
     "text": "平均留言人數 4.7\n平均按讚人數 42.1\n"
    }
   ],
   "source": [
    "# 3. 計算熱門文章的「平均留言人數」與「平均按讚人數」\n",
    "import requests\n",
    "import json \n",
    "\n",
    "\n",
    "\n",
    "r = requests.get('https://www.dcard.tw/_api/forums/pet/posts?popular=true')\n",
    "# response = r.text\n",
    "data = json.loads(r.text)\n",
    "count = 0\n",
    "like = 0\n",
    "for i in data:\n",
    "    count = count+i['commentCount']\n",
    "    like = like+i['likeCount']\n",
    "    # print(len(data))\n",
    "    # print(count)\n",
    "    # print(count/len(data))\n",
    "    # print(\"--------------------------\")\n",
    "    # # print(i['commentCount'])\n",
    "\n",
    "\n",
    "print('平均留言人數',count/len(data))\n",
    "print('平均按讚人數',like/len(data))\n",
    "\n"
   ]
  },
  {
   "cell_type": "code",
   "execution_count": 50,
   "metadata": {},
   "outputs": [
    {
     "name": "stdout",
     "output_type": "stream",
     "text": "平均留言人數 3.6\n平均按讚人數 10.633333333333333\n"
    }
   ],
   "source": [
    "# 3. 非熱門文章的「平均留言人數」與「平均按讚人數」\n",
    "import requests\n",
    "r = requests.get('https://www.dcard.tw/_api/forums/pet/posts?popular=false')\n",
    "data = json.loads(r.text)\n",
    "count = 0\n",
    "like = 0\n",
    "for i in data:\n",
    "    count = count+i['commentCount']\n",
    "    like = like+i['likeCount']\n",
    "    # print(len(data))\n",
    "    # print(count)\n",
    "    # print(count/len(data))\n",
    "    # print(\"--------------------------\")\n",
    "    # # print(i['commentCount'])\n",
    "\n",
    "\n",
    "print('平均留言人數',count/len(data))\n",
    "print('平均按讚人數',like/len(data))"
   ]
  },
  {
   "cell_type": "code",
   "execution_count": null,
   "metadata": {},
   "outputs": [],
   "source": []
  }
 ],
 "metadata": {
  "kernelspec": {
   "display_name": "Python 3",
   "language": "python",
   "name": "python3"
  },
  "language_info": {
   "codemirror_mode": {
    "name": "ipython",
    "version": 3
   },
   "file_extension": ".py",
   "mimetype": "text/x-python",
   "name": "python",
   "nbconvert_exporter": "python",
   "pygments_lexer": "ipython3",
   "version": "3.7.4-final"
  }
 },
 "nbformat": 4,
 "nbformat_minor": 2
}