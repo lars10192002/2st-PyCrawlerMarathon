{
 "cells": [
  {
   "cell_type": "markdown",
   "metadata": {},
   "source": [
    "# 靜態網頁的資料爬蟲策略\n",
    "\n",
    "\n",
    "* 了解靜態網頁的資料爬蟲策略\n",
    "* 認識適用於靜態網頁爬蟲的相關套件工具：Request\n",
    "* 認識適用於靜態網頁爬蟲的相關套件工具：BeatifulSoup"
   ]
  },
  {
   "cell_type": "markdown",
   "metadata": {},
   "source": [
    "## 作業目標\n",
    "\n",
    "利用 Request + BeatifulSoup 爬取下列兩個網站內容並解析：\n",
    "\n",
    "1. Dcared 網址： https://www.dcard.tw/f\n",
    "2. 知乎： https://www.zhihu.com/explore\n",
    "\n",
    "並且回答下面問題：\n",
    "\n",
    "1. Request 取回之後該怎麼取出資料，資料型態是什麼？\n",
    "2. 為什麼要使用 BeatifulSoup 處理？處理後的型態是什麼？\n",
    "3. 觀察一下知乎回來的資料好像有點怪怪的，該怎麼解決？"
   ]
  },
  {
   "cell_type": "markdown",
   "metadata": {},
   "source": [
    "### 1. Dcard 網址： https://www.dcard.tw/f"
   ]
  },
  {
   "cell_type": "code",
   "execution_count": 7,
   "metadata": {},
   "outputs": [],
   "source": [
    "import requests\n",
    "from bs4 import BeautifulSoup\n"
   ]
  },
  {
   "cell_type": "code",
   "execution_count": 22,
   "metadata": {},
   "outputs": [
    {
     "name": "stdout",
     "output_type": "stream",
     "text": "<!DOCTYPE html><html lang=\"zh-TW\"><head prefix=\"og: http://ogp.me/ns#\" itemscope=\"\" itemType=\"https://schema.org/WebSite\"><meta charSet=\"utf-8\"/><meta http-equiv=\"X-UA-Compatible\" content=\"IE=edge\"/><meta name=\"viewport\" content=\"width=device-width, initial-scale=1, minimum-scale=1\"/><meta name=\"apple-mobile-web-app-status-bar-style\" content=\"default\"/><link rel=\"stylesheet\" type=\"text/css\" href=\"https://fonts.googleapis.com/css?family=Roboto:400,300\"/><meta name=\"application-name\" content=\"Dcard\"/><meta name=\"apple-itunes-app\" content=\"app-id=951353454\"/><meta name=\"theme-color\" content=\"#006aa6\"/><meta name=\"mobile-web-app-capable\" content=\"yes\"/><meta name=\"apple-mobile-web-app-capable\" content=\"yes\"/><meta name=\"supported-color-schemes\" content=\"light\"/><meta property=\"fb:app_id\" content=\"211628828926493\"/><meta property=\"fb:pages\" content=\"178875832200695,577748865730563,1333515469994506,619122564952487,804004803032067,178024805867764\"/><meta property=\"al:ios:app_store_id\" content=\"951353454\"/><meta property=\"al:ios:app_name\" content=\"Dcard\"/><meta property=\"al:android:package\" content=\"com.sparkslab.dcardreader\"/><meta property=\"al:android:app_name\" content=\"Dcard\"/><link rel=\"manifest\" href=\"/_next/static/manifest.json\"/><link rel=\"icon\" type=\"image/png\" sizes=\"16x16\" href=\"/_next/static/images/icon-16-1daa7474e5fe761a7239d12c56b88680.png\"/><link rel=\"icon\" type=\"image/png\" sizes=\"24x24\" href=\"/_next/static/images/icon-24-7bfd8a52a6756e15edaa617b106a5c55.png\"/><link rel=\"icon\" type=\"image/png\" sizes=\"32x32\" href=\"/_next/static/images/icon-32-54392e6e864b1f822d54a543ee54a0f9.png\"/><link rel=\"icon\" type=\"image/png\" sizes=\"192x192\" href=\"/_next/static/images/icon-192-49149beb434e1f6bccac918f6608564c.png\"/><link rel=\"apple-touch-icon\" type=\"image/png\" sizes=\"57x57\" href=\"/_next/static/images/icon-57-c95fcd930b41dbc6de0495348939582f.png\"/><link rel=\"apple-touch-icon\" type=\"image/png\" sizes=\"72x72\" href=\"/_next/static/images/icon-72-69b64cb9aadc811dce34ea6ac772cd8f.png\"/><link rel=\"apple-touch-icon\" type=\"image/png\" sizes=\"76x76\" href=\"/_next/static/images/icon-76-67203a784694f8378d2f51f24970e2f7.png\"/><link rel=\"apple-touch-icon\" type=\"image/png\" sizes=\"114x114\" href=\"/_next/static/images/icon-114-c58f911deb58868e8cc68ea1e09cc688.png\"/><link rel=\"apple-touch-icon\" type=\"image/png\" sizes=\"120x120\" href=\"/_next/static/images/icon-120-f3ada61716c0cc460c2cbe72b18fb9b4.png\"/><link rel=\"apple-touch-icon\" type=\"image/png\" sizes=\"144x144\" href=\"/_next/static/images/icon-144-679d873aa4b58f1117915545d3fdfa1d.png\"/><link rel=\"apple-touch-icon\" type=\"image/png\" sizes=\"152x152\" href=\"/_next/static/images/icon-152-b7ec982f1f49f590c97611e0e5e9f7f3.png\"/><link rel=\"apple-touch-icon\" type=\"image/png\" sizes=\"180x180\" href=\"/_next/static/images/icon-180-2665760e1b88b5af7a3cfbdc532bae20.png\"/><link rel=\"shortcut icon\" type=\"image/png\" href=\"/_next/static/images/icon-32-54392e6e864b1f822d54a543ee54a0f9.png\"/><script>(function(w,d,s,l,i){w[l]=w[l]||[];w[l].push({'gt\n"
    }
   ],
   "source": [
    "url = 'https://www.dcard.tw/f'\n",
    "r = requests.get(url)\n",
    "r.encoding = 'utf-8'\n",
    "print(r.text[0:3000])\n"
   ]
  },
  {
   "cell_type": "code",
   "execution_count": 26,
   "metadata": {},
   "outputs": [
    {
     "name": "stdout",
     "output_type": "stream",
     "text": "Request 取回之後該怎麼取出資料，資料型態是什麼？ =>\n<class 'str'>\n"
    }
   ],
   "source": [
    "print('Request 取回之後該怎麼取出資料，資料型態是什麼？ =>')\n",
    "\n",
    "print(type(r.text))"
   ]
  },
  {
   "cell_type": "code",
   "execution_count": 28,
   "metadata": {},
   "outputs": [
    {
     "name": "stdout",
     "output_type": "stream",
     "text": "15200,\"url\":\"\\u002Froundtables\\u002Fexplore\\u002Fcards\\u002Froundtable\\u002Fyiqidudonghunyinfa\",\"followersCount\":3755,\"intro\":\"婚姻里，不光是他说了算，她说了也算。在三八妇女节到来之际，我们以《婚姻法》为主题，特别邀请到法律界的资深专业人士一起来谈一谈，女性在恋爱结婚的过程中，该如何用法律武器来维护自己的权益。\",\"isFollowing\":false,\"guests\":[{\"avatarUrl\":\"https:\\u002F\\u002Fpic3.zhimg.com\\u002F50\\u002Fv2-0eedec2794d49aad7fbb2f8c9921a582_hd.jpg\"},{\"avatarUrl\":\"https:\\u002F\\u002Fpic3.zhimg.com\\u002F50\\u002Fe63d60c185a6348cff551c9925417219_hd.jpg\"},{\"avatarUrl\":\"https:\\u002F\\u002Fpic4.zhimg.com\\u002F50\\u002Fv2-0b1580ac11c3c506a90d9dac9581f92b_hd.jpg\"},{\"avatarUrl\":\"https:\\u002F\\u002Fpic2.zhimg.com\\u002F50\\u002Fv2-7ff81bd2a494c55acb1fa244b99b5bca_hd.jpg\"},{\"avatarUrl\":\"https:\\u002F\\u002Fpic1.zhimg.com\\u002F50\\u002Fv2-3dbbe4adc49ef1d81fec75833c09ce52_hd.jpg\"},{\"avatarUrl\":\"https:\\u002F\\u002Fpic4.zhimg.com\\u002F50\\u002Fv2-085667ec2284959ef281f0becb6d74c6_hd.jpg\"},{\"avatarUrl\":\"https:\\u002F\\u002Fpic4.zhimg.com\\u002F50\\u002Fv2-874bdca8f3b225878a48028cef71c389_hd.jpg\"},{\"avatarUrl\":\"https:\\u002F\\u002Fpic4.zhimg.com\\u002F50\\u002Fv2-ed1093f4b481bd0634a7d91dd0f637a0_hd.jpg\"}],\"questions\":[{\"followerCount\":58,\"title\":\"老公出轨，能按照忠诚协议约定，让老公净身出户吗？\",\"url\":\"https:\\u002F\\u002Fwww.zhihu.com\\u002Fquestion\\u002F376430143\",\"type\":\"question\",\"id\":376430143,\"answerCount\":19},{\"followerCount\":1354,\"title\":\"房产证要不要加儿媳的名字？\",\"url\":\"https:\\u002F\\u002Fwww.zhihu.com\\u002Fquestion\\u002F376401557\",\"type\":\"question\",\"id\":376401557,\"answerCount\":203},{\"followerCount\":1655,\"title\":\"如何看待婚前男方买房，让女方出装修费的行为 ？\",\"url\":\"https:\\u002F\\u002Fwww.zhihu.com\\u002Fquestion\\u002F319208234\",\"type\":\"question\",\"id\":319208234,\"answerCount\":553}],\"logo\":\"https:\\u002F\\u002Fpic3.zhimg.com\\u002F50\\u002Fv2-951ee095facd310be9a6d68f1d2a241a_hd.jpg\",\"urlToken\":\"yiqidudonghunyinfa\"}},\"order\":[\"psymask\",\"xinlixue101\",\"yuejizhinan\",\"yiqidudonghunyinfa\"]},\"collections\":{\"19918647\":{\"favitems\":[{\"content\":{\"isCollapsed\":false,\"author\":{\"avatarUrlTemplate\":\"https:\\u002F\\u002Fpic1.zhimg.com\\u002Fd5a6c063b02c68f42a6ee89b0f12560d_{size}.jpg\",\"type\":\"people\",\"name\":\"你见我u盘没\",\"headline\":\"晚来天欲雪，能饮一杯无？\",\"urlToken\":\"ni-jian-wo-upan-mei\",\"userType\":\"people\",\"isAdvertiser\":false,\"avatarUrl\":\"https:\\u002F\\u002Fpic1.zhimg.com\\u002Fd5a6c063b02c68f42a6ee89b0f12560d_is.jpg\",\"isOrg\":false,\"gender\":1,\"url\":\"http:\\u002F\\u002Fwww.zhihu.com\\u002Fapi\\u002Fv4\\u002Fpeople\\u002Fa8906f0af1f90d440fcd1a1a3ab3699d\",\"badge\":[],\"id\":\"a8906f0af1f90d440fcd1a1a3ab3699d\"},\"url\":\"http:\\u002F\\u002Fwww.zhihu.com\\u002Fapi\\u002Fv4\\u002Fanswers\\u002F1061819318\",\"question\":{\"questionType\":\"normal\",\"title\":\"有哪些格局比较大的书籍值得推荐?\",\"url\":\"http:\\u002F\\u002Fwww.zhihu.com\\u002Fapi\\u002Fv4\\u002Fquestions\\u002F52815813\",\"created\":1479635225,\"type\":\"question\",\"id\":52815813,\"updatedTime\":1582435033},\"id\":1061819318,\"excerpt\":\"格局比较大？我想没有一部书的格局比《毛泽东选集》的格局还要大。分享十段话：\\u003Cb\\u003E1.今天的暂时的妥协，即酝酿着明天的更大的战争。\\u003C\\u002Fb\\u003E\\u003Cb\\u003E2.在党内受了士兵同志的批评，到党外找机会报复他，打骂就是报复的一种手段。在党内也寻报复；你在这次会议上说了我，我就在下…\\u003C\\u002Fb\\u003E\",\"updatedTime\":1583551392,\"commentCount\":70,\"extras\":\"\",\"answerType\":\"answer\",\"createdTime\":1583551392,\"isCopyable\":true,\"type\":\"answer\",\"thumbnail\":\"\",\"voteupCount\":819}},{\"content\":{\"isCollapsed\":false,\"author\":{\"avatarUrlTemplate\":\"https:\\u002F\\u002Fpic1.zhimg.com\\u002Fv2-91e59f73a4975cb81bcf18566ac586a2_{size}.jpg\",\"type\":\"people\",\"name\":\"胡子大哈\",\"headline\":\"本人已经永久退出知乎\",\"urlToken\":\"hu-zi-da-ha\",\"userType\":\"people\",\"isAdvertiser\":false,\"avatarUrl\":\"https:\\u002F\\u002Fpic1.zhimg.com\\u002Fv2-91e59f73a4975cb81bcf18566ac586a2_is.jpg\",\"isOrg\":false,\"gender\":1,\"url\":\"http:\\u002F\\u002Fwww.zhihu.com\\u002Fapi\\u002Fv4\\u002Fpeople\\u002F27cfd0278c2ebc9ce70a15ad82083895\",\"badge\":[],\"id\":\"27cfd0278c2ebc9ce70a15ad82083895\"},\"url\":\"http:\\u002F\\u002Fwww.zhihu.com\\u002Fapi\\u002Fv4\\u002Fanswers\\u002F153213375\",\"question\":{\"questionType\":\"normal\",\"title\":\"YouTube 上有哪些计算机方面的值得推荐的公开课？\",\"url\":\"http:\\u002F\\u002Fwww.zhihu.com\\u002Fapi\\u002Fv4\\u002Fquestions\\u002F49071324\",\"created\":1469886828,\"type\":\"question\",\"id\":49071324,\"updatedTime\":1471233767},\"id\":153213375,\"excerpt\":\"看到这个问题我必须拿出我收藏多年，不到关键时刻不示人的计算机之神：Ravindrababu Ravula，数据结构和算法、编译原理、操作系统、计算机网络全都懂，懂还就算了，讲课还非常棒！\\u003Ca href=\\\"https:\\u002F\\u002Flink.zhihu.com\\u002F?target=https%3A\\u002F\\u002Fwww.youtube.com\\u002Fchannel\\u002FUCJjC1hn78yZqTf0vdTC6wAQ\\\" class=\\\" external\\\" target=\\\"_blank\\\" rel=\\\"nofollow noreferrer\\\"\\u003E\\u003Cspan class=\\\"invisible\\\"\\u003Ehttps:\\u002F\\u002Fwww.\\u003C\\u002Fspan\\u003E\\u003Cspan class=\\\"visible\\\"\\u003Eyoutube.com\\u002Fchannel\\u002FUCJ\\u003C\\u002Fspan\\u003E\\u003Cspan class=\\\"invisible\\\"\\u003EjC1hn78yZqTf0vdTC6wAQ\\u003C\\u002Fspan\\u003E\\u003Cspan class=\\\"ellipsis\\\"\\u003E\\u003C\\u002Fspan\\u003E\\u003C\\u002Fa\\u003E很久之前因为工…\",\"updatedTime\":1498362654,\"commentCount\":153,\"extras\":\"\",\"answerType\":\"answer\",\"createdTime\":1490275634,\"isCopyable\":false,\"type\":\"answer\",\"thumbnail\":\"https:\\u002F\\u002Fpic1.zhimg.com\\u002Fv2-fef7694c9edf10c4137b7b14632d2439_200x112.jpg\",\"voteupCount\":3937}}],\"title\":\"有趣问题\",\"url\":\"http:\\u002F\\u002Fwww.zhihu.com\\u002Fapi\\u002Fv4\\u002Fcollections\\u002F19918647\",\"totalCount\":2990,\"creator\":{\"avatarUrlTemplate\":\"https:\\u002F\\u002Fpic4.zhimg.com\\u002Fda8e974dc_{size}.jpg\",\"type\":\"people\",\"name\":\"知乎用户\",\"headline\":\"\",\"urlToken\":\"\",\"userType\":\"people\",\"isAdvertiser\":false,\"avatarUrl\":\"https:\\u002F\\u002Fpic4.zhimg.com\\u002Fda8e974dc_is.jpg\",\"isOrg\":false,\"gender\":1,\"url\":\"http:\\u002F\\u002Fwww.zhihu.com\\u002Fapi\\u002Fv4\\u002Fpeople\\u002F0\",\"badge\":[],\"id\":\"ae30fa337ca408627d31cc61ba6f7732\"},\"isFollowing\":false,\"followerCount\":1164,\"isPublic\":true,\"type\":\"collection\",\"id\":19918647},\"58221537\":{\"favitems\":[{\"content\":{\"isCollapsed\":false,\"author\":{\"avatarUrlTemplate\":\"https:\\u002F\\u002Fpic2.zhimg.com\\u002Fv2-e690e8a09dee5ed48495396f280863da_{size}.jpg\",\"type\":\"people\",\"name\":\"默苍离\",\"headline\":\"擦镜人\\u002F钢铁直男\\u002F局里需要我\",\"urlToken\":\"chen-wen-bin-97-62\",\"userType\":\"people\",\"isAdvertiser\":false,\"avatarUrl\":\"https:\\u002F\\u002Fpic2.zhimg.com\\u002Fv2-e690e8a09dee5ed48495396f280863da_is.jpg\",\"isOrg\":false,\"gender\":1,\"url\":\"http:\\u002F\\u002Fwww.zhihu.com\\u002Fapi\\u002Fv4\\u002Fpeople\\u002F00a69a0323d435435c7bbd0f1bd535e5\",\"badge\":[],\"id\":\"00a69a0323d435435c7bbd0f1bd535e5\"},\"url\":\"http:\\u002F\\u002Fwww.zhihu.com\\u002Fapi\\u002Fv4\\u002Fanswers\\u002F1061390321\",\"question\":{\"questionType\":\"normal\",\"title\":\"全世界目前最大威胁是什么？\",\"url\":\"http:\\u002F\\u002Fwww.zhihu.com\\u002Fapi\\u002Fv4\\u002Fquestions\\u002F265839602\",\"created\":1516350927,\"type\":\"question\",\"id\":265839602,\"updatedTime\":1577012838},\"id\":1061390321,\"excerpt\":\"终产者产生的可能性。财富分配的趋势，越来越有利于富人。美国前1%的人口所占财富比例一直在增加。美国大公司的CEO薪酬与普通工人工资的比率，从1965年的20:1上升到2014年的300:1，从1978-2013年，美国CEO的薪酬增加了937%，而普通工人的工资仅仅增加了10.2…\",\"updatedTime\":1583520725,\"commentCount\":97,\"extras\":\"\",\"answerType\":\"answer\",\"createdTime\":1583520725,\"isCopyable\":true,\"type\":\"answer\",\"thumbnail\":\"https:\\u002F\\u002Fpic4.zhimg.com\\u002Fv2-8d95499e1ccb227c978273562441f5c1_200x112.jpg\",\"voteupCount\":587}},{\"content\":{\"isCollapsed\":false,\"author\":{\"avatarUrlTemplate\":\"https:\\u002F\\u002Fpic4.zhimg.com\\u002Fv2-1bedbdf5c9127df6719518ae63e8969d_{size}.jpg\",\"type\":\"people\",\"name\":\"是那个Tina\",\"headline\":\"写作｜画画｜运动瑜伽｜美食｜裁缝｜有爱\",\"urlToken\":\"tinafever\",\"userType\":\"people\",\"isAdvertiser\":false,\"avatarUrl\":\"https:\\u002F\\u002Fpic4.zhimg.com\\u002Fv2-1bedbdf5c9127df6719518ae63e8969d_is.jpg\",\"isOrg\":false,\"gender\":0,\"url\":\"http:\\u002F\\u002Fwww.zhihu.com\\u002Fapi\\u002Fv4\\u002Fpeople\\u002F0de0032ccd43e412257ac29d6a4bf4db\",\"badge\":[],\"id\":\"0de0032ccd43e412257ac29d6a4bf4db\"},\"url\":\"http:\\u002F\\u002Fwww.zhihu.com\\u002Fapi\\u002Fv4\\u002Fanswers\\u002F1056858366\",\"question\":{\"questionType\":\"normal\",\"title\":\"有哪些你结婚后才明白的道理？\",\"url\":\"http:\\u002F\\u002Fwww.zhihu.com\\u002Fapi\\u002Fv4\\u002Fquestions\\u002F55230947\",\"created\":1485746245,\"type\":\"question\",\"id\":55230947,\"updatedTime\":1582286834},\"id\":1056858366,\"excerpt\":\"不是结婚后明白的，是结两次婚后才明白的。1.婚姻的本质是合作，抱着驾驭对方的态度去相处，一定会失败。其实每个人心里都想要去控制些什么，男女都是。因为不能掌控生活的感觉会让人觉得生活的变数好大，并且感到十分焦虑和恐惧。如果一切都按照自己所想的…\",\"updatedTime\":1583368106,\"commentCount\":49,\"extras\":\"\",\"answerType\":\"answer\",\"createdTime\":1583368106,\"isCopyable\":true,\"type\":\"answer\",\"thumbnail\":\"\",\"voteupCount\":660}}],\"title\":\"各种知识\",\"url\":\"http:\\u002F\\u002Fwww.zhihu.com\\u002Fapi\\u002Fv4\\u002Fcollections\\u002F58221537\",\"totalCount\":9059,\"creator\":{\"avatarUrlTemplate\":\"https:\\u002F\\u002Fpic4.zhimg.com\\u002Fda8e974dc_{size}.jpg\",\"type\":\"people\",\"name\":\"知乎用户\",\"headline\":\"\",\"urlToken\":\"\",\"userType\":\"people\",\"isAdvertiser\":false,\"avatarUrl\":\"https:\\u002F\\u002Fpic4.zhimg.com\\u002Fda8e974dc_is.jpg\",\"isOrg\":false,\"gender\":1,\"url\":\"http:\\u002F\\u002Fwww.zhihu.com\\u002Fapi\\u002Fv4\\u002Fpeople\\u002F0\",\"badge\":[],\"id\":\"5616c2c4f6472342349df188be21f2f7\"},\"isFollowing\":false,\"followerCount\":6695,\"isPublic\":true,\"type\":\"collection\",\"id\":58221537},\"58222796\":{\"favitems\":[{\"content\":{\"isCollapsed\":false,\"author\":{\"avatarUrlTemplate\":\"https:\\u002F\\u002Fpic3.zhimg.com\\u002Fv2-82e56c8f0e94973bb72b4d7c637a0a36_{size}.jpg\",\"type\":\"people\",\"name\":\"王俊俊\",\"headline\":\"存在主义心理治疗，法兰克福批判与沟通，想关注微信公号在资料里\",\"urlToken\":\"wang-jun-yi-73-97\",\"userType\":\"people\",\"isAdvertiser\":false,\"avatarUrl\":\"https:\\u002F\\u002Fpic3.zhimg.com\\u002Fv2-82e56c8f0e94973bb72b4d7c637a0a36_is.jpg\",\"isOrg\":false,\"gender\":1,\"url\":\"http:\\u002F\\u002Fwww.zhihu.com\\u002Fapi\\u002Fv4\\u002Fpeople\\u002F9af8a73b750593df11a8bce16bc7c162\",\"badge\":[],\"id\":\"9af8a73b750593df11a8bce16bc7c162\"},\"url\":\"http:\\u002F\\u002Fwww.zhihu.com\\u002Fapi\\u002Fv4\\u002Fanswers\\u002F1062447648\",\"question\":{\"questionType\":\"normal\",\"title\":\"肖战到底能不能度过这个难关？\",\"url\":\"http:\\u002F\\u002Fwww.zhihu.com\\u002Fapi\\u002Fv4\\u002Fquestions\\u002F376184358\",\"created\":1583143641,\"type\":\"question\",\"id\":376184358,\"updatedTime\":1583598091},\"id\":1062447648,\"excerpt\":\"我是俊俊。我狼人杀胜率比较高，在70%左右。一般玩一整天只输两盘而且还是意外那种。就昨天晚上，我玩了一局暗恋者板子，恰好我就拿到暗恋者，我一看我对面是个头像不错的小姐姐，我就直接暗恋她了。结果警上预言家给她丢个查杀，当然另一个也跳出来，我盘…\",\"updatedTime\":1583613990,\"commentCount\":45,\"extras\":\"\",\"answerType\":\"answer\",\"createdTime\":1583570334,\"isCopyable\":true,\"type\":\"answer\",\"thumbnail\":\"https:\\u002F\\u002Fpic3.zhimg.com\\u002Fv2-fd71fe352670117cc7326297940e34fe_200x112.jpg\",\"voteupCount\":223}},{\"content\":{\"isCollapsed\":false,\"author\":{\"avatarUrlTemplate\":\"https:\\u002F\\u002Fpic4.zhimg.com\\u002F9a558a749_{size}.jpg\",\"type\":\"people\",\"name\":\"西门镜湖\",\"headline\":\"公众号：镜湖健身 中国第一神秘女子健身团体\",\"urlToken\":\"myrror\",\"userType\":\"people\",\"isAdvertiser\":false,\"avatarUrl\":\"https:\\u002F\\u002Fpic4.zhimg.com\\u002F9a558a749_is.jpg\",\"isOrg\":false,\"gender\":1,\"url\":\"http:\\u002F\\u002Fwww.zhihu.com\\u002Fapi\\u002Fv4\\u002Fpeople\\u002Fd1128790790e215428dcae2a2a51d4f3\",\"badge\":[],\"id\":\"d1128790790e215428dcae2a2a51d4f3\"},\"url\":\"http:\\u002F\\u002Fwww.zhihu.com\\u002Fapi\\u002Fv4\\u002Fanswers\\u002F1054533745\",\"question\":{\"questionType\":\"normal\",\"title\":\"健身五年的朋友突然说不练了，这是为啥？\",\"url\":\"http:\\u002F\\u002Fwww.zhihu.com\\u002Fapi\\u002Fv4\\u002Fquestions\\u002F372787162\",\"created\":1582013596,\"type\":\"question\",\"id\":372787162,\"updatedTime\":1583074689},\"id\":1054533745,\"excerpt\":\"健身有几个放弃的阶段，半年，2年，5年。半年半年的人，根本就没入门，有的买课了，有的根本没有买课，自己到健身房随便摸摸器械，跑步机椭圆机全摸一遍，大约一个月左右，再零零散散 的来健身房洗澡几次，拖拖拉拉半年左右，再也不来了。2年的人是有一点点…\",\"updatedTime\":1583562392,\"commentCount\":138,\"extras\":\"\",\"answerType\":\"answer\",\"createdTime\":1583282279,\"isCopyable\":false,\"type\":\"answer\",\"thumbnail\":\"https:\\u002F\\u002Fpic1.zhimg.com\\u002Fv2-e6446d8fef29dc20c7f850e09a70f283_200x112.jpg\",\"voteupCount\":633}}],\"title\":\"这才是我要的理智答案\",\"url\":\"http:\\u002F\\u002Fwww.zhihu.com\\u002Fapi\\u002Fv4\\u002Fcollections\\u002F58222796\",\"totalCount\":716,\"creator\":{\"avatarUrlTemplate\":\"https:\\u002F\\u002Fpic3.zhimg.com\\u002Fv2-82e56c8f0e94973bb72b4d7c637a0a36_{size}.jpg\",\"type\":\"people\",\"name\":\"王俊俊\",\"headline\":\"存在主义心理治疗，法兰克福批判与沟通，想关注微信公号在资料里\",\"urlToken\":\"wang-jun-yi-73-97\",\"userType\":\"people\",\"isAdvertiser\":false,\"avatarUrl\":\"https:\\u002F\\u002Fpic3.zhimg.com\\u002Fv2-82e56c8f0e94973bb72b4d7c637a0a36_is.jpg\",\"isOrg\":false,\"gender\":1,\"url\":\"http:\\u002F\\u002Fwww.zhihu.com\\u002Fapi\\u002Fv4\\u002Fpeople\\u002F9af8a73b750593df11a8bce16bc7c162\",\"badge\":[],\"id\":\"9af8a73b750593df11a8bce16bc7c162\"},\"isFollowing\":false,\"followerCount\":13996,\"isPublic\":true,\"type\":\"collection\",\"id\":58222796},\"231549215\":{\"favitems\":[{\"content\":{\"updated\":1538256358,\"author\":{\"avatarUrlTemplate\":\"https:\\u002F\\u002Fpic2.zhimg.com\\u002Fv2-478511c1a36474071e025cfe9189cf53_{size}.jpg\",\"type\":\"people\",\"name\":\"Manolo\",\"headline\":\"要倚一枝香雪，吹澈玉城霞\",\"urlToken\":\"econhistorylover\",\"userType\":\"people\",\"isAdvertiser\":false,\"avatarUrl\":\"https:\\u002F\\u002Fpic2.zhimg.com\\u002Fv2-478511c1a36474071e025cfe9189cf53_is.jpg\",\"isOrg\":false,\"gender\":1,\"url\":\"http:\\u002F\\u002Fwww.zhihu.com\\u002Fapi\\u002Fv4\\u002Fpeople\\u002F1d1c9784aab4f00964215f435e479924\",\"badge\":[{\"type\":\"best_answerer\",\"description\":\"优秀回答者\"}],\"id\":\"1d1c9784aab4f00964215f435e479924\"},\"url\":\"http:\\u002F\\u002Fzhuanlan.zhihu.com\\u002Fp\\u002F45695611\",\"commentPermission\":\"all\",\"title\":\"工资统计门道多——再驳工业革命的“高工资”起源说\",\"excerpt\":\"关于工业革命的起因，之前的专栏已介绍过近年来颇具影响力的“高工资”假说[1]：17-18世纪，相比欧洲乃至世界的其它地区，英国工人的真实工资取得了前所未有的增长。当法国工人“吃糠咽菜”之时，英国工人却能经常吃肉，时不时还能大啖啤酒。既然劳动变贵，…\",\"created\":1538256358,\"commentCount\":25,\"imageUrl\":\"https:\\u002F\\u002Fpic3.zhimg.com\\u002Fv2-f0ac751b39201147088f6b0e9038f986_r.jpg\",\"excerptTitle\":\"\",\"type\":\"article\",\"id\":45695611,\"voteupCount\":172}},{\"content\":{\"isCollapsed\":false,\"author\":{\"avatarUrlTemplate\":\"https:\\u002F\\u002Fpic4.zhimg.com\\u002Fv2-1e2938956c41fab43225512311944420_{size}.jpg\",\"type\":\"people\",\"name\":\"宮本顕治\",\"headline\":\"没什么墨水，默默无闻的半吊子。\",\"urlToken\":\"qiu-shan-jin-tian-chu-ben-zi-liao-ma\",\"userType\":\"people\",\"isAdvertiser\":false,\"avatarUrl\":\"https:\\u002F\\u002Fpic4.zhimg.com\\u002Fv2-1e2938956c41fab43225512311944420_is.jpg\",\"isOrg\":false,\"gender\":1,\"url\":\"http:\\u002F\\u002Fwww.zhihu.com\\u002Fapi\\u002Fv4\\u002Fpeople\\u002Ffc03620e8f2cb361ceb4788a2c24f641\",\"badge\":[],\"id\":\"fc03620e8f2cb361ceb4788a2c24f641\"},\"url\":\"http:\\u002F\\u002Fwww.zhihu.com\\u002Fapi\\u002Fv4\\u002Fanswers\\u002F1045022746\",\"question\":{\"questionType\":\"normal\",\"title\":\"学生群体为何激进？\",\"url\":\"http:\\u002F\\u002Fwww.zhihu.com\\u002Fapi\\u002Fv4\\u002Fquestions\\u002F26464467\",\"created\":1415011831,\"type\":\"question\",\"id\":26464467,\"updatedTime\":1415011831},\"id\":1045022746,\"excerpt\":\"你如果产生学生群体容易激进或者激进的就是学生群体的印象，那你附近一定有一个网右理论复读机。和这种复读机做朋友可以，但是从复读机那里学东西是得不偿失的。O国网右认为学生群体激进，和编造“年轻时思想不左，是没良心！长大成熟后思想不右，是没脑子…\",\"updatedTime\":1582921416,\"commentCount\":8,\"extras\":\"\",\"answerType\":\"answer\",\"createdTime\":1582921416,\"isCopyable\":true,\"type\":\"answer\",\"thumbnail\":\"\",\"voteupCount\":276}}],\"title\":\"思想的笔迹\",\"url\":\"http:\\u002F\\u002Fwww.zhihu.com\\u002Fapi\\u002Fv4\\u002Fcollections\\u002F231549215\",\"totalCount\":343,\"creator\":{\"avatarUrlTemplate\":\"https:\\u002F\\u002Fpic1.zhimg.com\\u002Fv2-c4ef99fa97f61d6172ace386927dd4a9_{size}.jpg\",\"type\":\"people\",\"name\":\"不翔龍\",\"headline\":\"对真理要保持无知的态度\\n对无知要保持反对的态度\",\"urlToken\":\"syanglung\",\"userType\":\"people\",\"isAdvertiser\":false,\"avatarUrl\":\"https:\\u002F\\u002Fpic1.zhimg.com\\u002Fv2-c4ef99fa97f61d6172ace386927dd4a9_is.jpg\",\"isOrg\":false,\"gender\":1,\"url\":\"http:\\u002F\\u002Fwww.zhihu.com\\u002Fapi\\u002Fv4\\u002Fpeople\\u002F13a1b169bd57f2d5e3366bac6ed37f20\",\"badge\":[],\"id\":\"13a1b169bd57f2d5e3366bac6ed37f20\"},\"isFollowing\":false,\"followerCount\":144,\"isPublic\":true,\"type\":\"collection\",\"id\":231549215}},\"columns\":{\"smetalk\":{\"updated\":1564045277,\"description\":\"讲讲科学史，聊聊科学家，挖挖科学冷知识。\",\"intro\":\"讲讲科学史，聊聊科学家，挖挖科学冷知识。\",\"urlToken\":\"smetalk\",\"id\":\"smetalk\",\"articlesCount\":1293,\"acceptSubmission\":true,\"title\":\"Dizzy In Science\",\"url\":\"https:\\u002F\\u002Fzhuanlan.zhihu.com\\u002Fsmetalk\",\"commentPermission\":\"all\",\"created\":1460625355,\"imageUrl\":\"https:\\u002F\\u002Fpic2.zhimg.com\\u002Fv2-a6a9edf0423593dbc34cb8c73c94469b_b.jpg\",\"followers\":174180,\"type\":\"column\"},\"c_201557035\":{\"updated\":1581557558,\"description\":\"电竞GO比分情报网: www.esgo.com；公众号：西恩电竞GO；观赛群：316491493；水友开黑群：811049840\",\"intro\":\"DOTA2赛事比分、数据资讯：esgo.com\",\"urlToken\":\"c_201557035\",\"id\":\"c_201557035\",\"articlesCount\":1813,\"acceptSubmission\":true,\"title\":\"电竞GO\",\"url\":\"https:\\u002F\\u002Fzhuanlan.zhihu.com\\u002Fc_201557035\",\"commentPermission\":\"all\",\"created\":1528791837,\"imageUrl\":\"https:\\u002F\\u002Fpic1.zhimg.com\\u002Fv2-ff5f252b658b6574c0284f8269c462d5_b.jpg\",\"followers\":19236,\"type\":\"column\"},\"c_156256219\":{\"updated\":1578964070,\"description\":\"欢迎行业里的人分享自己的观点。\",\"intro\":\"告诉你手机及IoT行业发生了什么，会怎么样\",\"urlToken\":\"c_156256219\",\"id\":\"c_156256219\",\"articlesCount\":69,\"acceptSubmission\":true,\"title\":\"QS智能终端行业思考笔记\",\"url\":\"https:\\u002F\\u002Fzhuanlan.zhihu.com\\u002Fc_156256219\",\"commentPermission\":\"all\",\"created\":1516000241,\"imageUrl\":\"https:\\u002F\\u002Fpic2.zhimg.com\\u002Fv2-d49cb82b4dd7b8ac593d13c601255427_b.jpg\",\"followers\":3087,\"type\":\"column\"},\"testdaily\":{\"updated\":1561365734,\"description\":\"TestDaily致力于最负责任的北美考试咨询和干货的分享和传播，并通过大量的社群服务为出国党提供交流和陪伴，已经成为最大的北美考试出国党线上社群。\",\"intro\":\"有干货，有陪伴，有进步。\",\"urlToken\":\"testdaily\",\"id\":\"testdaily\",\"articlesCount\":509,\"acceptSubmission\":true,\"title\":\"TD北美留学进化论\",\"url\":\"https:\\u002F\\u002Fzhuanlan.zhihu.com\\u002Ftestdaily\",\"commentPermission\":\"all\",\"created\":1482324143,\"imageUrl\":\"https:\\u002F\\u002Fpic3.zhimg.com\\u002Fv2-948d45f54a0c68635c15b6cb0f118b5e_b.jpg\",\"followers\":3736,\"type\":\"column\"}}},\"articles\":{\"voters\":{}},\"favlists\":{\"relations\":{}},\"pins\":{\"reviewing\":{}},\"topstory\":{\"recommend\":{\"isFetching\":false,\"isDrained\":false,\"afterId\":0,\"items\":[],\"next\":null},\"follow\":{\"isFetching\":false,\"isDrained\":false,\"afterId\":0,\"items\":[],\"next\":null},\"followWonderful\":{\"isFetching\":false,\"isDrained\":false,\"afterId\":0,\"items\":[],\"next\":null},\"sidebar\":null,\"announcement\":{},\"hotListCategories\":[],\"hotList\":[],\"guestFeeds\":{\"isFetching\":false,\"isDrained\":false,\"afterId\":0,\"items\":[],\"next\":null},\"followExtra\":{\"isNewUser\":null,\"isFetched\":false,\"followCount\":0,\"followers\":[]}},\"upload\":{},\"video\":{\"data\":{},\"shareVideoDetail\":{},\"last\":{}},\"zvideos\":{\"campaigns\":{},\"tagoreCategory\":[],\"recommendations\":{}},\"guide\":{\"guide\":{\"isFetching\":false,\"isShowGuide\":false}},\"reward\":{\"answer\":{},\"article\":{},\"question\":{}},\"search\":{\"recommendSearch\":[],\"topSearch\":{},\"searchValue\":{},\"suggestSearch\":{},\"attachedInfo\":{},\"nextOffset\":{},\"topicReview\":{},\"generalByQuery\":{},\"generalByQueryInADay\":{},\"generalByQueryInAWeek\":{},\"generalByQueryInThreeMonths\":{},\"peopleByQuery\":{},\"topicByQuery\":{},\"columnByQuery\":{},\"liveByQuery\":{},\"albumByQuery\":{},\"eBookByQuery\":{}},\"publicEditPermission\":{},\"readStatus\":{},\"draftHistory\":{\"history\":{},\"drafts\":{}},\"notifications\":{\"recent\":{\"isFetching\":false,\"isDrained\":false,\"isPrevDrained\":false,\"result\":[],\"next\":null,\"key\":null},\"history\":{\"isFetching\":false,\"isDrained\":false,\"isPrevDrained\":false,\"result\":[],\"next\":null,\"key\":null},\"notificationActors\":{\"isFetching\":false,\"isDrained\":false,\"isPrevDrained\":false,\"result\":[],\"next\":null,\"key\":null},\"recentNotificationEntry\":\"all\"},\"specials\":{\"entities\":{},\"all\":{\"data\":[],\"paging\":{},\"isLoading\":false}},\"collections\":{\"hot\":{\"data\":[],\"paging\":{},\"isLoading\":false},\"collectionFeeds\":{}},\"mcn\":{\"bindInfo\":{},\"memberCategoryList\":[],\"producerList\":[],\"categoryList\":[]},\"mcnActivity\":{\"household\":{\"products\":{},\"rankList\":{\"total\":{},\"yesterday\":{}}}},\"brand\":{\"contentPlugin\":{}},\"metaLink\":{\"metaLinkTemplate\":{}},\"host\":{\"roundtable\":{\"subjects\":{},\"applications\":{\"total\":0},\"online\":{\"total\":0},\"applies\":{},\"details\":{},\"includedResource\":{},\"hotQuestions\":{},\"warmupContents\":{},\"batchInclude\":{}},\"special\":{\"applications\":{\"total\":0,\"pages\":{},\"entities\":{}},\"censorHistory\":{},\"drafts\":{}}},\"knowledgePlan\":{\"activityInfos\":{},\"activityStatuses\":{},\"premiumContents\":{},\"activityCreationList\":{},\"allCreationRankList\":{}},\"wallE\":{\"protectHistory\":{\"total\":0,\"pages\":{},\"entities\":{}}},\"roundtables\":{\"hotQuestions\":{},\"warmupContents\":{},\"hotDiscussions\":{},\"selectedContents\":{},\"roundtables\":{}}},\"subAppName\":\"main\"}</script><script src=\"https://static.zhihu.com/heifetz/vendor.e9fe143ca13fe8780d0b.js\"></script><script src=\"https://static.zhihu.com/heifetz/main.app.f318e0f5b1dc663947d2.js\"></script><script src=\"https://static.zhihu.com/heifetz/main.explore-routes.c4c22f03ff0abec7dd6f.js\"></script><script async=\"\" src=\"https://hm.baidu.com/hm.js?98beee57fd2ef70ccdd5ca52b9740c49\"></script><script async=\"\" src=\"https://zz.bdstatic.com/linksubmit/push.js\"></script></body></html>\n"
    }
   ],
   "source": [
    "print('為什麼要使用 BeatifulSoup 處理？處理後的型態是什麼？ => ')\n",
    "soup = BeautifulSoup(r.text, 'html5lib')\n",
    "print(soup)\n"
   ]
  },
  {
   "cell_type": "code",
   "execution_count": 29,
   "metadata": {},
   "outputs": [
    {
     "name": "stdout",
     "output_type": "stream",
     "text": "處理後的型態是什麼？ => \n<class 'bs4.BeautifulSoup'>\n"
    }
   ],
   "source": [
    "print('處理後的型態是什麼？ => ')\n",
    "\n",
    "print(type(soup))"
   ]
  },
  {
   "cell_type": "markdown",
   "metadata": {},
   "source": [
    "### 2. 知乎： https://www.zhihu.com/explore"
   ]
  },
  {
   "cell_type": "code",
   "execution_count": 24,
   "metadata": {},
   "outputs": [
    {
     "name": "stdout",
     "output_type": "stream",
     "text": "<html>\n<head><title>400 Bad Request</title></head>\n<body bgcolor=\"white\">\n<center><h1>400 Bad Request</h1></center>\n<hr><center>openresty</center>\n</body>\n</html>\n\n"
    }
   ],
   "source": [
    "url = 'https://www.zhihu.com/explore'\n",
    "r = requests.get(url)\n",
    "r.encoding = 'utf-8'\n",
    "\n",
    "print(r.text[0:600])"
   ]
  },
  {
   "cell_type": "markdown",
   "metadata": {},
   "source": [
    "### 3. 觀察一下知乎回來的資料好像有點怪怪的，該怎麼解決？"
   ]
  },
  {
   "cell_type": "code",
   "execution_count": 30,
   "metadata": {},
   "outputs": [
    {
     "name": "stdout",
     "output_type": "stream",
     "text": "<!doctype html>\n<html lang=\"zh\" data-hairline=\"true\" data-theme=\"light\"><head><meta charSet=\"utf-8\"/><title data-react-helmet=\"true\">发现 - 知乎</title><meta name=\"viewport\" content=\"width=device-width,initial-scale=1,maximum-scale=1\"/><meta name=\"renderer\" content=\"webkit\"/><meta name=\"force-rendering\" content=\"webkit\"/><meta http-equiv=\"X-UA-Compatible\" content=\"IE=edge,chrome=1\"/><meta name=\"google-site-verification\" content=\"FTeR0c8arOPKh8c5DYh_9uu98_zJbaWw53J-Sch9MTg\"/><meta name=\"description\" property=\"og:description\" content=\"有问题，上知乎。知乎，可信赖的问答社区，以让每个人高效获得可信赖的解答为使命。知乎凭借认真、专业和友善的社区氛围，结构化、易获得的\n"
    }
   ],
   "source": [
    "import requests\n",
    "url = 'https://www.zhihu.com/explore'\n",
    "#撰寫程式存取 API 且要添加標頭\n",
    "headers = { 'accept': 'text/html,application/xhtml+xml,application/xml;q=0.9,image/webp,image/apng,*/*;q=0.8,application/signed-exchange;v=b3',\n",
    "    'accept-encoding': 'gzip, deflate, br',\n",
    "    'accept-language': 'zh-TW,zh;q=0.9,en-US;q=0.8,en;q=0.7,zh-CN;q=0.6,ja;q=0.5',\n",
    "    'cache-control': 'max-age=0',\n",
    "    'cookie': '_zap=a5634a47-a806-4828-8ab4-2cbc03734bda; d_c0=\"AFBoGjc1fg6PTus2_H76YgMM3xvztVHRnCs=|1541767835\"; __gads=ID=18e1196642fc5994:T=1544975081:S=ALNI_MZ2lQjiLHPlLxjVqGGH6o-EiL2luQ; z_c0=\"2|1:0|10:1551204934|4:z_c0|92:Mi4xM1FkMERnQUFBQUFBVUdnYU56Vi1EaVlBQUFCZ0FsVk5SdEJpWFFDUXZ6REVHVWw0QWtXblh6WGt4T183ekdxNFhn|fa542d11758c34207cdd6a1edf85de768ac02624c8cb53aa687017af49accd7b\"; tst=r; q_c1=aed50b9b158344d6ac78a230c8970d83|1560948516000|1543510922000; __utmv=51854390.100--|2=registration_date=20190226=1^3=entry_date=20181130=1; _xsrf=13cd498d-6139-4c50-99a6-df5c749dd64c; tgw_l7_route=4860b599c6644634a0abcd4d10d37251; __utma=51854390.567487929.1560948518.1560950333.1562469680.3; __utmb=51854390.0.10.1562469680; __utmc=51854390; __utmz=51854390.1562469680.3.3.utmcsr=localhost:8888|utmccn=(referral)|utmcmd=referral|utmcct=/notebooks/day2-example.ipynb',\n",
    "    'referer': 'http://localhost:8888/notebooks/day2-example.ipynb',\n",
    "    'upgrade-insecure-requests': '1',\n",
    "    'user-agent': 'Mozilla/5.0 (Macintosh; Intel Mac OS X 10_13_6) AppleWebKit/537.36 (KHTML, like Gecko) Chrome/75.0.3770.100 Safari/537.36'}\n",
    "r = requests.get(url, headers=headers)\n",
    "\n",
    "r.encoding = 'utf-8'\n",
    "print(r.text[0:600])"
   ]
  },
  {
   "cell_type": "code",
   "execution_count": null,
   "metadata": {},
   "outputs": [],
   "source": []
  },
  {
   "cell_type": "code",
   "execution_count": null,
   "metadata": {},
   "outputs": [],
   "source": []
  }
 ],
 "metadata": {
  "kernelspec": {
   "display_name": "Python 3",
   "language": "python",
   "name": "python3"
  },
  "language_info": {
   "codemirror_mode": {
    "name": "ipython",
    "version": 3
   },
   "file_extension": ".py",
   "mimetype": "text/x-python",
   "name": "python",
   "nbconvert_exporter": "python",
   "pygments_lexer": "ipython3",
   "version": "3.7.4-final"
  }
 },
 "nbformat": 4,
 "nbformat_minor": 2
}