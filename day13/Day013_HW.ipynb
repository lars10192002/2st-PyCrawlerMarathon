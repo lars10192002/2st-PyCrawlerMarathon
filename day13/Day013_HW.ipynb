{
 "cells": [
  {
   "cell_type": "markdown",
   "metadata": {},
   "source": [
    "# PTT 網路爬蟲實作練習\n",
    "\n",
    "\n",
    "* 能夠利用 Request + BeatifulSour 撰寫爬蟲，並存放到合適的資料結構\n"
   ]
  },
  {
   "cell_type": "markdown",
   "metadata": {},
   "source": [
    "## 作業目標\n",
    "\n",
    "根據範例 ，完成以下問題：\n",
    "\n",
    "* ① 印出最新文章的「作者」「標題」「時間」\n",
    "* ② 印出第一頁所有文章的「作者」「標題」「時間」\n"
   ]
  },
  {
   "cell_type": "markdown",
   "metadata": {},
   "source": [
    "### ① 印出最新文章的「作者」「標題」「時間」"
   ]
  },
  {
   "cell_type": "code",
   "execution_count": 2,
   "metadata": {},
   "outputs": [],
   "source": [
    "import requests\n",
    "from bs4 import BeautifulSoup"
   ]
  },
  {
   "cell_type": "code",
   "execution_count": 3,
   "metadata": {},
   "outputs": [
    {
     "data": {
      "text/plain": "<!DOCTYPE html>\n<html><head>\n\t\t<meta charset=\"utf-8\"/>\n\t\t\n\n<meta content=\"width=device-width, initial-scale=1\" name=\"viewport\"/>\n\n<title>看板 NBA 文章列表 - 批踢踢實業坊</title>\n\n<link href=\"//images.ptt.cc/bbs/v2.27/bbs-common.css\" rel=\"stylesheet\" type=\"text/css\"/>\n<link href=\"//images.ptt.cc/bbs/v2.27/bbs-base.css\" media=\"screen\" rel=\"stylesheet\" type=\"text/css\"/>\n<link href=\"//images.ptt.cc/bbs/v2.27/bbs-custom.css\" rel=\"stylesheet\" type=\"text/css\"/>\n<link href=\"//images.ptt.cc/bbs/v2.27/pushstream.css\" media=\"screen\" rel=\"stylesheet\" type=\"text/css\"/>\n<link href=\"//images.ptt.cc/bbs/v2.27/bbs-print.css\" media=\"print\" rel=\"stylesheet\" type=\"text/css\"/>\n\n\n\n\n\t</head>\n    <body>\n\t\t\n<div id=\"topbar-container\">\n\t<div class=\"bbs-content\" id=\"topbar\">\n\t\t<a href=\"/bbs/\" id=\"logo\">批踢踢實業坊</a>\n\t\t<span>›</span>\n\t\t<a class=\"board\" href=\"/bbs/NBA/index.html\"><span class=\"board-label\">看板 </span>NBA</a>\n\t\t<a class=\"right small\" href=\"/about.html\">關於我們</a>\n\t\t<a class=\"right small\" href=\"/contact.html\">聯絡資訊</a>\n\t</div>\n</div>\n\n<div id=\"main-container\">\n\t<div id=\"action-bar-container\">\n\t\t<div class=\"action-bar\">\n\t\t\t<div class=\"btn-group btn-group-dir\">\n\t\t\t\t<a class=\"btn selected\" href=\"/bbs/NBA/index.html\">看板</a>\n\t\t\t\t<a class=\"btn\" href=\"/man/NBA/index.html\">精華區</a>\n\t\t\t</div>\n\t\t\t<div class=\"btn-group btn-group-paging\">\n\t\t\t\t<a class=\"btn wide\" href=\"/bbs/NBA/index1.html\">最舊</a>\n\t\t\t\t<a class=\"btn wide\" href=\"/bbs/NBA/index6496.html\">‹ 上頁</a>\n\t\t\t\t<a class=\"btn wide disabled\">下頁 ›</a>\n\t\t\t\t<a class=\"btn wide\" href=\"/bbs/NBA/index.html\">最新</a>\n\t\t\t</div>\n\t\t</div>\n\t</div>\n\n\t<div class=\"r-list-container action-bar-margin bbs-screen\">\n\t\t<div class=\"search-bar\">\n\t\t\t<form action=\"search\" id=\"search-bar\" type=\"get\">\n\t\t\t\t<input class=\"query\" name=\"q\" placeholder=\"搜尋文章⋯\" type=\"text\" value=\"\"/>\n\t\t\t</form>\n\t\t</div>\n\n\t\t\n\t\t\n            \n        \n        \n\t\t<div class=\"r-ent\">\n\t\t\t<div class=\"nrec\"></div>\n\t\t\t<div class=\"title\">\n\t\t\t\n\t\t\t\t(本文已被刪除) [jjeffrey1015]\n\t\t\t\n\t\t\t</div>\n\t\t\t<div class=\"meta\">\n\t\t\t\t<div class=\"author\">-</div>\n\t\t\t\t<div class=\"article-menu\">\n\t\t\t\t\t\n\t\t\t\t</div>\n\t\t\t\t<div class=\"date\"> 3/16</div>\n\t\t\t\t<div class=\"mark\"></div>\n\t\t\t</div>\n\t\t</div>\n\n\t\t\n            \n        \n        \n\t\t<div class=\"r-ent\">\n\t\t\t<div class=\"nrec\"><span class=\"hl f3\">48</span></div>\n\t\t\t<div class=\"title\">\n\t\t\t\n\t\t\t\t<a href=\"/bbs/NBA/M.1584330018.A.419.html\">[情報] 假設6月復賽，剩餘賽程安排與新賽季時間</a>\n\t\t\t\n\t\t\t</div>\n\t\t\t<div class=\"meta\">\n\t\t\t\t<div class=\"author\">liuuuuuu</div>\n\t\t\t\t<div class=\"article-menu\">\n\t\t\t\t\t\n\t\t\t\t\t<div class=\"trigger\">⋯</div>\n\t\t\t\t\t<div class=\"dropdown\">\n\t\t\t\t\t\t<div class=\"item\"><a href=\"/bbs/NBA/search?q=thread%3A%5B%E6%83%85%E5%A0%B1%5D+%E5%81%87%E8%A8%AD6%E6%9C%88%E5%BE%A9%E8%B3%BD%EF%BC%8C%E5%89%A9%E9%A4%98%E8%B3%BD%E7%A8%8B%E5%AE%89%E6%8E%92%E8%88%87%E6%96%B0%E8%B3%BD%E5%AD%A3%E6%99%82%E9%96%93\">搜尋同標題文章</a></div>\n\t\t\t\t\t\t\n\t\t\t\t\t\t<div class=\"item\"><a href=\"/bbs/NBA/search?q=author%3Aliuuuuuu\">搜尋看板內 liuuuuuu 的文章</a></div>\n\t\t\t\t\t\t\n\t\t\t\t\t</div>\n\t\t\t\t\t\n\t\t\t\t</div>\n\t\t\t\t<div class=\"date\"> 3/16</div>\n\t\t\t\t<div class=\"mark\"></div>\n\t\t\t</div>\n\t\t</div>\n\n\t\t\n            \n        \n        \n\t\t<div class=\"r-ent\">\n\t\t\t<div class=\"nrec\"></div>\n\t\t\t<div class=\"title\">\n\t\t\t\n\t\t\t\t(本文已被刪除) [jjeffrey1015]\n\t\t\t\n\t\t\t</div>\n\t\t\t<div class=\"meta\">\n\t\t\t\t<div class=\"author\">-</div>\n\t\t\t\t<div class=\"article-menu\">\n\t\t\t\t\t\n\t\t\t\t</div>\n\t\t\t\t<div class=\"date\"> 3/16</div>\n\t\t\t\t<div class=\"mark\"></div>\n\t\t\t</div>\n\t\t</div>\n\n\t\t\n            \n        \n        \n\t\t<div class=\"r-ent\">\n\t\t\t<div class=\"nrec\"><span class=\"hl f3\">24</span></div>\n\t\t\t<div class=\"title\">\n\t\t\t\n\t\t\t\t<a href=\"/bbs/NBA/M.1584334598.A.BFA.html\">[外絮] 對Gallinari而言 NBA停賽並不突然</a>\n\t\t\t\n\t\t\t</div>\n\t\t\t<div class=\"meta\">\n\t\t\t\t<div class=\"author\">love1500274</div>\n\t\t\t\t<div class=\"article-menu\">\n\t\t\t\t\t\n\t\t\t\t\t<div class=\"trigger\">⋯</div>\n\t\t\t\t\t<div class=\"dropdown\">\n\t\t\t\t\t\t<div class=\"item\"><a href=\"/bbs/NBA/search?q=thread%3A%5B%E5%A4%96%E7%B5%AE%5D+%E5%B0%8DGallinari%E8%80%8C%E8%A8%80+NBA%E5%81%9C%E8%B3%BD%E4%B8%A6%E4%B8%8D%E7%AA%81%E7%84%B6\">搜尋同標題文章</a></div>\n\t\t\t\t\t\t\n\t\t\t\t\t\t<div class=\"item\"><a href=\"/bbs/NBA/search?q=author%3Alove1500274\">搜尋看板內 love1500274 的文章</a></div>\n\t\t\t\t\t\t\n\t\t\t\t\t</div>\n\t\t\t\t\t\n\t\t\t\t</div>\n\t\t\t\t<div class=\"date\"> 3/16</div>\n\t\t\t\t<div class=\"mark\"></div>\n\t\t\t</div>\n\t\t</div>\n\n\t\t\n            \n        \n        \n\t\t<div class=\"r-ent\">\n\t\t\t<div class=\"nrec\"><span class=\"hl f2\">4</span></div>\n\t\t\t<div class=\"title\">\n\t\t\t\n\t\t\t\t(本文已被刪除) [Tuesday]\n\t\t\t\n\t\t\t</div>\n\t\t\t<div class=\"meta\">\n\t\t\t\t<div class=\"author\">-</div>\n\t\t\t\t<div class=\"article-menu\">\n\t\t\t\t\t\n\t\t\t\t</div>\n\t\t\t\t<div class=\"date\"> 3/16</div>\n\t\t\t\t<div class=\"mark\"></div>\n\t\t\t</div>\n\t\t</div>\n\n\t\t\n            \n        \n        \n\t\t<div class=\"r-ent\">\n\t\t\t<div class=\"nrec\"><span class=\"hl f3\">54</span></div>\n\t\t\t<div class=\"title\">\n\t\t\t\n\t\t\t\t<a href=\"/bbs/NBA/M.1584338122.A.DCC.html\">[花邊] 考慮海外發展？湯瑪斯:需要一支想要你的球隊</a>\n\t\t\t\n\t\t\t</div>\n\t\t\t<div class=\"meta\">\n\t\t\t\t<div class=\"author\">thnlkj0665</div>\n\t\t\t\t<div class=\"article-menu\">\n\t\t\t\t\t\n\t\t\t\t\t<div class=\"trigger\">⋯</div>\n\t\t\t\t\t<div class=\"dropdown\">\n\t\t\t\t\t\t<div class=\"item\"><a href=\"/bbs/NBA/search?q=thread%3A%5B%E8%8A%B1%E9%82%8A%5D+%E8%80%83%E6%85%AE%E6%B5%B7%E5%A4%96%E7%99%BC%E5%B1%95%EF%BC%9F%E6%B9%AF%E7%91%AA%E6%96%AF%3A%E9%9C%80%E8%A6%81%E4%B8%80%E6%94%AF%E6%83%B3%E8%A6%81%E4%BD%A0%E7%9A%84%E7%90%83%E9%9A%8A\">搜尋同標題文章</a></div>\n\t\t\t\t\t\t\n\t\t\t\t\t\t<div class=\"item\"><a href=\"/bbs/NBA/search?q=author%3Athnlkj0665\">搜尋看板內 thnlkj0665 的文章</a></div>\n\t\t\t\t\t\t\n\t\t\t\t\t</div>\n\t\t\t\t\t\n\t\t\t\t</div>\n\t\t\t\t<div class=\"date\"> 3/16</div>\n\t\t\t\t<div class=\"mark\"></div>\n\t\t\t</div>\n\t\t</div>\n\n\t\t\n            \n        \n        \n\t\t<div class=\"r-ent\">\n\t\t\t<div class=\"nrec\"><span class=\"hl f3\">38</span></div>\n\t\t\t<div class=\"title\">\n\t\t\t\n\t\t\t\t<a href=\"/bbs/NBA/M.1584342145.A.68A.html\">[花邊] LBJ開玩笑說他要去Wakanda</a>\n\t\t\t\n\t\t\t</div>\n\t\t\t<div class=\"meta\">\n\t\t\t\t<div class=\"author\">pneumo</div>\n\t\t\t\t<div class=\"article-menu\">\n\t\t\t\t\t\n\t\t\t\t\t<div class=\"trigger\">⋯</div>\n\t\t\t\t\t<div class=\"dropdown\">\n\t\t\t\t\t\t<div class=\"item\"><a href=\"/bbs/NBA/search?q=thread%3A%5B%E8%8A%B1%E9%82%8A%5D+LBJ%E9%96%8B%E7%8E%A9%E7%AC%91%E8%AA%AA%E4%BB%96%E8%A6%81%E5%8E%BBWakanda\">搜尋同標題文章</a></div>\n\t\t\t\t\t\t\n\t\t\t\t\t\t<div class=\"item\"><a href=\"/bbs/NBA/search?q=author%3Apneumo\">搜尋看板內 pneumo 的文章</a></div>\n\t\t\t\t\t\t\n\t\t\t\t\t</div>\n\t\t\t\t\t\n\t\t\t\t</div>\n\t\t\t\t<div class=\"date\"> 3/16</div>\n\t\t\t\t<div class=\"mark\"></div>\n\t\t\t</div>\n\t\t</div>\n\n\t\t\n        \n        <div class=\"r-list-sep\"></div>\n            \n                \n        \n        \n\t\t<div class=\"r-ent\">\n\t\t\t<div class=\"nrec\"></div>\n\t\t\t<div class=\"title\">\n\t\t\t\n\t\t\t\t<a href=\"/bbs/NBA/M.1558698194.A.1DC.html\">[公告] 板規v6.8</a>\n\t\t\t\n\t\t\t</div>\n\t\t\t<div class=\"meta\">\n\t\t\t\t<div class=\"author\">Vedan</div>\n\t\t\t\t<div class=\"article-menu\">\n\t\t\t\t\t\n\t\t\t\t\t<div class=\"trigger\">⋯</div>\n\t\t\t\t\t<div class=\"dropdown\">\n\t\t\t\t\t\t<div class=\"item\"><a href=\"/bbs/NBA/search?q=thread%3A%5B%E5%85%AC%E5%91%8A%5D+%E6%9D%BF%E8%A6%8Fv6.8\">搜尋同標題文章</a></div>\n\t\t\t\t\t\t\n\t\t\t\t\t\t<div class=\"item\"><a href=\"/bbs/NBA/search?q=author%3AVedan\">搜尋看板內 Vedan 的文章</a></div>\n\t\t\t\t\t\t\n\t\t\t\t\t</div>\n\t\t\t\t\t\n\t\t\t\t</div>\n\t\t\t\t<div class=\"date\"> 5/24</div>\n\t\t\t\t<div class=\"mark\">!</div>\n\t\t\t</div>\n\t\t</div>\n\n            \n                \n        \n        \n\t\t<div class=\"r-ent\">\n\t\t\t<div class=\"nrec\"><span class=\"hl f3\">39</span></div>\n\t\t\t<div class=\"title\">\n\t\t\t\n\t\t\t\t<a href=\"/bbs/NBA/M.1571971445.A.8A8.html\">[公告] 版主上任相關事項 </a>\n\t\t\t\n\t\t\t</div>\n\t\t\t<div class=\"meta\">\n\t\t\t\t<div class=\"author\">qazwsx879345</div>\n\t\t\t\t<div class=\"article-menu\">\n\t\t\t\t\t\n\t\t\t\t\t<div class=\"trigger\">⋯</div>\n\t\t\t\t\t<div class=\"dropdown\">\n\t\t\t\t\t\t<div class=\"item\"><a href=\"/bbs/NBA/search?q=thread%3A%5B%E5%85%AC%E5%91%8A%5D+%E7%89%88%E4%B8%BB%E4%B8%8A%E4%BB%BB%E7%9B%B8%E9%97%9C%E4%BA%8B%E9%A0%85+\">搜尋同標題文章</a></div>\n\t\t\t\t\t\t\n\t\t\t\t\t\t<div class=\"item\"><a href=\"/bbs/NBA/search?q=author%3Aqazwsx879345\">搜尋看板內 qazwsx879345 的文章</a></div>\n\t\t\t\t\t\t\n\t\t\t\t\t</div>\n\t\t\t\t\t\n\t\t\t\t</div>\n\t\t\t\t<div class=\"date\">10/25</div>\n\t\t\t\t<div class=\"mark\">!</div>\n\t\t\t</div>\n\t\t</div>\n\n            \n                \n        \n        \n\t\t<div class=\"r-ent\">\n\t\t\t<div class=\"nrec\"><span class=\"hl f3\">10</span></div>\n\t\t\t<div class=\"title\">\n\t\t\t\n\t\t\t\t<a href=\"/bbs/NBA/M.1583083184.A.C4D.html\">[情報] SEASON Schedule 賽程 March 19–20</a>\n\t\t\t\n\t\t\t</div>\n\t\t\t<div class=\"meta\">\n\t\t\t\t<div class=\"author\">Acetoxy</div>\n\t\t\t\t<div class=\"article-menu\">\n\t\t\t\t\t\n\t\t\t\t\t<div class=\"trigger\">⋯</div>\n\t\t\t\t\t<div class=\"dropdown\">\n\t\t\t\t\t\t<div class=\"item\"><a href=\"/bbs/NBA/search?q=thread%3A%5B%E6%83%85%E5%A0%B1%5D+SEASON+Schedule+%E8%B3%BD%E7%A8%8B+March+19%E2%80%9320\">搜尋同標題文章</a></div>\n\t\t\t\t\t\t\n\t\t\t\t\t\t<div class=\"item\"><a href=\"/bbs/NBA/search?q=author%3AAcetoxy\">搜尋看板內 Acetoxy 的文章</a></div>\n\t\t\t\t\t\t\n\t\t\t\t\t</div>\n\t\t\t\t\t\n\t\t\t\t</div>\n\t\t\t\t<div class=\"date\"> 3/02</div>\n\t\t\t\t<div class=\"mark\"></div>\n\t\t\t</div>\n\t\t</div>\n\n            \n                \n        \n        \n\t\t<div class=\"r-ent\">\n\t\t\t<div class=\"nrec\"><span class=\"hl f3\">66</span></div>\n\t\t\t<div class=\"title\">\n\t\t\t\n\t\t\t\t<a href=\"/bbs/NBA/M.1583725468.A.281.html\">[公告] 第一次被退文，可在三天後刪除退文</a>\n\t\t\t\n\t\t\t</div>\n\t\t\t<div class=\"meta\">\n\t\t\t\t<div class=\"author\">Vedan</div>\n\t\t\t\t<div class=\"article-menu\">\n\t\t\t\t\t\n\t\t\t\t\t<div class=\"trigger\">⋯</div>\n\t\t\t\t\t<div class=\"dropdown\">\n\t\t\t\t\t\t<div class=\"item\"><a href=\"/bbs/NBA/search?q=thread%3A%5B%E5%85%AC%E5%91%8A%5D+%E7%AC%AC%E4%B8%80%E6%AC%A1%E8%A2%AB%E9%80%80%E6%96%87%EF%BC%8C%E5%8F%AF%E5%9C%A8%E4%B8%89%E5%A4%A9%E5%BE%8C%E5%88%AA%E9%99%A4%E9%80%80%E6%96%87\">搜尋同標題文章</a></div>\n\t\t\t\t\t\t\n\t\t\t\t\t\t<div class=\"item\"><a href=\"/bbs/NBA/search?q=author%3AVedan\">搜尋看板內 Vedan 的文章</a></div>\n\t\t\t\t\t\t\n\t\t\t\t\t</div>\n\t\t\t\t\t\n\t\t\t\t</div>\n\t\t\t\t<div class=\"date\"> 3/09</div>\n\t\t\t\t<div class=\"mark\">M</div>\n\t\t\t</div>\n\t\t</div>\n\n            \n                \n        \n        \n\t\t<div class=\"r-ent\">\n\t\t\t<div class=\"nrec\"><span class=\"hl f0\">X9</span></div>\n\t\t\t<div class=\"title\">\n\t\t\t\n\t\t\t\t<a href=\"/bbs/NBA/M.1583978242.A.249.html\">[公告]大怒灌 </a>\n\t\t\t\n\t\t\t</div>\n\t\t\t<div class=\"meta\">\n\t\t\t\t<div class=\"author\">namie810303</div>\n\t\t\t\t<div class=\"article-menu\">\n\t\t\t\t\t\n\t\t\t\t\t<div class=\"trigger\">⋯</div>\n\t\t\t\t\t<div class=\"dropdown\">\n\t\t\t\t\t\t<div class=\"item\"><a href=\"/bbs/NBA/search?q=thread%3A%5B%E5%85%AC%E5%91%8A%5D%E5%A4%A7%E6%80%92%E7%81%8C+\">搜尋同標題文章</a></div>\n\t\t\t\t\t\t\n\t\t\t\t\t\t<div class=\"item\"><a href=\"/bbs/NBA/search?q=author%3Anamie810303\">搜尋看板內 namie810303 的文章</a></div>\n\t\t\t\t\t\t\n\t\t\t\t\t</div>\n\t\t\t\t\t\n\t\t\t\t</div>\n\t\t\t\t<div class=\"date\"> 3/12</div>\n\t\t\t\t<div class=\"mark\">M</div>\n\t\t\t</div>\n\t\t</div>\n\n            \n        \n\t</div>\n\n    \n</div>\n\n\t\t\n\n<script>\n  (function(i,s,o,g,r,a,m){i['GoogleAnalyticsObject']=r;i[r]=i[r]||function(){\n  (i[r].q=i[r].q||[]).push(arguments)},i[r].l=1*new Date();a=s.createElement(o),\n  m=s.getElementsByTagName(o)[0];a.async=1;a.src=g;m.parentNode.insertBefore(a,m)\n  })(window,document,'script','https://www.google-analytics.com/analytics.js','ga');\n\n  ga('create', 'UA-32365737-1', {\n    cookieDomain: 'ptt.cc',\n    legacyCookieDomain: 'ptt.cc'\n  });\n  ga('send', 'pageview');\n</script>\n\n\n\t\t\n<script src=\"//ajax.googleapis.com/ajax/libs/jquery/2.1.1/jquery.min.js\"></script>\n<script src=\"//images.ptt.cc/bbs/v2.27/bbs.js\"></script>\n\n    \n\n</body></html>"
     },
     "execution_count": 3,
     "metadata": {},
     "output_type": "execute_result"
    }
   ],
   "source": [
    "url = 'https://www.ptt.cc/bbs/NBA/index.html'\n",
    "r = requests.get(url)\n",
    "\n",
    "soup = BeautifulSoup(r.text, \"html5lib\")\n"
   ]
  },
  {
   "cell_type": "code",
   "execution_count": 19,
   "metadata": {},
   "outputs": [
    {
     "name": "stdout",
     "output_type": "stream",
     "text": "- (本文已被刪除) [jjeffrey1015]  3/16\nliuuuuuu [情報] 假設6月復賽，剩餘賽程安排與新賽季時間  3/16\n- (本文已被刪除) [jjeffrey1015]  3/16\nlove1500274 [外絮] 對Gallinari而言 NBA停賽並不突然  3/16\n- (本文已被刪除) [Tuesday]  3/16\n"
    }
   ],
   "source": [
    "\n",
    "for d in soup.find('div','r-list-container action-bar-margin bbs-screen').find_all('div',class_='r-ent')[:5]:\n",
    "    author = d.find('div','author').text.replace('\\n','').replace('\\t','')\n",
    "    title = d.find('div','title').text.replace('\\n','').replace('\\t','')\n",
    "    date = d.find('div','date').text.replace('\\n','').replace('\\t','')\n",
    "    print(author,title,date)"
   ]
  },
  {
   "cell_type": "markdown",
   "metadata": {},
   "source": [
    "### ② 印出第一頁所有文章的「作者」「標題」「時間」"
   ]
  },
  {
   "cell_type": "code",
   "execution_count": 20,
   "metadata": {},
   "outputs": [
    {
     "name": "stdout",
     "output_type": "stream",
     "text": "- (本文已被刪除) [jjeffrey1015]  3/16\nliuuuuuu [情報] 假設6月復賽，剩餘賽程安排與新賽季時間  3/16\n- (本文已被刪除) [jjeffrey1015]  3/16\nlove1500274 [外絮] 對Gallinari而言 NBA停賽並不突然  3/16\n- (本文已被刪除) [Tuesday]  3/16\nthnlkj0665 [花邊] 考慮海外發展？湯瑪斯:需要一支想要你的球隊  3/16\npneumo [花邊] LBJ開玩笑說他要去Wakanda  3/16\nVedan [公告] 板規v6.8  5/24\nqazwsx879345 [公告] 版主上任相關事項  10/25\nAcetoxy [情報] SEASON Schedule 賽程 March 19–20  3/02\nVedan [公告] 第一次被退文，可在三天後刪除退文  3/09\nnamie810303 [公告]大怒灌   3/12\n"
    }
   ],
   "source": [
    "for d in soup.find('div','r-list-container action-bar-margin bbs-screen').find_all('div',class_='r-ent'):\n",
    "    author = d.find('div','author').text.replace('\\n','').replace('\\t','')\n",
    "    title = d.find('div','title').text.replace('\\n','').replace('\\t','')\n",
    "    date = d.find('div','date').text.replace('\\n','').replace('\\t','')\n",
    "    print(author,title,date)"
   ]
  },
  {
   "cell_type": "markdown",
   "metadata": {},
   "source": [
    "### ③ 試著爬爬看其他版的文章"
   ]
  },
  {
   "cell_type": "code",
   "execution_count": 21,
   "metadata": {},
   "outputs": [
    {
     "name": "stdout",
     "output_type": "stream",
     "text": "zzahoward Re: [心得]這波房價會不會崩跌？  3/16\nsospeter [新聞] 央行大降息將導致資金亂竄 房市恐暴衝  3/16\n- (本文已被刪除) [Reewalker]  3/16\njasonfghx [新聞] 殺到見血？傳沙國擬向市場大灌油、價格砍至每桶25美元  3/16\nmooto [其他] 美股有可能蓋牌嗎  3/16\nsharkpops [心得] 紀律與執行力  3/16\nvodkalime607 [新聞] 逾10年來首見，南韓央行緊急降息2碼  3/16\nhuhgju1990 [心得] 捷哥 心灰意冷  3/16\nfa1234 [請益] 媽媽不認賠，如何勸說?  3/16\nqmei [心得] 以疫情推估大盤  3/16\nIanLi [公告] 精華區導覽Q&A  1/25\neyespot [公告] Stock 板規V2.6             (2019/06/20) 11/03\nnoldorelf [公告] 關於武漢肺炎新聞規範  1/25\nqwerasdft [閒聊] 2020/03/16 盤後閒聊  3/16\n"
    }
   ],
   "source": [
    "\n",
    "url = 'https://www.ptt.cc/bbs/Stock/index.html'\n",
    "r = requests.get(url)\n",
    "\n",
    "soup = BeautifulSoup(r.text, \"html5lib\")\n",
    "\n",
    "for d in soup.find('div','r-list-container action-bar-margin bbs-screen').find_all('div',class_='r-ent'):\n",
    "    author = d.find('div','author').text.replace('\\n','').replace('\\t','')\n",
    "    title = d.find('div','title').text.replace('\\n','').replace('\\t','')\n",
    "    date = d.find('div','date').text.replace('\\n','').replace('\\t','')\n",
    "    print(author,title,date)\n",
    "\n",
    "\n"
   ]
  },
  {
   "cell_type": "code",
   "execution_count": null,
   "metadata": {},
   "outputs": [],
   "source": []
  }
 ],
 "metadata": {
  "kernelspec": {
   "display_name": "Python 3",
   "language": "python",
   "name": "python3"
  },
  "language_info": {
   "codemirror_mode": {
    "name": "ipython",
    "version": 3
   },
   "file_extension": ".py",
   "mimetype": "text/x-python",
   "name": "python",
   "nbconvert_exporter": "python",
   "pygments_lexer": "ipython3",
   "version": "3.7.4-final"
  }
 },
 "nbformat": 4,
 "nbformat_minor": 2
}