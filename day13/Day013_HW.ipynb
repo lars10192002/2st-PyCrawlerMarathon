{
 "cells": [
  {
   "cell_type": "markdown",
   "metadata": {},
   "source": [
    "# PTT 網路爬蟲實作練習\n",
    "\n",
    "\n",
    "* 能夠利用 Request + BeatifulSour 撰寫爬蟲，並存放到合適的資料結構\n"
   ]
  },
  {
   "cell_type": "markdown",
   "metadata": {},
   "source": [
    "## 作業目標\n",
    "\n",
    "根據範例 ，完成以下問題：\n",
    "\n",
    "* ① 印出最新文章的「作者」「標題」「時間」\n",
    "* ② 印出第一頁所有文章的「作者」「標題」「時間」\n"
   ]
  },
  {
   "cell_type": "markdown",
   "metadata": {},
   "source": [
    "### ① 印出最新文章的「作者」「標題」「時間」"
   ]
  },
  {
   "cell_type": "code",
   "execution_count": 2,
   "metadata": {},
   "outputs": [],
   "source": [
    "import requests\n",
    "from bs4 import BeautifulSoup"
   ]
  },
  {
   "cell_type": "code",
   "execution_count": 22,
   "metadata": {},
   "outputs": [],
   "source": [
    "url = 'https://www.ptt.cc/bbs/NBA/index.html'\n",
    "r = requests.get(url)\n",
    "\n",
    "soup = BeautifulSoup(r.text, \"html5lib\")\n"
   ]
  },
  {
   "cell_type": "code",
   "execution_count": 19,
   "metadata": {},
   "outputs": [
    {
     "name": "stdout",
     "output_type": "stream",
     "text": "- (本文已被刪除) [jjeffrey1015]  3/16\nliuuuuuu [情報] 假設6月復賽，剩餘賽程安排與新賽季時間  3/16\n- (本文已被刪除) [jjeffrey1015]  3/16\nlove1500274 [外絮] 對Gallinari而言 NBA停賽並不突然  3/16\n- (本文已被刪除) [Tuesday]  3/16\n"
    }
   ],
   "source": [
    "\n",
    "for d in soup.find('div','r-list-container action-bar-margin bbs-screen').find_all('div',class_='r-ent')[:5]:\n",
    "    author = d.find('div','author').text.replace('\\n','').replace('\\t','')\n",
    "    title = d.find('div','title').text.replace('\\n','').replace('\\t','')\n",
    "    date = d.find('div','date').text.replace('\\n','').replace('\\t','')\n",
    "    print(author,title,date)"
   ]
  },
  {
   "cell_type": "markdown",
   "metadata": {},
   "source": [
    "### ② 印出第一頁所有文章的「作者」「標題」「時間」"
   ]
  },
  {
   "cell_type": "code",
   "execution_count": 20,
   "metadata": {},
   "outputs": [
    {
     "name": "stdout",
     "output_type": "stream",
     "text": "- (本文已被刪除) [jjeffrey1015]  3/16\nliuuuuuu [情報] 假設6月復賽，剩餘賽程安排與新賽季時間  3/16\n- (本文已被刪除) [jjeffrey1015]  3/16\nlove1500274 [外絮] 對Gallinari而言 NBA停賽並不突然  3/16\n- (本文已被刪除) [Tuesday]  3/16\nthnlkj0665 [花邊] 考慮海外發展？湯瑪斯:需要一支想要你的球隊  3/16\npneumo [花邊] LBJ開玩笑說他要去Wakanda  3/16\nVedan [公告] 板規v6.8  5/24\nqazwsx879345 [公告] 版主上任相關事項  10/25\nAcetoxy [情報] SEASON Schedule 賽程 March 19–20  3/02\nVedan [公告] 第一次被退文，可在三天後刪除退文  3/09\nnamie810303 [公告]大怒灌   3/12\n"
    }
   ],
   "source": [
    "for d in soup.find('div','r-list-container action-bar-margin bbs-screen').find_all('div',class_='r-ent'):\n",
    "    author = d.find('div','author').text.replace('\\n','').replace('\\t','')\n",
    "    title = d.find('div','title').text.replace('\\n','').replace('\\t','')\n",
    "    date = d.find('div','date').text.replace('\\n','').replace('\\t','')\n",
    "    print(author,title,date)"
   ]
  },
  {
   "cell_type": "markdown",
   "metadata": {},
   "source": [
    "### ③ 試著爬爬看其他版的文章"
   ]
  },
  {
   "cell_type": "code",
   "execution_count": 21,
   "metadata": {},
   "outputs": [
    {
     "name": "stdout",
     "output_type": "stream",
     "text": "zzahoward Re: [心得]這波房價會不會崩跌？  3/16\nsospeter [新聞] 央行大降息將導致資金亂竄 房市恐暴衝  3/16\n- (本文已被刪除) [Reewalker]  3/16\njasonfghx [新聞] 殺到見血？傳沙國擬向市場大灌油、價格砍至每桶25美元  3/16\nmooto [其他] 美股有可能蓋牌嗎  3/16\nsharkpops [心得] 紀律與執行力  3/16\nvodkalime607 [新聞] 逾10年來首見，南韓央行緊急降息2碼  3/16\nhuhgju1990 [心得] 捷哥 心灰意冷  3/16\nfa1234 [請益] 媽媽不認賠，如何勸說?  3/16\nqmei [心得] 以疫情推估大盤  3/16\nIanLi [公告] 精華區導覽Q&A  1/25\neyespot [公告] Stock 板規V2.6             (2019/06/20) 11/03\nnoldorelf [公告] 關於武漢肺炎新聞規範  1/25\nqwerasdft [閒聊] 2020/03/16 盤後閒聊  3/16\n"
    }
   ],
   "source": [
    "\n",
    "url = 'https://www.ptt.cc/bbs/Stock/index.html'\n",
    "r = requests.get(url)\n",
    "\n",
    "soup = BeautifulSoup(r.text, \"html5lib\")\n",
    "\n",
    "for d in soup.find('div','r-list-container action-bar-margin bbs-screen').find_all('div',class_='r-ent'):\n",
    "    author = d.find('div','author').text.replace('\\n','').replace('\\t','')\n",
    "    title = d.find('div','title').text.replace('\\n','').replace('\\t','')\n",
    "    date = d.find('div','date').text.replace('\\n','').replace('\\t','')\n",
    "    print(author,title,date)\n",
    "\n",
    "\n"
   ]
  },
  {
   "cell_type": "code",
   "execution_count": null,
   "metadata": {},
   "outputs": [],
   "source": []
  }
 ],
 "metadata": {
  "kernelspec": {
   "display_name": "Python 3",
   "language": "python",
   "name": "python3"
  },
  "language_info": {
   "codemirror_mode": {
    "name": "ipython",
    "version": 3
   },
   "file_extension": ".py",
   "mimetype": "text/x-python",
   "name": "python",
   "nbconvert_exporter": "python",
   "pygments_lexer": "ipython3",
   "version": "3.7.4-final"
  }
 },
 "nbformat": 4,
 "nbformat_minor": 2
}