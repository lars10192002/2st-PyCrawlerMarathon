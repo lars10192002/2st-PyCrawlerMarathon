{
 "nbformat": 4,
 "nbformat_minor": 2,
 "metadata": {
  "language_info": {
   "name": "python",
   "codemirror_mode": {
    "name": "ipython",
    "version": 3
   },
   "version": "3.7.4-final"
  },
  "orig_nbformat": 2,
  "file_extension": ".py",
  "mimetype": "text/x-python",
  "name": "python",
  "npconvert_exporter": "python",
  "pygments_lexer": "ipython3",
  "version": 3,
  "kernelspec": {
   "name": "python37464bitbaseconda87fac4dd32f84216914a52c24b6e72ab",
   "display_name": "Python 3.7.4 64-bit ('base': conda)"
  }
 },
 "cells": [
  {
   "cell_type": "code",
   "execution_count": 4,
   "metadata": {},
   "outputs": [
    {
     "name": "stdout",
     "output_type": "stream",
     "text": "an attribute\nOrderedDict([('many', ['elements', 'more elements'])])\n['elements', 'more elements']\ncomplex\nelement as well\n"
    }
   ],
   "source": [
    "import xmltodict\n",
    "with open(\"test.xml\") as fd:          # 将XML文件装载到dict里面\n",
    "    doc = xmltodict.parse(fd.read())\n",
    "    print(doc[\"mydocument\"][\"@has\"])  # an attribute\n",
    "    print(doc[\"mydocument\"][\"and\"])   # OrderedDict([(u'many', [u'elements', u'more elements'])])\n",
    "    print(doc[\"mydocument\"][\"and\"][\"many\"])   # [u'elements', u'more elements']\n",
    "    print(doc[\"mydocument\"][\"plus\"][\"@a\"])    # complex\n",
    "    print(doc[\"mydocument\"][\"plus\"][\"#text\"]) # element as wel\n"
   ]
  },
  {
   "cell_type": "code",
   "execution_count": null,
   "metadata": {},
   "outputs": [],
   "source": []
  }
 ]
}