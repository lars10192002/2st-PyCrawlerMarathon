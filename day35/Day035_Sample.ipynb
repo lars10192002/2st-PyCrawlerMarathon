{
 "cells": [
  {
   "cell_type": "markdown",
   "metadata": {},
   "source": [
    "# 加速：多線程爬蟲\n",
    "\n",
    "\n",
    "\n",
    "* 了解知乎 API 使用方式與回傳內容\n",
    "* 撰寫程式存取 API 且添加標頭"
   ]
  },
  {
   "cell_type": "code",
   "execution_count": null,
   "metadata": {},
   "outputs": [],
   "source": [
    "import _thread\n",
    "import time\n",
    "import requests"
   ]
  },
  {
   "cell_type": "code",
   "execution_count": 8,
   "metadata": {},
   "outputs": [
    {
     "output_type": "execute_result",
     "data": {
      "text/plain": "123145435291648"
     },
     "metadata": {},
     "execution_count": 8
    }
   ],
   "source": [
    "def print_time(threadName, data, delay):\n",
    "    for d in data:\n",
    "        time.sleep(delay)\n",
    "        print(threadName, ' => ', d)\n",
    "\n",
    "_thread.start_new_thread( print_time, (\"Thread-1\", range(0, 5, 2), 2, ) )\n",
    "_thread.start_new_thread( print_time, (\"Thread-2\", range(1, 5, 2), 5, ) )"
   ]
  },
  {
   "cell_type": "code",
   "execution_count": 12,
   "metadata": {},
   "outputs": [
    {
     "output_type": "stream",
     "name": "stdout",
     "text": "1  =>  1586134199.79161\n2  =>  1586134201.1618218\n3  =>  1586134202.4833531\n4  =>  1586134203.803371\n5  =>  1586134205.196368\ntotal time : 6.858286142349243\n"
    }
   ],
   "source": [
    "import requests\n",
    "import time\n",
    "\n",
    "urls = ['http://python.org', 'http://python.org', 'http://python.org',\n",
    "        'http://python.org', 'http://python.org']\n",
    "\n",
    "startTime = time.time()\n",
    "\n",
    "for i,v in enumerate(urls):\n",
    "    requests.get(url)\n",
    "    print(i+1,' => ',str(time.time()))\n",
    "\n",
    "finishTime = time.time()\n",
    "print('total time :',finishTime - startTime) # 正常情況的爬蟲所需時間"
   ]
  },
  {
   "cell_type": "code",
   "execution_count": null,
   "metadata": {},
   "outputs": [],
   "source": [
    "\n"
   ]
  },
  {
   "cell_type": "code",
   "execution_count": 14,
   "metadata": {},
   "outputs": [
    {
     "output_type": "stream",
     "name": "stdout",
     "text": "1  =>  1586134331.5248241\n2  =>  1586134331.5657542\n3  =>  1586134331.568941\n4  =>  1586134331.5691378\n5  =>  1586134331.569338\ntotal time : 0.04500293731689453\n"
    }
   ],
   "source": [
    "import requests\n",
    "import _thread\n",
    "import time\n",
    "\n",
    "urls = ['http://python.org', 'http://python.org', 'http://python.org',\n",
    "        'http://python.org', 'http://python.org']\n",
    "\n",
    "startTime = time.time()\n",
    "\n",
    "# for url in urls:\n",
    "#     _thread.start_new_thread( requests.get, (url, ) )\n",
    "for i,v in enumerate(urls):\n",
    "    _thread.start_new_thread( requests.get, (url, ) )\n",
    "    print(i+1,' => ',str(time.time()))    \n",
    "\n",
    "\n",
    "finishTime = time.time()\n",
    "print('total time :',finishTime - startTime) # 利用 thread 的爬蟲所需時間"
   ]
  },
  {
   "cell_type": "markdown",
   "metadata": {},
   "source": [
    "## 作業目標\n",
    "\n",
    "* 找一個之前實作過的爬蟲改用多線程改寫，比較前後時間的差異。\n",
    "\n",
    "\n",
    "\n"
   ]
  },
  {
   "cell_type": "code",
   "execution_count": null,
   "metadata": {},
   "outputs": [],
   "source": []
  }
 ],
 "metadata": {
  "kernelspec": {
   "display_name": "Python 3",
   "language": "python",
   "name": "python3"
  },
  "language_info": {
   "codemirror_mode": {
    "name": "ipython",
    "version": 3
   },
   "file_extension": ".py",
   "mimetype": "text/x-python",
   "name": "python",
   "nbconvert_exporter": "python",
   "pygments_lexer": "ipython3",
   "version": "3.7.4-final"
  }
 },
 "nbformat": 4,
 "nbformat_minor": 2
}