{
 "cells": [
  {
   "cell_type": "markdown",
   "metadata": {
    "colab_type": "text",
    "id": "I8CoX4R7VoCd"
   },
   "source": [
    "# 反爬：代理伺服器/IP\n",
    "\n",
    "* 了解「IP 黑/白名單」的反爬蟲機制\n",
    "* 「IP 黑/白名單」反爬蟲的因應策略"
   ]
  },
  {
   "cell_type": "markdown",
   "metadata": {
    "colab_type": "text",
    "id": "n-3DZ_r5VoCe"
   },
   "source": [
    "## 作業目標\n",
    "\n",
    "* 目前程式中的 proxy_ips 是手動輸入的，請根據 https://free-proxy-list.net/ 寫一個可自動化抓取可用 Proxy 的 proxy_ips。\n",
    "\n",
    "\n"
   ]
  },
  {
   "cell_type": "code",
   "execution_count": 1,
   "metadata": {},
   "outputs": [],
   "source": [
    "import requests\n",
    "from bs4 import BeautifulSoup\n",
    "import random "
   ]
  },
  {
   "cell_type": "code",
   "execution_count": 8,
   "metadata": {
    "colab": {},
    "colab_type": "code",
    "id": "iny-9heBVoCf",
    "tags": [
     "outputPrepend"
    ]
   },
   "outputs": [
    {
     "output_type": "execute_result",
     "data": {
      "text/plain": "['187.189.228.67:8080',\n '168.195.180.145:8080',\n '200.105.215.18:33630',\n '85.31.40.46:8080',\n '178.151.143.112:31260']"
     },
     "metadata": {},
     "execution_count": 8
    }
   ],
   "source": [
    "proxy_ips = []\n",
    "\n",
    "url = 'https://free-proxy-list.net/'\n",
    "resp = requests.get(url)\n",
    "soup = BeautifulSoup(resp.text,'html.parser')\n",
    "table = soup.find(name='table',attrs={'id':'proxylisttable'})\n",
    "tbody = table.find('tbody')\n",
    "for tr in tbody:\n",
    "    ip = tr.td.string\n",
    "    port = tr.td.next_sibling.string\n",
    "    proxy_ips.append(ip + \":\" + port)\n",
    "\n",
    "proxy_ips[:5]\n",
    "    "
   ]
  },
  {
   "cell_type": "code",
   "execution_count": 9,
   "metadata": {
    "colab": {},
    "colab_type": "code",
    "id": "75dIsHjiVoCi"
   },
   "outputs": [
    {
     "output_type": "stream",
     "name": "stdout",
     "text": "Use 192.41.19.53:3128\nYour IP address: 192.41.19.53\nUse 138.197.157.32:8080\nYour IP address: 138.197.157.32\nUse 95.85.24.83:8118\nFail\nUse 187.189.228.67:8080\nFail\nUse 139.59.53.106:8080\nYour IP address: 139.59.59.63\nUse 110.172.160.66:47845\nFail\nUse 67.205.146.29:8080\nYour IP address: 67.205.146.29\nUse 138.197.157.45:8080\nYour IP address: 138.197.157.45\nUse 47.52.36.33:80\nFail\nUse 179.127.243.1:49465\nFail\n"
    }
   ],
   "source": [
    "for i in range(10):\n",
    "    ip = random.choice(proxy_ips)\n",
    "    print('Use', ip)\n",
    "    try:\n",
    "        resp = requests.get('http://ip.filefab.com/index.php',\n",
    "                        proxies={'http': ip, 'https': ip}, timeout=10)\n",
    "        soup = BeautifulSoup(resp.text, 'html5lib')\n",
    "        print(soup.find('h1', id='ipd').text.strip())\n",
    "    except:\n",
    "        print('Fail')"
   ]
  },
  {
   "cell_type": "code",
   "execution_count": null,
   "metadata": {},
   "outputs": [],
   "source": []
  }
 ],
 "metadata": {
  "colab": {
   "name": "homework.ipynb",
   "provenance": []
  },
  "kernelspec": {
   "display_name": "Python 3",
   "language": "python",
   "name": "python3"
  },
  "language_info": {
   "codemirror_mode": {
    "name": "ipython",
    "version": 3
   },
   "file_extension": ".py",
   "mimetype": "text/x-python",
   "name": "python",
   "nbconvert_exporter": "python",
   "pygments_lexer": "ipython3",
   "version": "3.7.4-final"
  }
 },
 "nbformat": 4,
 "nbformat_minor": 1
}