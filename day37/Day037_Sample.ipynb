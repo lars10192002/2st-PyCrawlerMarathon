{
 "cells": [
  {
   "cell_type": "markdown",
   "metadata": {},
   "source": [
    "# 自動化更新機制\n",
    "\n",
    "\n",
    "* 如何定期執行爬蟲程式\n",
    "* 更新時需要注意的事情是什麼？\n"
   ]
  },
  {
   "cell_type": "markdown",
   "metadata": {},
   "source": [
    "### 方法一：在迴圈中加上 Sleep"
   ]
  },
  {
   "cell_type": "code",
   "execution_count": 2,
   "metadata": {},
   "outputs": [
    {
     "output_type": "stream",
     "name": "stdout",
     "text": "2020-04-14 11:27:18\n2020-04-14 11:27:23\n2020-04-14 11:27:28\n2020-04-14 11:27:33\n2020-04-14 11:27:38\n"
    }
   ],
   "source": [
    "import time\n",
    "\n",
    "def timer(n): \n",
    "    print(time.strftime('%Y-%m-%d %X', time.localtime()))\n",
    "    return\n",
    "\n",
    "count = 0\n",
    "while True:  \n",
    "    print(time.strftime('%Y-%m-%d %X', time.localtime()))  \n",
    "    time.sleep(5)\n",
    "    count += 1\n",
    "    if count >= 5:\n",
    "        break\n",
    ""
   ]
  },
  {
   "cell_type": "markdown",
   "metadata": {},
   "source": [
    "### 方法二：利用 threading 的 Timer"
   ]
  },
  {
   "cell_type": "code",
   "execution_count": 6,
   "metadata": {},
   "outputs": [
    {
     "output_type": "stream",
     "name": "stdout",
     "text": "1\n2020-04-14 11:28:55\n"
    }
   ],
   "source": [
    "import time\n",
    "from threading import Timer\n",
    "\n",
    "def printHello(count):\n",
    "    count += 1\n",
    "    print(count)\n",
    "    if count >= 5:\n",
    "        return\n",
    "    print(time.strftime('%Y-%m-%d %X', time.localtime()))\n",
    "    t = Timer(2, printHello, (count,)) \n",
    "    t.start() \n",
    "\n",
    "count = 0\n",
    "    printHello(count)"
   ]
  },
  {
   "cell_type": "markdown",
   "metadata": {},
   "source": [
    "### 方法三：第三方套件 schedule"
   ]
  },
  {
   "cell_type": "code",
   "execution_count": null,
   "metadata": {},
   "outputs": [],
   "source": [
    "import schedule\n",
    "import time\n",
    "\n",
    "def job():        \n",
    "    print(time.strftime('%Y-%m-%d %X', time.localtime()))\n",
    "\n",
    "schedule.every(2).seconds.do(job)\n",
    "\n",
    "while True:\n",
    "    schedule.run_pending()"
   ]
  },
  {
   "cell_type": "code",
   "execution_count": 2,
   "metadata": {},
   "outputs": [],
   "source": [
    "## 作業目標\n",
    "* 列舉一個是需要用自動化更新的機制來達成的爬蟲應用。"
   ]
  },
  {
   "cell_type": "code",
   "execution_count": null,
   "metadata": {},
   "outputs": [],
   "source": []
  }
 ],
 "metadata": {
  "kernelspec": {
   "display_name": "Python 3",
   "language": "python",
   "name": "python3"
  },
  "language_info": {
   "codemirror_mode": {
    "name": "ipython",
    "version": 3
   },
   "file_extension": ".py",
   "mimetype": "text/x-python",
   "name": "python",
   "nbconvert_exporter": "python",
   "pygments_lexer": "ipython3",
   "version": "3.7.4-final"
  }
 },
 "nbformat": 4,
 "nbformat_minor": 2
}