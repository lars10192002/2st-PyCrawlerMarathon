{
 "cells": [
  {
   "cell_type": "markdown",
   "metadata": {},
   "source": [
    "# Ettoday 網路爬蟲實作練習\n",
    "\n",
    "\n",
    "* 能夠利用 Request + BeatifulSour 撰寫爬蟲，並存放到合適的資料結構\n"
   ]
  },
  {
   "cell_type": "markdown",
   "metadata": {},
   "source": [
    "## 作業目標\n",
    "\n",
    "根據範例：\n",
    "\n",
    "1. 取出今天所有的新聞\n",
    "2. 取出現在時間兩小時內的新聞\n",
    "3. 根據範例，取出三天前下午三點到五點的新聞"
   ]
  },
  {
   "cell_type": "markdown",
   "metadata": {},
   "source": [
    "## 1. 取出今天所有的新聞"
   ]
  },
  {
   "cell_type": "code",
   "execution_count": 33,
   "metadata": {},
   "outputs": [],
   "source": [
    "import requests\n",
    "from bs4 import BeautifulSoup\n",
    "from selenium import webdriver\n",
    "import datetime\n",
    "import time\n",
    "import re"
   ]
  },
  {
   "cell_type": "code",
   "execution_count": 39,
   "metadata": {},
   "outputs": [
    {
     "output_type": "stream",
     "name": "stdout",
     "text": "2020/03/24\n<class 'str'>\n"
    }
   ],
   "source": [
    "current_time = time.strftime(\"%Y/%m/%d\",time.localtime())\n",
    "print(current_time)\n",
    "print(type(current_time))\n",
    ""
   ]
  },
  {
   "cell_type": "code",
   "execution_count": 84,
   "metadata": {},
   "outputs": [],
   "source": [
    "PATH = '/Users/lucakao/PythonWorkspace/2st-PyCrawlerMarathon/webdriver/chromedriver'\n",
    "browser = webdriver.Chrome(executable_path=PATH)\n",
    "browser.get(\"https://www.ettoday.net/news/news-list.htm\")\n",
    ""
   ]
  },
  {
   "cell_type": "code",
   "execution_count": 66,
   "metadata": {},
   "outputs": [],
   "source": [
    "# 每2秒執行一次滾動視窗的JS程式碼\n",
    "for i in range(10):\n",
    "    time.sleep(1)\n",
    "    browser.execute_script('window.scrollTo(1,10000);')"
   ]
  },
  {
   "cell_type": "code",
   "execution_count": 30,
   "metadata": {
    "tags": [
     "outputPrepend"
    ]
   },
   "outputs": [
    {
     "output_type": "stream",
     "name": "stdout",
     "text": "2020/03/24 10:26 國際 紐約市首名校長感染新冠肺炎病逝！　師生是否染疫待釐清 https://www.ettoday.net/news/20200324/1674975.htm\n2020/03/24 10:24 大陸 Now新聞台剪接師中標！　港第二位媒體工作者確診...女友隔離中 https://www.ettoday.net/news/20200324/1675007.htm\n2020/03/24 10:24 生活 館長要賣衛生紙！64包888元含運「比好市多便宜」　備20萬箱：我隨時可以賣 https://www.ettoday.net/news/20200324/1674941.htm\n2020/03/24 10:21 社會 快訊／國道3號「7車連環撞」全線車道封閉！1人命危、多人輕重傷　警消急搶救 https://www.ettoday.net/news/20200324/1675003.htm\n2020/03/24 10:21 影劇 「0收入餘額不足」跟爸媽借錢　《星光》男星消失唱片圈…背後原因曝光 https://www.ettoday.net/news/20200324/1674967.htm\n2020/03/24 10:20 影劇 劉真生前曾認「當媽後變得很怕死」！　40歲才生下女兒…卻再無法陪她長大 https://www.ettoday.net/news/20200324/1675001.htm\n2020/03/24 10:18 國際 曾使10城鎮5萬人隔離　義大利「1號病人」出院籲：請留在家裡 https://www.ettoday.net/news/20200324/1674997.htm\n2020/03/24 10:18 生活 「劉真很不幸成為那1%」　醫遺憾：手術傷口越小，風險越高 https://www.ettoday.net/news/20200324/1674944.htm\n2020/03/24 10:17 體育 美國聲明力促「東奧延期舉行」　洛夫支持：不知道世界會變怎樣 https://www.ettoday.net/news/20200324/1674998.htm\n2020/03/24 10:15 政治 蘇貞昌：我們不必封城　自我管理好受害就會少 https://www.ettoday.net/news/20200324/1675000.htm\n2020/03/24 10:13 體育 以色列不讓了！金手套二壘手金斯勒宣布參加奧運 https://www.ettoday.net/news/20200324/1674991.htm\n2020/03/24 10:12 影劇 劉真病逝！追思靈堂明起開放　工作人員忙佈置會場 https://www.ettoday.net/news/20200324/1674978.htm\n2020/03/24 10:12 國際 中美推特口水戰！美國務院發言人：新冠疫情是台灣先警告WHO https://www.ettoday.net/news/20200324/1674914.htm\n2020/03/24 10:11 政治 避免紓困條例淪空白授權　時力黨團提修法籲「超前部署」 https://www.ettoday.net/news/20200324/1674990.htm\n2020/03/24 10:11 影劇 余秉諺辛亥隧道閃神失控撞2車　嚇傻：不敢再疲勞駕駛 https://www.ettoday.net/news/20200324/1674989.htm\n2020/03/24 10:10 財經 台北101電梯商去年每股賺3.84元　崇友現金殖利率達5.05% https://www.ettoday.net/news/20200324/1674982.htm\n2020/03/24 10:09 大陸 香港防疫打出「禁酒令」！業界罵爆「一定反抗到底」：或發起行動 https://www.ettoday.net/news/20200324/1674946.htm\n2020/03/24 10:08 社會 24歲男拿槍炫耀...下秒打中朋友腹部！見他「血泊中哀號」　竟直接拔腿落跑 https://www.ettoday.net/news/20200324/1674901.htm\n2020/03/24 10:05 生活 台版小棉堡變菜市場…網美「捲起褲管嗨戲水」！　當地人怒：那是生態保護區 https://www.ettoday.net/news/20200324/1674939.htm\n2020/03/24 10:05 ET車雲 Skoda Kodiaq 7人座休旅化身警車　貼心設計讓「警犬」也開心 https://www.ettoday.net/news/20200324/1674495.htm\n2020/03/24 10:04 生活 刈包吉重出江湖！霸氣喊：買不到的都來找我拿　「3000包衛生紙」送完為止 https://www.ettoday.net/news/20200324/1674928.htm\n2020/03/24 10:03 財經 台股盤中漲逾500點！台積電強漲6.47%　指數挑戰收復9400點 https://www.ettoday.net/news/20200324/1674973.htm\n2020/03/24 10:02 國際 摘下護目鏡滿臉「暗紅色瘀傷勒痕」　網友心疼：向全世界醫護致敬！ https://www.ettoday.net/news/20200324/1674898.htm\n2020/03/24 10:01 大陸 大陸一日新增4例本土確診！　分散4地「2例為境外輸入關聯病例」 https://www.ettoday.net/news/20200324/1674900.htm\n2020/03/24 10:00 財經 富士康為iPhone 12生產鋪路　鴻海：中國大陸廠招工提前達標 https://www.ettoday.net/news/20200324/1674977.htm\n2020/03/24 10:00 旅遊 咖啡杯流出紫色瀑布！嘉義隱藏版紫藤花咖啡廳　賞花吃火鍋超浪漫 https://www.ettoday.net/news/20200324/1671315.htm\n2020/03/24 10:00 生活 力拚國際化！　台北「最高學府」培養跨領域斜槓人才 https://www.ettoday.net/news/20200324/1669166.htm\n2020/03/24 09:59 生活 「失去嗅覺、味覺要注意了」醫：可能是確診唯一症狀　英美提醒應自主隔離 https://www.ettoday.net/news/20200324/1674910.htm\n2020/03/24 09:58 探索 24種常見症狀對應手部穴位　中醫師按法一次詳解 https://www.ettoday.net/news/20200324/1674970.htm\n2020/03/24 09:58 地方 屏東縣新增2境外移入案例　夫妻「西班牙旅遊」先後確診 https://www.ettoday.net/news/20200324/1674964.htm\n2020/03/24 09:55 政治 蘇貞昌談撤換4董座：汽車3天撞2次飛機「把他拉下來剛好而已」 https://www.ettoday.net/news/20200324/1674924.htm\n2020/03/24 09:55 生活 群組瘋傳「中研院確診者在XX所」　醫爆氣：反而會讓人降低戒心 https://www.ettoday.net/news/20200324/1674911.htm\n2020/03/24 09:51 影劇 父女戀！伍迪艾倫公開小35歲前養女「害羞照始末」：當時情慾高漲，我們分不開 https://www.ettoday.net/news/20200324/1674968.htm\n2020/03/24 09:51 影劇 辛龍不只1次「冒輕生念頭」！ 　好友「怕會出事」心疼曝：劉真最放不下的是他 https://www.ettoday.net/news/20200324/1674966.htm\n2020/03/24 09:51 國際 不斷更新／華盛頓州發布禁足令！全美確診衝破4.3萬　第一夫人檢測出爐 https://www.ettoday.net/news/20200324/1674842.htm\n2020/03/24 09:45 大陸 首都防疫戰加碼！　入境北京人員「無差別」核酸檢測 https://www.ettoday.net/news/20200324/1674961.htm\n2020/03/24 09:45 體育 西班牙疫情不受控　西甲等球賽無限期停至政府允許復賽 https://www.ettoday.net/news/20200324/1674958.htm\n2020/03/24 09:39 國際 G20同意展開「行動計畫」研擬　梅努欽將主持G7峰會：討論疫情應變措施 https://www.ettoday.net/news/20200324/1674861.htm\n2020/03/24 09:32 財經 哈日族衝一波！日圓創1個月新低　換新台幣5萬多賺3300元 https://www.ettoday.net/news/20200324/1674945.htm\n2020/03/24 09:32 大陸 湖北連5天「清零」破功！陸新增78例確診「有4例是本土」　 https://www.ettoday.net/news/20200324/1674903.htm\n2020/03/24 09:31 影劇 女星肺炎病逝！家人發文證實　外媒曝：生前感染新冠病毒 https://www.ettoday.net/news/20200324/1674938.htm\n2020/03/24 09:28 地方 6旬男騎機車自摔手機無電　遇暖心新南警尋得回家路 https://www.ettoday.net/news/20200324/1674934.htm\n2020/03/24 09:28 體育 NBA首支降薪隊伍！　七六人宣布對員工減薪20% https://www.ettoday.net/news/20200324/1674929.htm\n2020/03/24 09:26 大陸 「無症狀感染者」不納入確診！武漢回應了：因沒有臨床表現 https://www.ettoday.net/news/20200324/1674893.htm\n2020/03/24 09:19 地方 防疫減少群聚感染　永康分局首採與派出所視訊會議 https://www.ettoday.net/news/20200324/1674923.htm\n2020/03/24 09:18 時尚 Uuiqlo開公園！全球首座有邊逛邊玩　旁邊就是最美橫濱海灣 https://www.ettoday.net/news/20200324/1674272.htm\n2020/03/24 09:15 影劇 白癡公主拍片認「3部位整型」：剛做完3週！　粉絲崩潰一晚「爆氣退追」 https://www.ettoday.net/news/20200324/1674913.htm\n2020/03/24 09:15 生活 「請有薪事假」勾選國內旅遊　環署員工爽跟團遊埃及回台確診 https://www.ettoday.net/news/20200324/1674912.htm\n2020/03/24 09:15 影劇  《順風婦產科》隔22年美月媽近況曝光！　轉型當Youtuber⋯大咖藝人也搶看 https://www.ettoday.net/news/20200324/1674907.htm\n2020/03/24 09:15 國際 不斷更新／南韓確診破9千大關！英國宣布禁足令　2人以上集會喊卡 https://www.ettoday.net/news/20200324/1674849.htm\n2020/03/24 09:14 社會 家暴男開庭前大爆走！爬上地檢大門平台欲跳樓　警消合力制伏 https://www.ettoday.net/news/20200324/1674888.htm\n2020/03/24 09:09 財經 新台幣早盤升值逾1角　最高來到30.25元兌1美元 https://www.ettoday.net/news/20200324/1674895.htm\n2020/03/24 09:06 生活 防疫再升級！　台南麻豆新樓醫院24日起一般病房全面禁止探病 https://www.ettoday.net/news/20200324/1674899.htm\n2020/03/24 09:05 影劇 見證劉真走完絢爛一生！網美曝「大學最美身影」送別女神：世界因妳柔軟 https://www.ettoday.net/news/20200324/1674890.htm\n2020/03/24 09:05 ET車雲Newron EV-1「195.9萬」開放預售　木紋電動重機洋溢滿滿科技風 https://www.ettoday.net/news/20200324/1674510.htm\n2020/03/24 09:01 財經 台股早盤大漲317點！亞股率先反彈　指數站上9200點 https://www.ettoday.net/news/20200324/1674892.htm\n2020/03/24 09:00 法律 湯文章／誰流出來的19秒影片　偵查不公開很難嗎 https://www.ettoday.net/news/20200324/1674257.htm\n2020/03/24 08:59 名家 瘋電影／艾瑪　別為你的沒教養辯解成說話直 https://www.ettoday.net/news/20200324/1674826.htm\n2020/03/24 08:55 國際 更新／美國第一夫人新冠肺炎檢驗結果出爐！ https://www.ettoday.net/news/20200324/1674885.htm\n2020/03/24 08:53 財經 日韓股市反攻　台指期開盤大漲333點...預告台股開盤將強彈 https://www.ettoday.net/news/20200324/1674879.htm\n2020/03/24 08:49 政治 行政院本周提第二波400億紓困方案　延緩繳稅、薪資補助、融資貸款 https://www.ettoday.net/news/20200324/1674884.htm\n2020/03/24 08:43 國際 美國破4萬確診545死「紐約佔一半」　市長急求醫療物資援助：不管誰給都好！ https://www.ettoday.net/news/20200324/1674872.htm\n2020/03/24 08:39 政治 「提議換掉陳時中」臉書遭出征　陳學聖回擊：難道是擋箭神主牌？ https://www.ettoday.net/news/20200324/1674878.htm\n2020/03/24 08:38 社會 桃園狠父「徒手捶死」11月大女嬰！4歲女兒全目睹...依家暴殺人罪起訴 https://www.ettoday.net/news/20200324/1674881.htm\n2020/03/24 08:33 生活 「我們都不是人嗎」滯湖北600國人想回家　媽帶2歲童哽咽：政府忘記了？ https://www.ettoday.net/news/20200324/1674877.htm\n2020/03/24 08:10 體育 東京奧運確定延期？　IOC回應了「每個成員都有權解釋聲明」 https://www.ettoday.net/news/20200324/1674880.htm\n2020/03/24 08:10 影劇 電台司令吉他手疑確診！「暫不接受檢測」：留給更需要的人 https://www.ettoday.net/news/20200324/1674876.htm\n2020/03/24 08:06 國際 紐約確診破2萬「占全美50%」　州長急下令：醫院增一半容量！ https://www.ettoday.net/news/20200324/1674875.htm\n2020/03/24 08:05 影劇 蕾菈早餐照被抓包「對面坐男網紅」！　3背景重疊露餡 https://www.ettoday.net/news/20200324/1674871.htm\n2020/03/24 08:03 影劇 《鬥魚》天菜男星「IG洩愛辣模女友」　爆假分手偷放閃護6年情 https://www.ettoday.net/news/20200324/1674874.htm\n2020/03/24 08:02 時尚 鼻子黑頭粉刺OUT！從南韓紅到泰國的「綠茶去角質棒」 https://www.ettoday.net/news/20200324/1674606.htm\n2020/03/24 08:00 探索 不是普通腹痛！讓腸道體無完膚的潰瘍性結腸炎 https://www.ettoday.net/news/20200324/1674057.htm\n2020/03/24 07:55 政治 陳建仁：全球疫情緩和還要兩個月　3張圖詳解致死率與檢驗陽性率 https://www.ettoday.net/news/20200324/1674870.htm\n2020/03/24 07:44 國際 全球35萬人染疫1.6萬死「只花82天」　譚德塞主張發起進攻：疫情正在加速 https://www.ettoday.net/news/20200324/1674860.htm\n2020/03/24 07:43 大陸 陸女大鬧機場！泰國返回拒集中隔離...怒嗆防疫員「我要告你」 https://www.ettoday.net/news/20200324/1674866.htm\n2020/03/24 07:32 影劇 劉樂妍留在台北「爽收生日珍貴大禮」　點名粉絲：謝謝中國台灣人！ https://www.ettoday.net/news/20200324/1674869.htm\n2020/03/24 07:31 生活 「要他爸辭職下台，你算什麼東西」　名嘴挺張上淳：兒子歸兒子！老子歸老子 https://www.ettoday.net/news/20200324/1674867.htm\n2020/03/24 07:23 政治 台美合作疫苗最快年底上市！　陳其邁曝「量產內幕」關鍵 https://www.ettoday.net/news/20200324/1674865.htm\n2020/03/24 07:22 體育 厄文捐32.3萬美元盼緩解疫情　美媒曝數字背後意義深 https://www.ettoday.net/news/20200324/1674868.htm\n2020/03/24 07:07 時尚 紐西蘭國鳥變身呆萌娃娃！全身棕毛加圓圓身軀　激似巨型奇異果 https://www.ettoday.net/news/20200324/1674691.htm\n2020/03/24 07:00 生活 台北單日新增最多！全台195例分布曝光：雙北相加破百　7縣市0確診 https://www.ettoday.net/news/20200324/1674864.htm\n2020/03/24 07:00 政治 侯友宜防疫超前！新北停課遠距教學計劃曝光　Zoom、Teams...全上場 https://www.ettoday.net/news/20200324/1674602.htm\n2020/03/24 07:00 健康 天生超會賺！命理師曝「有2面相」＝人體印鈔機　這部位有肉…不愁吃穿了 https://www.ettoday.net/news/20200324/1673140.htm\n2020/03/24 06:55 生活 請事假偷跟團出國！環保署確診員工假單上地點勾「國內」　瞞天過海到埃及 https://www.ettoday.net/news/20200324/1674863.htm\n2020/03/24 06:41 生活 「請假照顧父親」隱瞞旅遊史　台鐵員工爽玩杜拜返台15天肺發炎 https://www.ettoday.net/news/20200324/1674862.htm\n2020/03/24 06:24 時尚 《梨泰院Class》權娜拉長直髮、學生頭都超美！5款初戀系髮型讓人好心動 https://www.ettoday.net/news/20200324/1669468.htm\n2020/03/24 06:12 大陸 習近平一晚與3國領導人通話　盼英國加強配合、支持世衛發揮作用 https://www.ettoday.net/news/20200324/1674858.htm\n2020/03/24 06:12 國際 道瓊下探18000點！Fed「救市抗疫」策略失靈　參院否決紓困法案 https://www.ettoday.net/news/20200324/1674857.htm\n2020/03/24 06:04 生活 影／今2地區防較大雨勢！下波「全台有雨」鋒面報到時間曝　低溫探14度 https://www.ettoday.net/news/20200324/1674859.htm\n2020/03/24 05:42 國際 英國宣布「禁足令」！　強生下令警方驅散2人以上集會 https://www.ettoday.net/news/20200324/1674856.htm\n2020/03/24 02:34 體育 資深國際奧委會委員龐德證實　東京奧運延至2021年 https://www.ettoday.net/news/20200324/1674854.htm\n2020/03/24 02:34 國際 又一個義大利市長崩潰！全國封鎖市民「狂出門遛狗」　他爆氣：混蛋白癡 https://www.ettoday.net/news/20200324/1674781.htm\n2020/03/24 02:22 生活 劉真離世留下3個「22」真愛數字　命理老師揭密：將化身最美天使 https://www.ettoday.net/news/20200324/1674852.htm\n2020/03/24 02:05 國際 死亡速度超過火化！旅義台人曝「當地情況」　醫院猶如地獄 https://www.ettoday.net/news/20200324/1674834.htm\n2020/03/24 02:04 生活 李秉穎醫師提「李氏假說防疫網」防接觸>防飛沫　霸氣喊話：不會讓封城發生 https://www.ettoday.net/news/20200324/1674845.htm\n2020/03/24 01:41 地方 新北應變三機制確保市場供應穩　侯友宜抽查防疫運豬車 https://www.ettoday.net/news/20200324/1674846.htm\n2020/03/24 01:24 影劇 唯一會牽劉真下舞台的藝人！　劉德華沒忘16年前緣分…心疼辛龍：好好照顧自己 https://www.ettoday.net/news/20200324/1674851.htm\n2020/03/24 01:08 時尚 戴口罩不沾粉救星「定妝噴霧」　妝容變更清爽，控油超有感 https://www.ettoday.net/news/20200324/1669264.htm\n2020/03/24 01:02 影劇 劉真追思靈堂開放時間公布！　25日起5天「時間藏22巧思」惹淚 https://www.ettoday.net/news/20200324/1674850.htm\n2020/03/24 00:52 時尚 「一世代」哈利穿黑色網襪秀腿！跳脫性別造型讓人驚艷　女生們自嘆不如 https://www.ettoday.net/news/20200324/1674615.htm\n2020/03/24 00:52 時尚 「一世代」哈利穿黑色網襪秀腿！跳脫性別造型讓人驚艷　女生們自嘆不如 https://www.ettoday.net/news/20200324/1674615.htm\n2020/03/24 00:41 影劇 李亮瑾上節目跳著按鈴！網罵粗魯白目「沒工作剛好而已」　她爆氣回應了 https://www.ettoday.net/news/20200324/1674847.htm\n2020/03/24 00:37 國際 義大利8000醫自願投身第一線抗疫　80歲暖醫也申請加入 https://www.ettoday.net/news/20200324/1674841.htm\n2020/03/24 00:32 影劇 黃明志曝「2002年經歷過SARS」　肯定台灣防疫：最安全的地方！ https://www.ettoday.net/news/20200324/1674844.htm\n2020/03/24 00:26 網搜 台北跑車男拒量體溫嗆「不知道我是誰？」保全氣炸反擊被讚爆 https://www.ettoday.net/news/20200324/1674809.htm\n2020/03/24 00:14 生活 入住飯店冒汗填「醫師職業」...下秒被要求取消訂房　他一聽結局傻了 https://www.ettoday.net/news/20200324/1674835.htm\n2020/03/24 00:11 軍武 美軍連日現身南海操演　大陸國防部氣炸回應：雙方官兵生命安全危害者 https://www.ettoday.net/news/20200324/1674837.htm\n2020/03/24 00:10 時尚 怪奇比莉、香奈兒女士被扭成LOGO　Mike Frederiqo翻玩印花T潮人搶著穿 https://www.ettoday.net/news/20200324/1673163.htm\n2020/03/24 00:06 影劇 御姊愛住加州曝「排華內幕」　揭禁足令藏2隱憂：我很擔心！ https://www.ettoday.net/news/20200324/1674839.htm\n2020/03/24 00:04 體育 快訊／挪威奧委會也跟進！　宣布疫情控制前不會參加東京奧運 https://www.ettoday.net/news/20200324/1674843.htm\n2020/03/24 00:03 ET車雲 川普批准車廠生產呼吸器！特斯拉、福特、通用加入抗疫戰局 https://www.ettoday.net/news/20200324/1674840.htm\n2020/03/24 00:01 軍武 解放軍改裝4架「轟-6」　可搭載東風21-D反艦飛彈 https://www.ettoday.net/news/20200324/1674806.htm\n"
    }
   ],
   "source": [
    "# 取得資料，丟到 BeautifulSoup 解析\n",
    "html = browser.page_source\n",
    "soup = BeautifulSoup(html, 'html5lib')\n",
    "for row in soup.find(class_= 'part_list_2').find_all('h3'):\n",
    "    if row.find(class_= 'date').text.split(' ')[0] == current_time:\n",
    "        date = row.find(class_= 'date').text\n",
    "        title = row.find(name= 'a').text\n",
    "        tag = row.find(name= 'em').text\n",
    "        link = row.find(name= 'a')['href']\n",
    "        print(date,tag,title,\"https://www.ettoday.net\"+link)"
   ]
  },
  {
   "cell_type": "code",
   "execution_count": 83,
   "metadata": {},
   "outputs": [],
   "source": [
    "# 關閉瀏覽器\n",
    "browser.quit()"
   ]
  },
  {
   "cell_type": "markdown",
   "metadata": {},
   "source": [
    "## 2. 取出現在時間兩小時內的新聞"
   ]
  },
  {
   "cell_type": "code",
   "execution_count": 41,
   "metadata": {},
   "outputs": [],
   "source": [
    "#str -> time -> timestamp\n",
    "def str_to_timestamp(str_time):\n",
    "    str_tmp = str(str_time)\n",
    "    time_tmp = time.strptime(str_tmp, \"%Y/%m/%d %H:%M\")\n",
    "    timestamp = time.mktime(time_tmp)\n",
    "    return timestamp"
   ]
  },
  {
   "cell_type": "code",
   "execution_count": 43,
   "metadata": {},
   "outputs": [
    {
     "output_type": "stream",
     "name": "stdout",
     "text": "現在時間:2020/03/24 10:52:11，獲取兩小時前:2020/03/24 08:52:11之後的新聞\n\n"
    }
   ],
   "source": [
    "# 拿到的是字串－變成時戳－必須要大於 > 兩小時前的時戳 (小於就是比2小時前更早了)\n",
    "two_hours_ago = float(time.time()) - 7200  # 兩小時前 = int(現在時戳秒數 - 7200秒)\n",
    "now = time.strftime('%Y/%m/%d %H:%M:%S',time.localtime())\n",
    "before = time.strftime(\"%Y/%m/%d %H:%M:%S\",time.localtime(two_hours_ago))\n",
    "print('現在時間:{}，獲取兩小時前:{}之後的新聞\\n'.format(now, before))"
   ]
  },
  {
   "cell_type": "code",
   "execution_count": 65,
   "metadata": {},
   "outputs": [
    {
     "output_type": "stream",
     "name": "stdout",
     "text": "2020/03/24 10:26 國際 紐約市首名校長感染新冠肺炎病逝！　師生是否染疫待釐清 https://www.ettoday.net/news/20200324/1674975.htm\n2020/03/24 10:24 大陸 Now新聞台剪接師中標！　港第二位媒體工作者確診...女友隔離中 https://www.ettoday.net/news/20200324/1675007.htm\n2020/03/24 10:24 生活 館長要賣衛生紙！64包888元含運「比好市多便宜」　備20萬箱：我隨時可以賣 https://www.ettoday.net/news/20200324/1674941.htm\n2020/03/24 10:21 社會 快訊／國道3號「7車連環撞」全線車道封閉！1人命危、多人輕重傷　警消急搶救 https://www.ettoday.net/news/20200324/1675003.htm\n2020/03/24 10:21 影劇 「0收入餘額不足」跟爸媽借錢　《星光》男星消失唱片圈…背後原因曝光 https://www.ettoday.net/news/20200324/1674967.htm\n2020/03/24 10:20 影劇 劉真生前曾認「當媽後變得很怕死」！　40歲才生下女兒…卻再無法陪她長大 https://www.ettoday.net/news/20200324/1675001.htm\n2020/03/24 10:18 國際 曾使10城鎮5萬人隔離　義大利「1號病人」出院籲：請留在家裡 https://www.ettoday.net/news/20200324/1674997.htm\n2020/03/24 10:18 生活 「劉真很不幸成為那1%」　醫遺憾：手術傷口越小，風險越高 https://www.ettoday.net/news/20200324/1674944.htm\n2020/03/24 10:17 體育 美國聲明力促「東奧延期舉行」　洛夫支持：不知道世界會變怎樣 https://www.ettoday.net/news/20200324/1674998.htm\n2020/03/24 10:15 政治 蘇貞昌：我們不必封城　自我管理好受害就會少 https://www.ettoday.net/news/20200324/1675000.htm\n2020/03/24 10:13 體育 以色列不讓了！金手套二壘手金斯勒宣布參加奧運 https://www.ettoday.net/news/20200324/1674991.htm\n2020/03/24 10:12 影劇 劉真病逝！追思靈堂明起開放　工作人員忙佈置會場 https://www.ettoday.net/news/20200324/1674978.htm\n2020/03/24 10:12 國際 中美推特口水戰！美國務院發言人：新冠疫情是台灣先警告WHO https://www.ettoday.net/news/20200324/1674914.htm\n2020/03/24 10:11 政治 避免紓困條例淪空白授權　時力黨團提修法籲「超前部署」 https://www.ettoday.net/news/20200324/1674990.htm\n2020/03/24 10:11 影劇 余秉諺辛亥隧道閃神失控撞2車　嚇傻：不敢再疲勞駕駛 https://www.ettoday.net/news/20200324/1674989.htm\n2020/03/24 10:10 財經 台北101電梯商去年每股賺3.84元　崇友現金殖利率達5.05% https://www.ettoday.net/news/20200324/1674982.htm\n2020/03/24 10:09 大陸 香港防疫打出「禁酒令」！業界罵爆「一定反抗到底」：或發起行動 https://www.ettoday.net/news/20200324/1674946.htm\n2020/03/24 10:08 社會 24歲男拿槍炫耀...下秒打中朋友腹部！見他「血泊中哀號」　竟直接拔腿落跑 https://www.ettoday.net/news/20200324/1674901.htm\n2020/03/24 10:05 生活 台版小棉堡變菜市場…網美「捲起褲管嗨戲水」！　當地人怒：那是生態保護區 https://www.ettoday.net/news/20200324/1674939.htm\n2020/03/24 10:05 ET車雲 Skoda Kodiaq 7人座休旅化身警車　貼心設計讓「警犬」也開心 https://www.ettoday.net/news/20200324/1674495.htm\n2020/03/24 10:04 生活 刈包吉重出江湖！霸氣喊：買不到的都來找我拿　「3000包衛生紙」送完為止 https://www.ettoday.net/news/20200324/1674928.htm\n2020/03/24 10:03 財經 台股盤中漲逾500點！台積電強漲6.47%　指數挑戰收復9400點 https://www.ettoday.net/news/20200324/1674973.htm\n2020/03/24 10:02 國際 摘下護目鏡滿臉「暗紅色瘀傷勒痕」　網友心疼：向全世界醫護致敬！ https://www.ettoday.net/news/20200324/1674898.htm\n2020/03/24 10:01 大陸 大陸一日新增4例本土確診！　分散4地「2例為境外輸入關聯病例」 https://www.ettoday.net/news/20200324/1674900.htm\n2020/03/24 10:00 財經 富士康為iPhone 12生產鋪路　鴻海：中國大陸廠招工提前達標 https://www.ettoday.net/news/20200324/1674977.htm\n2020/03/24 10:00 旅遊 咖啡杯流出紫色瀑布！嘉義隱藏版紫藤花咖啡廳　賞花吃火鍋超浪漫 https://www.ettoday.net/news/20200324/1671315.htm\n2020/03/24 10:00 生活 力拚國際化！　台北「最高學府」培養跨領域斜槓人才 https://www.ettoday.net/news/20200324/1669166.htm\n2020/03/24 09:59 生活 「失去嗅覺、味覺要注意了」醫：可能是確診唯一症狀　英美提醒應自主隔離 https://www.ettoday.net/news/20200324/1674910.htm\n2020/03/24 09:58 探索 24種常見症狀對應手部穴位　中醫師按法一次詳解 https://www.ettoday.net/news/20200324/1674970.htm\n2020/03/24 09:58 地方 屏東縣新增2境外移入案例　夫妻「西班牙旅遊」先後確診 https://www.ettoday.net/news/20200324/1674964.htm\n2020/03/24 09:55 政治 蘇貞昌談撤換4董座：汽車3天撞2次飛機「把他拉下來剛好而已」 https://www.ettoday.net/news/20200324/1674924.htm\n2020/03/24 09:55 生活 群組瘋傳「中研院確診者在XX所」　醫爆氣：反而會讓人降低戒心 https://www.ettoday.net/news/20200324/1674911.htm\n2020/03/24 09:51 影劇 父女戀！伍迪艾倫公開小35歲前養女「害羞照始末」：當時情慾高漲，我們分不開 https://www.ettoday.net/news/20200324/1674968.htm\n2020/03/24 09:51 影劇 辛龍不只1次「冒輕生念頭」！ 　好友「怕會出事」心疼曝：劉真最放不下的是他 https://www.ettoday.net/news/20200324/1674966.htm\n2020/03/24 09:51 國際 不斷更新／華盛頓州發布禁足令！全美確診衝破4.3萬　第一夫人檢測出爐 https://www.ettoday.net/news/20200324/1674842.htm\n2020/03/24 09:45 大陸 首都防疫戰加碼！　入境北京人員「無差別」核酸檢測 https://www.ettoday.net/news/20200324/1674961.htm\n2020/03/24 09:45 體育 西班牙疫情不受控　西甲等球賽無限期停至政府允許復賽 https://www.ettoday.net/news/20200324/1674958.htm\n2020/03/24 09:39 國際 G20同意展開「行動計畫」研擬　梅努欽將主持G7峰會：討論疫情應變措施 https://www.ettoday.net/news/20200324/1674861.htm\n2020/03/24 09:32 財經 哈日族衝一波！日圓創1個月新低　換新台幣5萬多賺3300元 https://www.ettoday.net/news/20200324/1674945.htm\n2020/03/24 09:32 大陸 湖北連5天「清零」破功！陸新增78例確診「有4例是本土」　 https://www.ettoday.net/news/20200324/1674903.htm\n2020/03/24 09:31 影劇 女星肺炎病逝！家人發文證實　外媒曝：生前感染新冠病毒 https://www.ettoday.net/news/20200324/1674938.htm\n2020/03/24 09:28 地方 6旬男騎機車自摔手機無電　遇暖心新南警尋得回家路 https://www.ettoday.net/news/20200324/1674934.htm\n2020/03/24 09:28 體育 NBA首支降薪隊伍！　七六人宣布對員工減薪20% https://www.ettoday.net/news/20200324/1674929.htm\n2020/03/24 09:26 大陸 「無症狀感染者」不納入確診！武漢回應了：因沒有臨床表現 https://www.ettoday.net/news/20200324/1674893.htm\n2020/03/24 09:19 地方 防疫減少群聚感染　永康分局首採與派出所視訊會議 https://www.ettoday.net/news/20200324/1674923.htm\n2020/03/24 09:18 時尚 Uuiqlo開公園！全球首座有邊逛邊玩　旁邊就是最美橫濱海灣 https://www.ettoday.net/news/20200324/1674272.htm\n2020/03/24 09:15 影劇 白癡公主拍片認「3部位整型」：剛做完3週！　粉絲崩潰一晚「爆氣退追」 https://www.ettoday.net/news/20200324/1674913.htm\n2020/03/24 09:15 生活 「請有薪事假」勾選國內旅遊　環署員工爽跟團遊埃及回台確診 https://www.ettoday.net/news/20200324/1674912.htm\n2020/03/24 09:15 影劇  《順風婦產科》隔22年美月媽近況曝光！　轉型當Youtuber⋯大咖藝人也搶看 https://www.ettoday.net/news/20200324/1674907.htm\n2020/03/24 09:15 國際 不斷更新／南韓確診破9千大關！英國宣布禁足令　2人以上集會喊卡 https://www.ettoday.net/news/20200324/1674849.htm\n2020/03/24 09:14 社會 家暴男開庭前大爆走！爬上地檢大門平台欲跳樓　警消合力制伏 https://www.ettoday.net/news/20200324/1674888.htm\n2020/03/24 09:09 財經 新台幣早盤升值逾1角　最高來到30.25元兌1美元 https://www.ettoday.net/news/20200324/1674895.htm\n2020/03/24 09:06 生活 防疫再升級！　台南麻豆新樓醫院24日起一般病房全面禁止探病 https://www.ettoday.net/news/20200324/1674899.htm\n2020/03/24 09:05 影劇 見證劉真走完絢爛一生！網美曝「大學最美身影」送別女神：世界因妳柔軟 https://www.ettoday.net/news/20200324/1674890.htm\n2020/03/24 09:05 ET車雲 Newron EV-1「195.9萬」開放預售　木紋電動重機洋溢滿滿科技風 https://www.ettoday.net/news/20200324/1674510.htm\n2020/03/24 09:01 財經 台股早盤大漲317點！亞股率先反彈　指數站上9200點 https://www.ettoday.net/news/20200324/1674892.htm\n2020/03/24 09:00 法律 湯文章／誰流出來的19秒影片　偵查不公開很難嗎 https://www.ettoday.net/news/20200324/1674257.htm\n2020/03/24 08:59 名家 瘋電影／艾瑪　別為你的沒教養辯解成說話直 https://www.ettoday.net/news/20200324/1674826.htm\n2020/03/24 08:55 國際 更新／美國第一夫人新冠肺炎檢驗結果出爐！ https://www.ettoday.net/news/20200324/1674885.htm\n2020/03/24 08:53 財經 日韓股市反攻　台指期開盤大漲333點...預告台股開盤將強彈 https://www.ettoday.net/news/20200324/1674879.htm\n"
    }
   ],
   "source": [
    "for row in soup.find(class_= 'part_list_2').find_all('h3'):\n",
    "    date = row.find(class_= 'date').text\n",
    "    if str_to_timestamp(date) > two_hours_ago:\n",
    "        date = row.find(class_= 'date').text\n",
    "        title = row.find(name= 'a').text\n",
    "        tag = row.find(name= 'em').text\n",
    "        link = row.find(name= 'a')['href']\n",
    "        print(date,tag,title,\"https://www.ettoday.net\"+link)\n",
    ""
   ]
  },
  {
   "cell_type": "markdown",
   "metadata": {},
   "source": [
    "## 3. 根據範例，取出三天前下午三點到五點的新聞"
   ]
  },
  {
   "cell_type": "code",
   "execution_count": 51,
   "metadata": {},
   "outputs": [
    {
     "output_type": "stream",
     "name": "stdout",
     "text": "2020-03-24\n3 days, 0:00:00\n2020-03-21\n"
    }
   ],
   "source": [
    "today = datetime.date.today()\n",
    "\n",
    "print(today)\n",
    "print(datetime.timedelta(3))\n",
    "days_3_ago = today - datetime.timedelta(3)\n",
    "print(days_3_ago)"
   ]
  },
  {
   "cell_type": "code",
   "execution_count": 121,
   "metadata": {},
   "outputs": [
    {
     "output_type": "stream",
     "name": "stdout",
     "text": "2020/03/21 15:00\n2020/03/21 17:00\n1584774000.0\n1584781200.0\n"
    }
   ],
   "source": [
    "# 三天前15:00的時間戳\n",
    "dt = str(days_3_ago)+\" 15:00\"\n",
    "dt=dt.replace('-', '/')\n",
    "print(dt)\n",
    "timeArray = time.strptime(dt, \"%Y/%m/%d %H:%M\")\n",
    "three_clock = time.mktime(timeArray)\n",
    "\n",
    "\n",
    "# 三天前17:00的時間戳\n",
    "dt = str(days_3_ago)+\" 17:00\"\n",
    "dt=dt.replace('-', '/')\n",
    "print(dt)\n",
    "timeArray = time.strptime(dt, \"%Y/%m/%d %H:%M\")\n",
    "five_clock = time.mktime(timeArray)\n",
    "print(three_clock)\n",
    "print(five_clock)\n",
    "\n",
    ""
   ]
  },
  {
   "cell_type": "code",
   "execution_count": 118,
   "metadata": {},
   "outputs": [],
   "source": [
    "# 選到三天前的日期，按下查詢按鈕\n",
    "from selenium.webdriver.support.ui import Select\n",
    "\n",
    "selectYear = Select(browser.find_element_by_id(\"selY\"))\n",
    "selectYear.select_by_value(str(timeArray.tm_year))\n",
    "selectMonth = Select(browser.find_element_by_id(\"selM\"))\n",
    "selectMonth.select_by_value(str(timeArray.tm_mon))\n",
    "selectDay = Select(browser.find_element_by_id('selD'))\n",
    "selectDay.select_by_value(str(timeArray.tm_mday))\n",
    "\n",
    "browser.find_element_by_css_selector('#button').click()"
   ]
  },
  {
   "cell_type": "code",
   "execution_count": 119,
   "metadata": {},
   "outputs": [
    {
     "output_type": "stream",
     "name": "stdout",
     "text": "..\n..\n..\n..\n..\n..\n..\n..\n..\n..\n..\n..\n..\n..\n..\n..\n..\n..\n..\n..\n"
    }
   ],
   "source": [
    "# 每2秒執行一次滾動視窗的JS程式碼\n",
    "p = \".\"\n",
    "for i in range(20):\n",
    "    time.sleep(1)\n",
    "    browser.execute_script('window.scrollTo(1,20000);')\n",
    "    print(p+(\".\"))"
   ]
  },
  {
   "cell_type": "code",
   "execution_count": 123,
   "metadata": {},
   "outputs": [
    {
     "output_type": "stream",
     "name": "stdout",
     "text": "2020/03/21 17:00 地方 台東檢警偵破新冠肺炎不實訊息　即時遏止謠言散布 https://www.ettoday.net/news/20200321/1673328.htm\n2020/03/21 17:00 旅遊 網美新聚地！特搜嘉義三大人氣IG景點　秒飛日本當櫻花妹 https://www.ettoday.net/news/20200321/1672686.htm\n2020/03/21 17:00 旅遊 走進歐風小屋！台東超唯美人氣咖啡廳　招牌手沖咖啡濃厚醇香 https://www.ettoday.net/news/20200321/1670580.htm\n2020/03/21 16:58 社會 南投國中生「美工刀刺死同學」送收容　父抱頭痛哭母鞠躬向被害家屬道歉 https://www.ettoday.net/news/20200321/1673326.htm\n2020/03/21 16:58 新奇 「人皮客棧」真實版！他從死囚身上剝下2000張「刺青人皮」：與梅毒有關 https://www.ettoday.net/news/20200321/1673134.htm\n2020/03/21 16:56 國際 獨／英國超市也淨空！直飛機票一位難求　滯倫敦台人：不敢冒險回台灣 https://www.ettoday.net/news/20200321/1672992.htm\n2020/03/21 16:47 體育 UBA／林蝶抓37籃板拚到抽筋　教頭給肯定笑稱：也放槍很多 https://www.ettoday.net/news/20200321/1673327.htm\n2020/03/21 16:43 生活 高雄好市多賣場直擊！民生物資充充足　貨品「多到滿出來」 https://www.ettoday.net/news/20200321/1673285.htm\n2020/03/21 16:42 大陸 陸官媒反嗆陳建仁　維基百科資料做依據「舉世獨有」 https://www.ettoday.net/news/20200321/1673319.htm\n2020/03/21 16:42 社會 警抓「推筒子」賭場扣27萬元　賭客要錢不要命！通通沒戴口罩 https://www.ettoday.net/news/20200321/1673293.htm\n2020/03/21 16:41 政治 開記者會保證供貨無虞　韓國瑜直奔量販店…突擊檢查衛生紙區 https://www.ettoday.net/news/20200321/1673296.htm\n2020/03/21 16:40 政治 賣場「衛生紙限購令」？行政院「未行文」：由經濟部與業者協調 https://www.ettoday.net/news/20200321/1673322.htm\n2020/03/21 16:35 國際 30分鐘埋一次屍體！義大利「死太多人」慘況曝　確診後再見家人「已是葬禮」 https://www.ettoday.net/news/20200321/1673273.htm\n2020/03/21 16:34 生活 417次太魯閣號「狂冒白煙」！車上200名旅客頭城站轉乘　台鐵：鬆軔不良導致 https://www.ettoday.net/news/20200321/1673318.htm\n2020/03/21 16:34 體育 送故鄉西雅圖12500份餐點　公牛拉文抗疫盡心力 https://www.ettoday.net/news/20200321/1673316.htm\n2020/03/21 16:34 政治 影／共機繞台不算挑釁？　謝國樑開砲：希望吳斯懷盡早離開立法院 https://www.ettoday.net/news/20200321/1673315.htm\n2020/03/21 16:34 社會 快訊／花蓮石厝溝溺水意外！10歲童相約戲水溺斃　同伴目睹嚇傻 https://www.ettoday.net/news/20200321/1673309.htm\n2020/03/21 16:34 生活 北部確診高中生傳染給同班2同學　「父母卻沒中」周志浩解釋原因 https://www.ettoday.net/news/20200321/1673216.htm\n2020/03/21 16:27 體育 中職二軍／味全龍慶祝首勝　商城買一送一限時特賣 https://www.ettoday.net/news/20200321/1673310.htm\n2020/03/21 16:26 生活 台灣1日再添18例！「一半落在20多歲」...足跡全曝光　5人國外玩返台確診 https://www.ettoday.net/news/20200321/1673251.htm\n2020/03/21 16:23 政治 Taiwan Can Help！外交部「當地採購」贈委內瑞拉人民千片口罩 https://www.ettoday.net/news/20200321/1673313.htm\n2020/03/21 16:23 影劇 快訊／劉香慈生了！　臉書曬「二寶正面萌照」：沒有讓媽咪痛太久 https://www.ettoday.net/news/20200321/1673311.htm\n2020/03/21 16:21 國際 義大利「婚禮0賓客」仍要戴口罩接吻　新娘眼神死站空蕩廣場 https://www.ettoday.net/news/20200321/1673261.htm\n2020/03/21 16:21 時尚 想剪短髮又怕不適合？「5.7黃金比例」兩大關鍵幫你輕鬆判斷 https://www.ettoday.net/news/20200321/1672835.htm\n2020/03/21 16:20 寵物動物 歐告喝水「鼻子頂外面」網笑：怕溺水？　背後原因竟是「太膽小」 https://www.ettoday.net/news/20200321/1673279.htm\n2020/03/21 16:19 體育 UBA／佛光楊婉琳致命放槍吞敗　遺憾落淚：還以為會進... https://www.ettoday.net/news/20200321/1673306.htm\n2020/03/21 16:18 體育 UBA／擊敗前東家　羅培儀跨學制連4年小巨蛋爭冠 https://www.ettoday.net/news/20200321/1673307.htm\n2020/03/21 16:18 影劇 獨／戲殺青立馬買機票直奔機場…卻無法登機　王少偉曝夜宿桃機 https://www.ettoday.net/news/20200321/1673290.htm\n2020/03/21 16:18 生活 供口罩給海外留學生？　陳時中：先掌握確切需要人數 https://www.ettoday.net/news/20200321/1673202.htm\n2020/03/21 16:17 政治 影／下半場疫情複雜化　陳學聖：陳時中還要當指揮官嗎？ https://www.ettoday.net/news/20200321/1673280.htm\n2020/03/21 16:17 生活 民眾白天瘋搬衛生紙！賣場「晚上慢慢補」擺滿整排　他竊笑：根本搶不完 https://www.ettoday.net/news/20200321/1673144.htm\n2020/03/21 16:14 體育 中職二軍／張政禹關鍵內野安打　味全打敗樂天奪首勝 https://www.ettoday.net/news/20200321/1673217.htm\n2020/03/21 16:11 生活 「2020臺灣戲曲藝術節」延期　劇團4月底前皆暫停演出 https://www.ettoday.net/news/20200321/1673297.htm\n2020/03/21 16:10 財經 經部尋找金屬產業千里馬　攜手榮剛、久陽六大廠打造育才平台 https://www.ettoday.net/news/20200321/1673302.htm\n2020/03/21 16:10 影劇 《枕上書》隱藏結局曝光！迪麗熱巴依偎高偉光甜划小船 https://www.ettoday.net/news/20200321/1673289.htm\n2020/03/21 16:10 國際 義大利投入新型呼吸器「泡泡頭盔」！　重症患者看電視、交談零障礙 https://www.ettoday.net/news/20200321/1673122.htm\n2020/03/21 16:09 社會 拖吊車「越級打怪」槓上大貨車…秒翹孤輪！隊友蜈蚣式神救援　網：絕世武功 https://www.ettoday.net/news/20200321/1673238.htm\n2020/03/21 16:07 國際 抗疫同時也能正常生活！加媒分析「台灣防疫成功」3大主因 https://www.ettoday.net/news/20200321/1673243.htm\n2020/03/21 16:05 社會 跟天公借膽！白髮男吃便當混進廟宇縱火　網PO照片籲協尋罵：太歲頭上動土 https://www.ettoday.net/news/20200321/1673265.htm\n2020/03/21 16:04 社會 警搗破富二代德撲賭場　逮SBL台啤球星成力煥…他認了：懲處無條件接受 https://www.ettoday.net/news/20200321/1673271.htm\n2020/03/21 16:04 國際 2020全球幸福報告出爐　台灣第25名...蟬聯「東亞最幸福」！ https://www.ettoday.net/news/20200321/1673224.htm\n2020/03/21 16:03 影劇 反派鎖定亨利卡維爾　《蜘蛛人3》副標題網路搶先曝光 https://www.ettoday.net/news/20200321/1673300.htm\n2020/03/21 16:01 政治 共機繞台非挑釁？　林鶴明嗆吳斯懷：鴕鳥心態！ https://www.ettoday.net/news/20200321/1673295.htm\n2020/03/21 16:00 旅遊 接地氣！大直英迪格酒店全日餐廳加入台灣在地料理元素 https://www.ettoday.net/news/20200321/1673047.htm\n2020/03/21 15:58 旅遊 賞櫻數星星！人氣歐風小屋露營區　徜徉浪漫雲海中超療癒 https://www.ettoday.net/news/20200321/1672420.htm\n2020/03/21 15:57 生活 近期3名新冠肺炎本土個案「感染源不明」都曾接觸海外返台者 https://www.ettoday.net/news/20200321/1673206.htm\n2020/03/21 15:55 影劇 做公益途中「拯救昏迷民眾」　韓歌手勇舉曝光網讚爆！ https://www.ettoday.net/news/20200321/1673294.htm\n2020/03/21 15:55 寵物動物 被喵生耽誤！「你丟我撿」太興奮　她苦笑：我養到狗了 https://www.ettoday.net/news/20200321/1673009.htm\n2020/03/21 15:54 財經 元大S＆P原油正2遭質疑　金管會：投資人自認權益受損可申訴 https://www.ettoday.net/news/20200321/1673292.htm\n2020/03/21 15:54 軍武 日空軍自衛隊迎聖火「畫奧運五環」失敗　網驚：老天在暗示？ https://www.ettoday.net/news/20200321/1673222.htm\n2020/03/21 15:53 政治 新北閉館運動中心惡意放無薪假　市府：若屬實要罰 https://www.ettoday.net/news/20200321/1673287.htm\n2020/03/21 15:52 旅遊 南洋櫻盛開！烏山頭水庫飄起櫻花雪　「台版香榭大道」超浪漫 https://www.ettoday.net/news/20200321/1672474.htm\n2020/03/21 15:51 寵物動物 汪睡一排聽「這聲」秒起立　哈士奇：我是二不是傻！ https://www.ettoday.net/news/20200321/1672971.htm\n2020/03/21 15:48 生活 28年後看超暖！林良親筆回信安慰讀者被翻出　網讚：所有人的夢幻爸爸 https://www.ettoday.net/news/20200321/1673211.htm\n2020/03/21 15:44 影劇 留美女歌手36小時「居家創作」　《洗手歌》七字口訣超好背！ https://www.ettoday.net/news/20200321/1673255.htm\n2020/03/21 15:44 時尚 楊冪「中空纖腰」纏香奈兒超任性　向下看逆天長腿更逼人 https://www.ettoday.net/news/20200321/1668596.htm\n2020/03/21 15:42 寵物動物 大人在唱歌...月月二重唱忙搶拍！「被堵麥克風」秒安靜 https://www.ettoday.net/news/20200321/1673100.htm\n2020/03/21 15:41 旅遊 絕美玻璃長廊！特搜鶯歌IG打卡點　必拍五層樓「巨無霸手拉坯」 https://www.ettoday.net/news/20200321/1668845.htm\n2020/03/21 15:39 國際 比利時宣布「關閉邊境」　禁止一切非必要往來 https://www.ettoday.net/news/20200321/1673244.htm\n2020/03/21 15:38 大陸 一家三口病癒後又確診！70歲老人「病情反而更重了」...醫揭背後原因 https://www.ettoday.net/news/20200321/1673275.htm\n2020/03/21 15:37 大陸 陸首批新冠肺炎「疫苗接種」108志願者曝光！18至60歲按劑量分組 https://www.ettoday.net/news/20200321/1673281.htm\n2020/03/21 15:37 生活 案84法男「台北趴趴走4天」足跡拒公布　莊人祥：各景點都逗留30分鐘 https://www.ettoday.net/news/20200321/1673262.htm\n2020/03/21 15:35 生活 感染專家籲擴大篩檢「找無症狀帶原者」　陳時中：可討論！ https://www.ettoday.net/news/20200321/1673164.htm\n2020/03/21 15:31 影劇 曾之喬穿太貼身！　一轉身「渾圓形狀」清楚露出…男網友鼻血噴了 https://www.ettoday.net/news/20200321/1673276.htm\n2020/03/21 15:31 影劇 光良演唱會泡湯　卻無預警驚曝好消息：孩子生下來很開心！ https://www.ettoday.net/news/20200321/1673267.htm\n2020/03/21 15:30 體育 UBA／挺過三度延長拉下衛冕軍佛光　世新闖決賽拚隊史首冠 https://www.ettoday.net/news/20200321/1673248.htm\n2020/03/21 15:29 社會 不捨家人幫還債　女上網借錢竟遭詐團騙帳戶成幫兇險定罪 https://www.ettoday.net/news/20200321/1673266.htm\n2020/03/21 15:29 生活 案61捷奧團婦人病況嚴重！呼吸衰竭轉入加護病房 https://www.ettoday.net/news/20200321/1673207.htm\n2020/03/21 15:29 國際 詭！10歲童清晨「獨自漫步鐵軌」被撞死　目擊者：叫了也不回 https://www.ettoday.net/news/20200321/1673103.htm\n2020/03/21 15:26 旅遊 開店1.5小時賣光！三重人才知道的超夯鹹酥雞　必點炸玉米香甜酥脆 https://www.ettoday.net/news/20200321/1673038.htm\n2020/03/21 15:25 財經 瘋搶物資！經部找5大衛生紙、泡麵商喝咖啡　承諾連2周24小時生產 https://www.ettoday.net/news/20200321/1673268.htm\n2020/03/21 15:24 體育 紅襪作弊疑雲大聯盟調查結果已出爐？　律師預告紅襪不會認 https://www.ettoday.net/news/20200321/1673278.htm\n2020/03/21 15:23 體育 日職／松井裕樹先發失3分　宋家豪、陳冠宇未登板 https://www.ettoday.net/news/20200321/1673274.htm\n2020/03/21 15:22 國際 美國疫情最高峰還沒到！每11確診僅1通報　最高恐日增50萬例 https://www.ettoday.net/news/20200321/1673254.htm\n2020/03/21 15:21 國際 南韓部長、次長級官員「未來4個月砍薪30%」！　總理：共體時艱 https://www.ettoday.net/news/20200321/1673247.htm\n2020/03/21 15:19 影劇 「導演粉絲」加入林書豪陣營！　點名川普：不要再喊中國病毒 https://www.ettoday.net/news/20200321/1673272.htm\n2020/03/21 15:19 體育 日職／王柏融扛4番保送上壘　吳念庭同場熄火 https://www.ettoday.net/news/20200321/1673258.htm\n2020/03/21 15:18 影劇 IU裝生氣想給驚喜　一捧生日蛋糕「經紀人就爆哭」嚇壞：天啊！對不起啦！ https://www.ettoday.net/news/20200321/1673269.htm\n2020/03/21 15:16 寵物動物 「烏骨大雞腿」睡沙發！她喊2字搖一下「頭甩出來」　上千人笑翻 https://www.ettoday.net/news/20200321/1673021.htm\n2020/03/21 15:16 房產雲 石板路上的巨型水泥量體！義大利「環樹之屋」回眸古鎮歷史風韻 https://www.ettoday.net/news/20200321/1669667.htm\n2020/03/21 15:15 房產雲 不怕疫情斷糧！　三峽版「開心農場」開價1.9萬招租 https://www.ettoday.net/news/20200321/1673204.htm\n2020/03/21 15:15 生活 又一土耳其團有1人確診！30歲女3/8自行就醫　指揮中心：影響5位親友 https://www.ettoday.net/news/20200321/1673230.htm\n2020/03/21 15:14 生活 回溯歐洲返國者！指揮中心：10700人已回報「含141名外籍人士」 https://www.ettoday.net/news/20200321/1673270.htm\n2020/03/21 15:14 生活 台南高三生上課中被導師叫回家檢疫　教育局：搞錯了！應檢疫者非學生 https://www.ettoday.net/news/20200321/1673257.htm\n2020/03/21 15:12 大陸 「放走數十萬人離開武漢」禍害世界　華春瑩怒嗆蓬佩奧「別再說謊！」 https://www.ettoday.net/news/20200321/1673256.htm\n2020/03/21 15:12 社會 驚悚！新台五路小巴士車左轉彎　當場輾死斑馬線行人 https://www.ettoday.net/news/20200321/1673237.htm\n2020/03/21 15:11 生活 機場口罩開賣「僅27人買」　陳時中：不知是不是太貴？ https://www.ettoday.net/news/20200321/1673201.htm\n2020/03/21 15:11 社會 人妻想斷開不倫戀...小王竟恐嚇「把電話放到壞群」：很喜歡不同的小鳥？ https://www.ettoday.net/news/20200321/1673181.htm\n2020/03/21 15:10 寵物動物 紫斑蝶每分鐘350隻！國3號北251k至253k外側臨時封閉　保護動物遷移 https://www.ettoday.net/news/20200321/1673196.htm\n2020/03/21 15:10 國際 不怕肺炎？東京主題樂園「豐島園」重新營業　大批民眾湧入 https://www.ettoday.net/news/20200321/1673191.htm\n2020/03/21 15:07 地方 柚花巷茶席音樂會以茶詩佐春光　黃偉哲籲浪漫防疫保持身心健康 https://www.ettoday.net/news/20200321/1673263.htm\n2020/03/21 15:05 寵物動物 爺抱11月大金孫「拿狗碗」餵狗　80公斤巨犬突撲上狂咬…噴血慘死 https://www.ettoday.net/news/20200321/1673220.htm\n2020/03/21 15:04 時尚 新木優子絕美私服帶貨「平價西裝」！台幣3500有找粉絲暴動了 https://www.ettoday.net/news/20200321/1669465.htm\n2020/03/21 15:01 生活 影／累積病例達153案「可能全面停班課嗎？」　陳時中仍觀察：2個禮拜關鍵期 https://www.ettoday.net/news/20200321/1673252.htm\n2020/03/21 15:00 生活 中部30多歲確診女「工作直接面對民眾」　指揮中心不公布職業 https://www.ettoday.net/news/20200321/1673200.htm\n2020/03/21 15:00 旅遊 爽嗑螃蟹！高雄超狂麻辣鍋吃到飽　炙燒鮭魚壽司、大阪燒無限續 https://www.ettoday.net/news/20200321/1667642.htm\n"
    }
   ],
   "source": [
    "html = browser.page_source\n",
    "soup = BeautifulSoup(html, 'html5lib')\n",
    "for row in soup.find(class_= 'part_list_2').find_all('h3'):\n",
    "    date = row.find(class_= 'date').text\n",
    "    if five_clock >= str_to_timestamp(date) >= three_clock:\n",
    "        date = row.find(class_= 'date').text\n",
    "        title = row.find(name= 'a').text\n",
    "        tag = row.find(name= 'em').text\n",
    "        link = row.find(name= 'a')['href']\n",
    "        print(date,tag,title,\"https://www.ettoday.net\"+link)"
   ]
  },
  {
   "cell_type": "code",
   "execution_count": null,
   "metadata": {},
   "outputs": [],
   "source": []
  }
 ],
 "metadata": {
  "kernelspec": {
   "display_name": "Python 3",
   "language": "python",
   "name": "python3"
  },
  "language_info": {
   "codemirror_mode": {
    "name": "ipython",
    "version": 3
   },
   "file_extension": ".py",
   "mimetype": "text/x-python",
   "name": "python",
   "nbconvert_exporter": "python",
   "pygments_lexer": "ipython3",
   "version": "3.7.4-final"
  }
 },
 "nbformat": 4,
 "nbformat_minor": 2
}