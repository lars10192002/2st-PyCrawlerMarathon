{
 "cells": [
  {
   "cell_type": "markdown",
   "metadata": {},
   "source": [
    "# 反爬：登入授權模擬\n",
    "\n",
    "* 了解「登入權限機制」的反爬蟲機制\n",
    "* 「登入權限機制」反爬蟲的因應策略"
   ]
  },
  {
   "cell_type": "markdown",
   "metadata": {},
   "source": [
    "## 未授權前存取"
   ]
  },
  {
   "cell_type": "code",
   "execution_count": 1,
   "metadata": {},
   "outputs": [],
   "source": [
    "import requests\n",
    "from bs4 import BeautifulSoup\n",
    ""
   ]
  },
  {
   "cell_type": "code",
   "execution_count": 2,
   "metadata": {},
   "outputs": [
    {
     "output_type": "stream",
     "name": "stdout",
     "text": "\n\n\n\n\n批踢踢實業坊\n\n\n\n\n\n\n\n\n\n本網站已依網站內容分級規定處理\n警告︰您即將進入之看板內容需滿十八歲方可瀏覽。\n若您尚未年滿十八歲，請點選離開。若您已滿十八歲，亦不可將本區之內容派發、傳閱、出售、出租、交給或借予年齡未滿18歲的人士瀏覽，或將本網站內容向該人士出示、播放或放映。\n\n\n\n\n\n\n我同意，我已年滿十八歲進入\n\n\n未滿十八歲或不同意本條款離開\n\n\n\n\n  (function(i,s,o,g,r,a,m){i['GoogleAnalyticsObject']=r;i[r]=i[r]||function(){\n  (i[r].q=i[r].q||[]).push(arguments)},i[r].l=1*new Date();a=s.createElement(o),\n  m=s.getElementsByTagName(o)[0];a.async=1;a.src=g;m.parentNode.insertBefore(a,m)\n  })(window,document,'script','https://www.google-analytics.com/analytics.js','ga');\n\n  ga('create', 'UA-32365737-1', {\n    cookieDomain: 'ptt.cc',\n    legacyCookieDomain: 'ptt.cc'\n  });\n  ga('send', 'pageview');\n\n\n\n(function(){window['__CF$cv$params']={r:'57e9fcbb0c46ef59',m:'157bd55a28ea748699c255c3ab2e83e0a36e1fd3-1585992380-1800-AdwzD7cZapn/I08bhNq3JyKo/sWHBCqUzZ4KuwUkTWmckKG25eHFHq5e8VWPrUt+hQCBqGplgLRNzJadxY/fDNq2uAijbUYuXigvjknnylkZkaEOh2rpUZmhD1gY9Emk6MyjiXFrraduDhauKtjCJBuHMYEqwOmiEQA4zRrYkdKUUoowu/xnmV8e9mUXuMr/qw==',s:[0x50aeadc4d7,0xb7ef7f3f28],fb:0,}})();\n\n\n"
    }
   ],
   "source": [
    "res = requests.get('https://www.ptt.cc/bbs/Gossiping/index.html', verify = False)\n",
    "soup = BeautifulSoup(res.text, 'html.parser')\n",
    "print(soup.text)"
   ]
  },
  {
   "cell_type": "markdown",
   "metadata": {},
   "source": [
    "## 模仿授權機制"
   ]
  },
  {
   "cell_type": "markdown",
   "metadata": {},
   "source": [
    "### 方法一：先送登入，再送請求"
   ]
  },
  {
   "cell_type": "code",
   "execution_count": 3,
   "metadata": {},
   "outputs": [
    {
     "output_type": "stream",
     "name": "stdout",
     "text": "\n\n\n\n\n看板 Gossiping 文章列表 - 批踢踢實業坊\n\n\n\n\n\n\n\n\n\n批踢踢實業坊\n›\n看板 Gossiping\n關於我們\n聯絡資訊\n\n\n\n\n\n\n看板\n精華區\n\n\n最舊\n‹ 上頁\n下頁 ›\n最新\n\n\n\n\n\n\n\n\n\n\n7\n\n[問卦] 台灣現在就是還沒社區感染是在怕屁???\n\n\neddisontw\n\n⋯\n\n搜尋同標題文章\n搜尋看板內 eddisontw 的文章\n\n\n 4/04\n\n\n\n\n\n\n[問卦] 鳳梨釋迦柴魚好吃一大盤？\n\n\ncitizoe\n\n⋯\n\n搜尋同標題文章\n搜尋看板內 citizoe 的文章\n\n\n 4/04\n\n\n\n\n1\n\n[問卦] 有沒有腐女 百合 反過來的八卦？\n\n\ngreenteawei\n\n⋯\n\n搜尋同標題文章\n搜尋看板內 greenteawei 的文章\n\n\n 4/04\n\n\n\n\n\n\n[問卦] 李榮浩是不是很勵志?\n\n\nglthe1\n\n⋯\n\n搜尋同標題文章\n搜尋看板內 glthe1 的文章\n\n\n 4/04\n\n\n\n\n1\n\nRe: [新聞] 畢業典禮「打死阿嬤」　國中男：早就叫她\n\n\nleona12\n\n⋯\n\n搜尋同標題文章\n搜尋看板內 leona12 的文章\n\n\n 4/04\n\n\n\n\n\n\n[政治] 台灣防疫援外醫界聯盟基金會：民眾也可捐口罩\n\n\ndavidex\n\n⋯\n\n搜尋同標題文章\n搜尋看板內 davidex 的文章\n\n\n 4/04\n\n\n\n\n3\n\n[問卦] 坂道系列的伙食是不是很好?\n\n\nPrinceKanto\n\n⋯\n\n搜尋同標題文章\n搜尋看板內 PrinceKanto 的文章\n\n\n 4/04\n\n\n\n\n\n\nRe: [問卦] 日本的鳥取縣是個什麼樣的地方 ?\n\n\nihl123456\n\n⋯\n\n搜尋同標題文章\n搜尋看板內 ihl123456 的文章\n\n\n 4/04\n\n\n\n\n10\n\nRe: [新聞] 侯友宜建議女保全應列社區感染　陳時中：\n\n\nabusage\n\n⋯\n\n搜尋同標題文章\n搜尋看板內 abusage 的文章\n\n\n 4/04\n\n\n\n\n\n\n[問卦] 投行分析師 or 科技業工程師？\n\n\ncanson\n\n⋯\n\n搜尋同標題文章\n搜尋看板內 canson 的文章\n\n\n 4/04\n\n\n\n\n5\n\n[問卦] 騎腳踏車不跟人類接觸安全嗎？\n\n\nro134360\n\n⋯\n\n搜尋同標題文章\n搜尋看板內 ro134360 的文章\n\n\n 4/04\n\n\n\n\n1\n\n[問卦] 蹲下去膝蓋痛，要掛號看醫生嗎\n\n\ndrinkmuffin\n\n⋯\n\n搜尋同標題文章\n搜尋看板內 drinkmuffin 的文章\n\n\n 4/04\n\n\n\n\n\n\nRe: [政治] 「健保署職員」搭捷運不戴口罩...還飆罵\n\n\nsilencemars\n\n⋯\n\n搜尋同標題文章\n搜尋看板內 silencemars 的文章\n\n\n 4/04\n\n\n\n\n1\n\n[問卦] 桃機附近的鳥最近舒服嗎\n\n\nkuma52\n\n⋯\n\n搜尋同標題文章\n搜尋看板內 kuma52 的文章\n\n\n 4/04\n\n\n\n\n\n\nRe: [問卦] 百萬等級休旅車選哪家？\n\n\ndoraBBO\n\n⋯\n\n搜尋同標題文章\n搜尋看板內 doraBBO 的文章\n\n\n 4/04\n\n\n\n\n\n\n\n[公告] 八卦板板規(2020.03.21)\n\n\nDreamYeh\n\n⋯\n\n搜尋同標題文章\n搜尋看板內 DreamYeh 的文章\n\n\n 3/21\n!\n\n\n\n爆\n\n[協尋]  3/25  16點寶山路往食品路車禍影像\n\n\nfunnyemma\n\n⋯\n\n搜尋同標題文章\n搜尋看板內 funnyemma 的文章\n\n\n 3/26\n\n\n\n\n爆\n\n[協尋] 走失失智老人協尋\n\n\nayakaku\n\n⋯\n\n搜尋同標題文章\n搜尋看板內 ayakaku 的文章\n\n\n 4/02\n\n\n\n\n15\n\n[公告] 四月份置底閒聊文\n\n\nKay731\n\n⋯\n\n搜尋同標題文章\n搜尋看板內 Kay731 的文章\n\n\n 4/01\nM\n\n\n\n本網站已依台灣網站內容分級規定處理。此區域為限制級，未滿十八歲者不得瀏覽。\n\n\n  (function(i,s,o,g,r,a,m){i['GoogleAnalyticsObject']=r;i[r]=i[r]||function(){\n  (i[r].q=i[r].q||[]).push(arguments)},i[r].l=1*new Date();a=s.createElement(o),\n  m=s.getElementsByTagName(o)[0];a.async=1;a.src=g;m.parentNode.insertBefore(a,m)\n  })(window,document,'script','https://www.google-analytics.com/analytics.js','ga');\n\n  ga('create', 'UA-32365737-1', {\n    cookieDomain: 'ptt.cc',\n    legacyCookieDomain: 'ptt.cc'\n  });\n  ga('send', 'pageview');\n\n\n\n(function(){window['__CF$cv$params']={r:'57e9fd987e54f8e3',m:'712b73a3b98a5ff691af671a19902604cd25fd90-1585992416-1800-ARLAYPXdtwRC8cDbsSlTjNNJ5qhQgzFwQRIB7RsBRBD32e9gUefjMtfKiuyoio2GGFiJrCP1NxjyOTsRfjV4qyMEzFXQAOxWkcbAvLW5itWPEzO6oYoQSn9NDJqbIBiWztWa4YiXb0hZc18BYvcwPY8=',s:[0xb026d171dc,0x9fb4c059fa],fb:0,}})();\n\n\n"
    }
   ],
   "source": [
    "rs = requests.session()\n",
    "payload={\n",
    "    'from':'/bbs/Gossiping/index.html',\n",
    "    'yes': 'yes'\n",
    "}\n",
    "res = rs.post('https://www.ptt.cc/ask/over18',verify = False, data = payload)\n",
    "res = rs.get('https://www.ptt.cc/bbs/Gossiping/index.html',verify = False)\n",
    "soup = BeautifulSoup(res.text,'html.parser')\n",
    "print(soup.text) "
   ]
  },
  {
   "cell_type": "markdown",
   "metadata": {},
   "source": [
    "### 方法二：在請求中帶入 cookie"
   ]
  },
  {
   "cell_type": "code",
   "execution_count": 4,
   "metadata": {},
   "outputs": [
    {
     "output_type": "stream",
     "name": "stdout",
     "text": "\n\n\n\n\n看板 Gossiping 文章列表 - 批踢踢實業坊\n\n\n\n\n\n\n\n\n\n批踢踢實業坊\n›\n看板 Gossiping\n關於我們\n聯絡資訊\n\n\n\n\n\n\n看板\n精華區\n\n\n最舊\n‹ 上頁\n下頁 ›\n最新\n\n\n\n\n\n\n\n\n\n\n7\n\n[問卦] 台灣現在就是還沒社區感染是在怕屁???\n\n\neddisontw\n\n⋯\n\n搜尋同標題文章\n搜尋看板內 eddisontw 的文章\n\n\n 4/04\n\n\n\n\n\n\n[問卦] 鳳梨釋迦柴魚好吃一大盤？\n\n\ncitizoe\n\n⋯\n\n搜尋同標題文章\n搜尋看板內 citizoe 的文章\n\n\n 4/04\n\n\n\n\n1\n\n[問卦] 有沒有腐女 百合 反過來的八卦？\n\n\ngreenteawei\n\n⋯\n\n搜尋同標題文章\n搜尋看板內 greenteawei 的文章\n\n\n 4/04\n\n\n\n\n\n\n[問卦] 李榮浩是不是很勵志?\n\n\nglthe1\n\n⋯\n\n搜尋同標題文章\n搜尋看板內 glthe1 的文章\n\n\n 4/04\n\n\n\n\n1\n\nRe: [新聞] 畢業典禮「打死阿嬤」　國中男：早就叫她\n\n\nleona12\n\n⋯\n\n搜尋同標題文章\n搜尋看板內 leona12 的文章\n\n\n 4/04\n\n\n\n\n\n\n[政治] 台灣防疫援外醫界聯盟基金會：民眾也可捐口罩\n\n\ndavidex\n\n⋯\n\n搜尋同標題文章\n搜尋看板內 davidex 的文章\n\n\n 4/04\n\n\n\n\n3\n\n[問卦] 坂道系列的伙食是不是很好?\n\n\nPrinceKanto\n\n⋯\n\n搜尋同標題文章\n搜尋看板內 PrinceKanto 的文章\n\n\n 4/04\n\n\n\n\n\n\nRe: [問卦] 日本的鳥取縣是個什麼樣的地方 ?\n\n\nihl123456\n\n⋯\n\n搜尋同標題文章\n搜尋看板內 ihl123456 的文章\n\n\n 4/04\n\n\n\n\n10\n\nRe: [新聞] 侯友宜建議女保全應列社區感染　陳時中：\n\n\nabusage\n\n⋯\n\n搜尋同標題文章\n搜尋看板內 abusage 的文章\n\n\n 4/04\n\n\n\n\n\n\n[問卦] 投行分析師 or 科技業工程師？\n\n\ncanson\n\n⋯\n\n搜尋同標題文章\n搜尋看板內 canson 的文章\n\n\n 4/04\n\n\n\n\n5\n\n[問卦] 騎腳踏車不跟人類接觸安全嗎？\n\n\nro134360\n\n⋯\n\n搜尋同標題文章\n搜尋看板內 ro134360 的文章\n\n\n 4/04\n\n\n\n\n1\n\n[問卦] 蹲下去膝蓋痛，要掛號看醫生嗎\n\n\ndrinkmuffin\n\n⋯\n\n搜尋同標題文章\n搜尋看板內 drinkmuffin 的文章\n\n\n 4/04\n\n\n\n\n\n\nRe: [政治] 「健保署職員」搭捷運不戴口罩...還飆罵\n\n\nsilencemars\n\n⋯\n\n搜尋同標題文章\n搜尋看板內 silencemars 的文章\n\n\n 4/04\n\n\n\n\n1\n\n[問卦] 桃機附近的鳥最近舒服嗎\n\n\nkuma52\n\n⋯\n\n搜尋同標題文章\n搜尋看板內 kuma52 的文章\n\n\n 4/04\n\n\n\n\n\n\nRe: [問卦] 百萬等級休旅車選哪家？\n\n\ndoraBBO\n\n⋯\n\n搜尋同標題文章\n搜尋看板內 doraBBO 的文章\n\n\n 4/04\n\n\n\n\n\n\n\n[公告] 八卦板板規(2020.03.21)\n\n\nDreamYeh\n\n⋯\n\n搜尋同標題文章\n搜尋看板內 DreamYeh 的文章\n\n\n 3/21\n!\n\n\n\n爆\n\n[協尋]  3/25  16點寶山路往食品路車禍影像\n\n\nfunnyemma\n\n⋯\n\n搜尋同標題文章\n搜尋看板內 funnyemma 的文章\n\n\n 3/26\n\n\n\n\n爆\n\n[協尋] 走失失智老人協尋\n\n\nayakaku\n\n⋯\n\n搜尋同標題文章\n搜尋看板內 ayakaku 的文章\n\n\n 4/02\n\n\n\n\n15\n\n[公告] 四月份置底閒聊文\n\n\nKay731\n\n⋯\n\n搜尋同標題文章\n搜尋看板內 Kay731 的文章\n\n\n 4/01\nM\n\n\n\n本網站已依台灣網站內容分級規定處理。此區域為限制級，未滿十八歲者不得瀏覽。\n\n\n  (function(i,s,o,g,r,a,m){i['GoogleAnalyticsObject']=r;i[r]=i[r]||function(){\n  (i[r].q=i[r].q||[]).push(arguments)},i[r].l=1*new Date();a=s.createElement(o),\n  m=s.getElementsByTagName(o)[0];a.async=1;a.src=g;m.parentNode.insertBefore(a,m)\n  })(window,document,'script','https://www.google-analytics.com/analytics.js','ga');\n\n  ga('create', 'UA-32365737-1', {\n    cookieDomain: 'ptt.cc',\n    legacyCookieDomain: 'ptt.cc'\n  });\n  ga('send', 'pageview');\n\n\n\n(function(){window['__CF$cv$params']={r:'57e9fe928eddaf03',m:'9783c34dc27d518106a20874b69c36ef8a074320-1585992456-1800-AW/PxnhpMB2tmLJ0cAV6C5in28D/ad6dGVksOsy5ITYudxSXT2JsALzMqSG+DQ002XtoDEnpSE0wHQD/YeZrXx0Oifxf2i2wt7MJ/as9ZfN7iWc1BUhaRN7o/5fYrWQfVQESuLWAs9H/delDwhQKSlA=',s:[0x5700780dd6,0xd91b956840],fb:0,}})();\n\n\n"
    }
   ],
   "source": [
    "res = requests.get('https://www.ptt.cc/bbs/Gossiping/index.html',verify = False, cookies={'over18': '1'})\n",
    "soup = BeautifulSoup(res.text,'html.parser')\n",
    "print(soup.text)"
   ]
  },
  {
   "cell_type": "markdown",
   "metadata": {},
   "source": [
    "## 作業目標\n",
    "\n",
    "* 找一個需要登入的網站試試看，並說明思考流程\n",
    "（如果不知道要用哪個網站的話，可以試試看 https://github.com/new 網址，未登入時會被導向登入頁）\n",
    "\n"
   ]
  },
  {
   "cell_type": "code",
   "execution_count": null,
   "metadata": {},
   "outputs": [],
   "source": []
  }
 ],
 "metadata": {
  "kernelspec": {
   "display_name": "Python 3",
   "language": "python",
   "name": "python3"
  },
  "language_info": {
   "codemirror_mode": {
    "name": "ipython",
    "version": 3
   },
   "file_extension": ".py",
   "mimetype": "text/x-python",
   "name": "python",
   "nbconvert_exporter": "python",
   "pygments_lexer": "ipython3",
   "version": "3.7.4-final"
  }
 },
 "nbformat": 4,
 "nbformat_minor": 2
}