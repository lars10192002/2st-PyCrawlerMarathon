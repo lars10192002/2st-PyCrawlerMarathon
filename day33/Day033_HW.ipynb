{
 "cells": [
  {
   "cell_type": "markdown",
   "metadata": {},
   "source": [
    "# 反爬：登入授權模擬\n",
    "\n",
    "* 了解「登入權限機制」的反爬蟲機制\n",
    "* 「登入權限機制」反爬蟲的因應策略"
   ]
  },
  {
   "cell_type": "markdown",
   "metadata": {},
   "source": [
    "## 作業目標\n",
    "\n",
    "* 找一個需要登入的網站試試看，並說明思考流程\n",
    "（如果不知道要用哪個網站的話，可以試試看 https://github.com/new 網址，未登入時會被導向登入頁）\n",
    "\n"
   ]
  },
  {
   "cell_type": "code",
   "execution_count": 1,
   "metadata": {},
   "outputs": [],
   "source": [
    "import requests\n",
    "from bs4 import BeautifulSoup"
   ]
  },
  {
   "cell_type": "code",
   "execution_count": 13,
   "metadata": {},
   "outputs": [
    {
     "output_type": "stream",
     "name": "stdout",
     "text": "\n\n\n\n\n\n\n\n\n\n\n\n\n\n\n\nSign in to GitHub · GitHub\n\n\n\n\n\n\n\n\n\n\n\n\n\n\n\n\n\n\n\n\n\n\n\n\n\n\n\n\n\n\n\n\n\n\n\n\n\n\n\n\n\n\n\n\n\n\n\n\n\n\n\n\n\n\n\n\n\nSkip to content\n\n\n\n\n\n\n\n\nGitHub no longer supports this web browser.\n\n          Learn more about the browsers we support.\n        \n\n\n\n\n\n\n\n\n\n\n\n\n\n\n\n\n\n \n\nSign in to GitHub\n\n\n\n\n\n\n\n\n\n\n\n\n\n\n\n\n\n\n\n\n          Username or email address\n        \n\n\n          Password Forgot password?\n\n\n\n\n\n\n\n\n\n\n        New to GitHub?\n        Create an account.\n      \n\n\n\n\n\nTerms\nPrivacy\nSecurity\nContact GitHub\n\n\n\n\n\n\n\n    You can’t perform that action at this time.\n  \n\n\n\n\n\n\n\n\nYou signed in with another tab or window. Reload to refresh your session.\nYou signed out in another tab or window. Reload to refresh your session.\n\n\n\n\n\n\n\n\n\n\n\n\n\n\n\n\n\n\n\n\n"
    }
   ],
   "source": [
    "url = 'https://github.com/new'\n",
    "resp = requests.get(url)\n",
    "soup = BeautifulSoup(resp.text, 'html.parser')\n",
    "print(soup.text)"
   ]
  },
  {
   "cell_type": "code",
   "execution_count": 14,
   "metadata": {},
   "outputs": [
    {
     "output_type": "stream",
     "name": "stdout",
     "text": "Create a New RepositorySkip to content        Search              All GitHub      ↵      Jump to      ↵No suggested jump to results        Search              All GitHub      ↵      Jump to      ↵        Search              All GitHub      ↵      Jump to      ↵     Pull requests    Issues        Marketplace    Explore   New repository    Import repository    New gist    New organization      New project  Signed in as lucakao1019Set statusEdit statusCould not update your status, please try again.              80 remaining            Suggestions:🌴                          On vacation                        🤒                          Out sick                        🏠                          Working from home                        🎯                          Focusing                                          Busy                                  When others mention you, assign you, or request your review,                  GitHub will let them know that you have limited availability.                    Clear status          Never      NeverKeep this status until you clear your status or edit your status.            in 30 minutes                      in 1 hour                      in 4 hours                      today                      this week                      Set status                      Clear status           Your profileYour repositoriesYour projectsYour starsYour gists    Feature preview  HelpSettings        Sign out       Create a new repository      A repository contains all project files, including the revision history.        Already have a project repository elsewhere? Import a repository.Owner    lucakao1019        lucakao1019    /Repository name        Great repository names are short and memorable. Need inspiration? How about        shiny-carnival?      Description (optional)          Public                    Anyone can see this repository. You choose who can commit.                  You may not create public repositories by organization policy.                  Private                  You choose who can see and commit to this repository.                  You may not create private repositories by organization policy.                  Due to U.S. trade controls law restrictions, paid GitHub organization services have been restricted.For free organization accounts, you may have access to free GitHub public repository services (such as access to GitHub Pages and public repositories used for open source projects) for personal communications only, and not for commercial purposes. The restriction also includes suspended access to private repository services and paid services (such as availability of private organizational accounts and GitHub Marketplace services).Please read about GitHub and Trade Controls for more information.                  Due to U.S. trade controls law restrictions, your GitHub account has been restricted.This means we have suspended access to private repository services and paid services for your account. For free individual accounts, you still have access to free GitHub public repository services (such as public repositories for open source projects and associated GitHub Pages and Gists).If you believe your account has been flagged in error, and you are not located in or resident in a sanctioned region, please file an appeal.Please read about GitHub and Trade Controls for more information.                  Your current plan does not support private repositories.                          Your organization's owners will need to upgrade to Team.            Skip this step if you’re importing an existing repository.            Initialize this repository with a README                      This will let you immediately clone the repository to your computer.          Add .gitignore:None.gitignoreNoneActionscriptAdaAgdaAndroidAppEngineAppceleratorTitaniumArchLinuxPackagesAutotoolsCC++CFWheelsCMakeCUDACakePHPChefCookbookClojureCodeIgniterCommonLispComposerConcrete5CoqCraftCMSDDMDartDelphiDrupalEPiServerEagleElispElixirElmErlangExpressionEngineExtJsFancyFinaleForceDotComFortranFuelPHPGWTGitBookGoGodotGradleGrailsHaskellIGORProIdrisJENKINS_HOMEJavaJbossJekyllJoomlaJuliaKiCADKohanaKotlinLabVIEWLaravelLeiningenLemonStandLilypondLithiumLuaMagentoMavenMercuryMetaProgrammingSystemNimNodeOCamlObjective-COpaOracleFormsPackerPerlPerl6PhalconPlayFrameworkPlonePrestashopProcessingPureScriptPythonQooxdooQtRROSRailsRhodesRhomobileRubyRustSConsSassScalaSchemeScrivenerSdccSeamGenSketchUpSmalltalkSugarCRMSwiftSymfonySymphonyCMSTeXTerraformTextpatternTurboGears2Typo3UmbracoUnityUnrealEngineVVVVVisualStudioWafWordPressXojoYeomanYiiZendFrameworkZephirgcovnanocopencartstellaNothing to showAdd a license:NoneLicenses            None                        Apache License 2.0                          GNU General Public License v3.0                          MIT License                          BSD 2-Clause \"Simplified\" License                          BSD 3-Clause \"New\" or \"Revised\" License                          Creative Commons Zero v1.0 Universal                          Eclipse Public License 2.0                          GNU Affero General Public License v3.0                          GNU General Public License v2.0                          GNU Lesser General Public License v2.1                          GNU Lesser General Public License v3.0                          Mozilla Public License 2.0                          The Unlicense                      No results found.                Create repository              You don’t appear to have permission to create repositories for this organization. Sorry about that.      © 2020 GitHub, Inc.TermsPrivacySecurityStatusHelpContact GitHubPricingAPITrainingBlogAbout    You can’t perform that action at this time.  You signed in with another tab or window. Reload to refresh your session.You signed out in another tab or window. Reload to refresh your session.\n"
    }
   ],
   "source": [
    "cookies = {\n",
    "    'logged_in':'yes',\n",
    "    'user_session':'B7HJY2E4WceVRKhXpeoz97uJv6hKMuzy3xZSkeiqJrRcAMRe',\n",
    "    'dotcom_user': 'lucakao1019',\n",
    "    'has_recent_activity': '1',\n",
    "}\n",
    "resp = requests.get(url, verify=False, cookies=cookies) \n",
    "soup = BeautifulSoup(resp.text, 'html.parser')\n",
    "print(soup.text.replace('\\n',''))"
   ]
  },
  {
   "cell_type": "code",
   "execution_count": null,
   "metadata": {},
   "outputs": [],
   "source": []
  }
 ],
 "metadata": {
  "kernelspec": {
   "display_name": "Python 3",
   "language": "python",
   "name": "python3"
  },
  "language_info": {
   "codemirror_mode": {
    "name": "ipython",
    "version": 3
   },
   "file_extension": ".py",
   "mimetype": "text/x-python",
   "name": "python",
   "nbconvert_exporter": "python",
   "pygments_lexer": "ipython3",
   "version": "3.7.4-final"
  }
 },
 "nbformat": 4,
 "nbformat_minor": 2
}