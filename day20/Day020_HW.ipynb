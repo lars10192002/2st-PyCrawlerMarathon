{
 "cells": [
  {
   "cell_type": "markdown",
   "metadata": {},
   "source": [
    "# 動態網頁爬蟲 - API Request\n",
    "\n",
    "* 了解 API Request 用於動態網頁爬蟲的原理\n",
    "* 能夠使用 API Request 撰寫動態網頁爬蟲\n",
    "\n",
    "\n",
    "\n",
    "\n"
   ]
  },
  {
   "cell_type": "markdown",
   "metadata": {},
   "source": [
    "## 作業目標\n",
    "\n",
    "\n",
    "* 根據範例使用 API 取出 高雄市小港區 2019 年 空氣品質 資料，並用一個適合的資料結構儲存\n",
    "* Hint: 將所有資料存在一個變數當中\n"
   ]
  },
  {
   "cell_type": "code",
   "execution_count": 5,
   "metadata": {},
   "outputs": [
    {
     "output_type": "execute_result",
     "data": {
      "text/plain": "200"
     },
     "metadata": {},
     "execution_count": 5
    }
   ],
   "source": [
    "import requests\n",
    "url = 'https://taqm.epa.gov.tw/taqm/tw/MonthlyAverage.aspx'\n",
    "payload = {\n",
    "    'ctl05$ddlSite': 58,\n",
    "    'ctl05$ddlYear': 2019,\n",
    "    'ctl05$btnQuery': '查詢',\n",
    "    'ScriptManager1': 'ctl05$UpdatePanel1|ctl05$btnQuery',\n",
    "    '__VIEWSTATE': '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',\n",
    "    '__VIEWSTATEGENERATOR': '0C858E1A',\n",
    "    '__EVENTVALIDATION': 'd9trCPZ8rizDVqdd+J14o9P3N+VbDZYg231O6R9C1B8gojawvGi0JwQUmatuSTeFVrys5o5wMLJcSTFLB41uw0Z+dKhrRukiUFHPuGWb0asli+VX4jaSpYyQeyAdri6dc+1KMd9nqaGGONdfxKcOkaRsaqUyI/owKAOcqbA0FavT0reV2/D6tDg5g/yHmoOrm9RJIe2mV0FE+F5cdsmaQH8KmqaE6uRF6TIHjJZpouTGDv367HoY3ySROUh9lFTp0j7Dr5kzBpL80OFJkiVMEu9GMEkxT7BCYFn08K4iFVhDcBr5AW8jEpjvK/WZbDnccT/67nRKxYeNT1zb9VTegycP3yw18HZkEv+ErrfYAnWVPqc/d7VfHx46RtpssQBHwhGDLxxpJNmFr5srvlIFJOPLci3GOb4j0gWzpTRhJfpeBtolQkgpGRYPG/nSN+TfUPIbsILQz3gcgTrBLjvOJduCZWIr7gwRwzreKRaODqWLC3DJ3q78PhpYaomVr/ClCWpx8oL4B7xZjce2qZOMFx1HEvTLtTdEChokc5kvuTyNhETV5UYuvbCET//VZft+I1PDrPzNIny5sXZdN255V4B9zqWCPjB6F5Hz8tMeTgI5ERAGRVu5LbJFATQxEdkLb0uds0it1wRiDTfXtWAEVdFckoaWeLNfDJaFjSDQfe2ikSDPCj2k0e9rOFw6+bkIsm4Q3V9CqJqfFjw/LEmCmu6c8cqN+f2AXO9ZRONS3pMa+VdfD+L99QdBbXnCJNN5zhVNp211Rm/xRLak/BN0Az4mv70qGehrOswxsoK4TbbbwjvNR0rJVIwnRDVHUUG9fpqZO6tWqwaR/6hWIRNqL9qjg4AJTSunokq6ftBP2mqO3YPUCok2NVWBfAeW8hJ3bz1fW8MGPvf3rBg05cU9t6/cv0cSlkYAbzjFSotLnFyrgI4kEPtmKPu338mmN0QWnjKSmd/KG5OO92jaUAgBRc/f8oY='\n",
    "}\n",
    "r = requests.post(url, data=payload)\n",
    "r.status_code"
   ]
  },
  {
   "cell_type": "markdown",
   "metadata": {},
   "source": [
    "![](https://imgur.com/obLkbFe.jpg)"
   ]
  },
  {
   "cell_type": "code",
   "execution_count": 6,
   "metadata": {},
   "outputs": [
    {
     "output_type": "stream",
     "name": "stdout",
     "text": "<table align=\"Center\" border=\"1\" cellpadding=\"3\" cellspacing=\"0\" class=\"TABLE_G\" id=\"ctl05_gv\" rules=\"all\" style=\"border-color:Black;border-width:1px;border-style:None;border-collapse:collapse;\">\n<tr style=\"color:Black;font-weight:normal;\">\n<th scope=\"col\">監測項目</th><th scope=\"col\">單位</th><th scope=\"col\">監測日期</th><th scope=\"col\">監測值</th><th scope=\"col\">標註</th>\n</tr><tr style=\"color:Black;\">\n<td class=\"no-alt\" rowspan=\"12\" style=\"white-space:nowrap;\" valign=\"top\">SO2</td><td class=\"no-alt\" rowspan=\"12\" valign=\"top\">ppb</td><td>2019/01</td><td>4.10</td><td> </td>\n</tr><tr class=\"ALT\" style=\"color:Black;\">\n<td>2019/02</td><td>3.30</td><td> </td>\n</tr><tr style=\"color:Black;\">\n<td>2019/03</td><td>3.90</td><td> </td>\n</tr><tr class=\"ALT\" style=\"color:Black;\">\n<td>2019/04</td><td>3.40</td><td> </td>\n</tr><tr style=\"color:Black;\">\n<td>2019/05</td><td>3.30</td><td> </td>\n</tr><tr class=\"ALT\" style=\"color:Black;\">\n<td>2019/06</td><td>4.10</td><td> </td>\n</tr><tr style=\"color:Black;\">\n<td>2019/07</td><td>4</td><td> </td>\n</tr><tr class=\"ALT\" style=\"color:Black;\">\n<td>2019/08</td><td>4.60</td><td> </td>\n</tr><tr style=\"color:Black;\">\n<td>2019/09</td><td>3.50</td><td> </td>\n</tr><tr class=\"ALT\" style=\"color:Black;\">\n<td>2019/10</td><td>3.20</td><td> </td>\n</tr><tr style=\"color:Black;\">\n<td>2019/11</td><td>3.60</td><td> </td>\n</tr><tr class=\"ALT\" style=\"color:Black;\">\n<td>2019/12</td><td>3</td><td> </td>\n</tr><tr style=\"color:Black;\">\n<td class=\"no-alt\" rowspan=\"12\" style=\"white-space:nowrap;\" valign=\"top\">CO</td><td class=\"no-alt\" rowspan=\"12\" valign=\"top\">ppm</td><td>2019/01</td><td>0.67</td><td> </td>\n</tr><tr class=\"ALT\" style=\"color:Black;\">\n<td>2019/02</td><td>0.48</td><td> </td>\n</tr><tr style=\"color:Black;\">\n<td>2019/03</td><td>0.50</td><td> </td>\n</tr><tr class=\"ALT\" style=\"color:Black;\">\n<td>2019/04</td><td>0.39</td><td> </td>\n</tr><tr style=\"color:Black;\">\n<td>2019/05</td><td>0.38</td><td> </td>\n</tr><tr class=\"ALT\" style=\"color:Black;\">\n<td>2019/06</td><td>0.24</td><td> </td>\n</tr><tr style=\"color:Black;\">\n<td>2019/07</td><td>0.28</td><td> </td>\n</tr><tr class=\"ALT\" style=\"color:Black;\">\n<td>2019/08</td><td>0.33</td><td> </td>\n</tr><tr style=\"color:Black;\">\n<td>2019/09</td><td>0.32</td><td> </td>\n</tr><tr class=\"ALT\" style=\"color:Black;\">\n<td>2019/10</td><td>0.36</td><td> </td>\n</tr><tr style=\"color:Black;\">\n<td>2019/11</td><td>0.46</td><td> </td>\n</tr><tr class=\"ALT\" style=\"color:Black;\">\n<td>2019/12</td><td>0.54</td><td> </td>\n</tr><tr style=\"color:Black;\">\n<td class=\"no-alt\" rowspan=\"12\" style=\"white-space:nowrap;\" valign=\"top\">O3</td><td class=\"no-alt\" rowspan=\"12\" valign=\"top\">ppb</td><td>2019/01</td><td>24.70</td><td> </td>\n</tr><tr class=\"ALT\" style=\"color:Black;\">\n<td>2019/02</td><td>29.40</td><td> </td>\n</tr><tr style=\"color:Black;\">\n<td>2019/03</td><td>29.20</td><td> </td>\n</tr><tr class=\"ALT\" style=\"color:Black;\">\n<td>2019/04</td><td>30.40</td><td> </td>\n</tr><tr style=\"color:Black;\">\n<td>2019/05</td><td>28.60</td><td> </td>\n</tr><tr class=\"ALT\" style=\"color:Black;\">\n<td>2019/06</td><td>16.30</td><td> </td>\n</tr><tr style=\"color:Black;\">\n<td>2019/07</td><td>15.50</td><td> </td>\n</tr><tr class=\"ALT\" style=\"color:Black;\">\n<td>2019/08</td><td>19.70</td><td> </td>\n</tr><tr style=\"color:Black;\">\n<td>2019/09</td><td>35.70</td><td> </td>\n</tr><tr class=\"ALT\" style=\"color:Black;\">\n<td>2019/10</td><td>44</td><td> </td>\n</tr><tr style=\"color:Black;\">\n<td>2019/11</td><td>34.80</td><td> </td>\n</tr><tr class=\"ALT\" style=\"color:Black;\">\n<td>2019/12</td><td>22.30</td><td> </td>\n</tr><tr style=\"color:Black;\">\n<td class=\"no-alt\" rowspan=\"12\" style=\"white-space:nowrap;\" valign=\"top\">PM10</td><td class=\"no-alt\" rowspan=\"12\" valign=\"top\">μg/m3</td><td>2019/01</td><td>78</td><td> </td>\n</tr><tr class=\"ALT\" style=\"color:Black;\">\n<td>2019/02</td><td>57</td><td> </td>\n</tr><tr style=\"color:Black;\">\n<td>2019/03</td><td>52</td><td> </td>\n</tr><tr class=\"ALT\" style=\"color:Black;\">\n<td>2019/04</td><td>42</td><td> </td>\n</tr><tr style=\"color:Black;\">\n<td>2019/05</td><td>35</td><td> </td>\n</tr><tr class=\"ALT\" style=\"color:Black;\">\n<td>2019/06</td><td>20</td><td> </td>\n</tr><tr style=\"color:Black;\">\n<td>2019/07</td><td>24</td><td> </td>\n</tr><tr class=\"ALT\" style=\"color:Black;\">\n<td>2019/08</td><td>27</td><td> </td>\n</tr><tr style=\"color:Black;\">\n<td>2019/09</td><td>35</td><td> </td>\n</tr><tr class=\"ALT\" style=\"color:Black;\">\n<td>2019/10</td><td>50</td><td> </td>\n</tr><tr style=\"color:Black;\">\n<td>2019/11</td><td>63</td><td> </td>\n</tr><tr class=\"ALT\" style=\"color:Black;\">\n<td>2019/12</td><td>54</td><td> </td>\n</tr><tr style=\"color:Black;\">\n<td class=\"no-alt\" rowspan=\"12\" style=\"white-space:nowrap;\" valign=\"top\">NOx</td><td class=\"no-alt\" rowspan=\"12\" valign=\"top\">ppb</td><td>2019/01</td><td>38.01</td><td> </td>\n</tr><tr class=\"ALT\" style=\"color:Black;\">\n<td>2019/02</td><td>25.62</td><td> </td>\n</tr><tr style=\"color:Black;\">\n<td>2019/03</td><td>27.84</td><td> </td>\n</tr><tr class=\"ALT\" style=\"color:Black;\">\n<td>2019/04</td><td>21.83</td><td> </td>\n</tr><tr style=\"color:Black;\">\n<td>2019/05</td><td>22.55</td><td> </td>\n</tr><tr class=\"ALT\" style=\"color:Black;\">\n<td>2019/06</td><td>17.15</td><td> </td>\n</tr><tr style=\"color:Black;\">\n<td>2019/07</td><td>17.71</td><td> </td>\n</tr><tr class=\"ALT\" style=\"color:Black;\">\n<td>2019/08</td><td>19.66</td><td> </td>\n</tr><tr style=\"color:Black;\">\n<td>2019/09</td><td>18.66</td><td> </td>\n</tr><tr class=\"ALT\" style=\"color:Black;\">\n<td>2019/10</td><td>19.50</td><td> </td>\n</tr><tr style=\"color:Black;\">\n<td>2019/11</td><td>28.99</td><td> </td>\n</tr><tr class=\"ALT\" style=\"color:Black;\">\n<td>2019/12</td><td>33.84</td><td> </td>\n</tr><tr style=\"color:Black;\">\n<td class=\"no-alt\" rowspan=\"12\" style=\"white-space:nowrap;\" valign=\"top\">NO</td><td class=\"no-alt\" rowspan=\"12\" valign=\"top\">ppb</td><td>2019/01</td><td>7.95</td><td> </td>\n</tr><tr class=\"ALT\" style=\"color:Black;\">\n<td>2019/02</td><td>4.76</td><td> </td>\n</tr><tr style=\"color:Black;\">\n<td>2019/03</td><td>5.41</td><td> </td>\n</tr><tr class=\"ALT\" style=\"color:Black;\">\n<td>2019/04</td><td>4.16</td><td> </td>\n</tr><tr style=\"color:Black;\">\n<td>2019/05</td><td>4.58</td><td> </td>\n</tr><tr class=\"ALT\" style=\"color:Black;\">\n<td>2019/06</td><td>5.08</td><td> </td>\n</tr><tr style=\"color:Black;\">\n<td>2019/07</td><td>5.16</td><td> </td>\n</tr><tr class=\"ALT\" style=\"color:Black;\">\n<td>2019/08</td><td>5.17</td><td> </td>\n</tr><tr style=\"color:Black;\">\n<td>2019/09</td><td>3.63</td><td> </td>\n</tr><tr class=\"ALT\" style=\"color:Black;\">\n<td>2019/10</td><td>3.50</td><td> </td>\n</tr><tr style=\"color:Black;\">\n<td>2019/11</td><td>5.21</td><td> </td>\n</tr><tr class=\"ALT\" style=\"color:Black;\">\n<td>2019/12</td><td>7.83</td><td> </td>\n</tr><tr style=\"color:Black;\">\n<td class=\"no-alt\" rowspan=\"12\" style=\"white-space:nowrap;\" valign=\"top\">NO2</td><td class=\"no-alt\" rowspan=\"12\" valign=\"top\">ppb</td><td>2019/01</td><td>30.06</td><td> </td>\n</tr><tr class=\"ALT\" style=\"color:Black;\">\n<td>2019/02</td><td>20.86</td><td> </td>\n</tr><tr style=\"color:Black;\">\n<td>2019/03</td><td>22.43</td><td> </td>\n</tr><tr class=\"ALT\" style=\"color:Black;\">\n<td>2019/04</td><td>17.68</td><td> </td>\n</tr><tr style=\"color:Black;\">\n<td>2019/05</td><td>17.98</td><td> </td>\n</tr><tr class=\"ALT\" style=\"color:Black;\">\n<td>2019/06</td><td>12.08</td><td> </td>\n</tr><tr style=\"color:Black;\">\n<td>2019/07</td><td>12.54</td><td> </td>\n</tr><tr class=\"ALT\" style=\"color:Black;\">\n<td>2019/08</td><td>14.49</td><td> </td>\n</tr><tr style=\"color:Black;\">\n<td>2019/09</td><td>15.03</td><td> </td>\n</tr><tr class=\"ALT\" style=\"color:Black;\">\n<td>2019/10</td><td>15.99</td><td> </td>\n</tr><tr style=\"color:Black;\">\n<td>2019/11</td><td>23.78</td><td> </td>\n</tr><tr class=\"ALT\" style=\"color:Black;\">\n<td>2019/12</td><td>26</td><td> </td>\n</tr><tr style=\"color:Black;\">\n<td class=\"no-alt\" rowspan=\"12\" style=\"white-space:nowrap;\" valign=\"top\">THC</td><td class=\"no-alt\" rowspan=\"12\" valign=\"top\">ppm</td><td>2019/01</td><td>2.27</td><td> </td>\n</tr><tr class=\"ALT\" style=\"color:Black;\">\n<td>2019/02</td><td>2.11</td><td> </td>\n</tr><tr style=\"color:Black;\">\n<td>2019/03</td><td>2.12</td><td> </td>\n</tr><tr class=\"ALT\" style=\"color:Black;\">\n<td>2019/04</td><td>2.02</td><td> </td>\n</tr><tr style=\"color:Black;\">\n<td>2019/05</td><td>2.02</td><td> </td>\n</tr><tr class=\"ALT\" style=\"color:Black;\">\n<td>2019/06</td><td>1.92</td><td> </td>\n</tr><tr style=\"color:Black;\">\n<td>2019/07</td><td>1.93</td><td> </td>\n</tr><tr class=\"ALT\" style=\"color:Black;\">\n<td>2019/08</td><td>1.97</td><td> </td>\n</tr><tr style=\"color:Black;\">\n<td>2019/09</td><td>1.98</td><td> </td>\n</tr><tr class=\"ALT\" style=\"color:Black;\">\n<td>2019/10</td><td>2.05</td><td> </td>\n</tr><tr style=\"color:Black;\">\n<td>2019/11</td><td>2.15</td><td> </td>\n</tr><tr class=\"ALT\" style=\"color:Black;\">\n<td>2019/12</td><td>2.18</td><td> </td>\n</tr><tr style=\"color:Black;\">\n<td class=\"no-alt\" rowspan=\"12\" style=\"white-space:nowrap;\" valign=\"top\">NMHC</td><td class=\"no-alt\" rowspan=\"12\" valign=\"top\">ppm</td><td>2019/01</td><td>0.27</td><td> </td>\n</tr><tr class=\"ALT\" style=\"color:Black;\">\n<td>2019/02</td><td>0.17</td><td> </td>\n</tr><tr style=\"color:Black;\">\n<td>2019/03</td><td>0.18</td><td> </td>\n</tr><tr class=\"ALT\" style=\"color:Black;\">\n<td>2019/04</td><td>0.14</td><td> </td>\n</tr><tr style=\"color:Black;\">\n<td>2019/05</td><td>0.16</td><td> </td>\n</tr><tr class=\"ALT\" style=\"color:Black;\">\n<td>2019/06</td><td>0.13</td><td> </td>\n</tr><tr style=\"color:Black;\">\n<td>2019/07</td><td>0.14</td><td> </td>\n</tr><tr class=\"ALT\" style=\"color:Black;\">\n<td>2019/08</td><td>0.15</td><td> </td>\n</tr><tr style=\"color:Black;\">\n<td>2019/09</td><td>0.13</td><td> </td>\n</tr><tr class=\"ALT\" style=\"color:Black;\">\n<td>2019/10</td><td>0.13</td><td> </td>\n</tr><tr style=\"color:Black;\">\n<td>2019/11</td><td>0.21</td><td> </td>\n</tr><tr class=\"ALT\" style=\"color:Black;\">\n<td>2019/12</td><td>0.23</td><td> </td>\n</tr><tr style=\"color:Black;\">\n<td class=\"no-alt\" rowspan=\"12\" style=\"white-space:nowrap;\" valign=\"top\">CH4</td><td class=\"no-alt\" rowspan=\"12\" valign=\"top\">ppm</td><td>2019/01</td><td>2</td><td> </td>\n</tr><tr class=\"ALT\" style=\"color:Black;\">\n<td>2019/02</td><td>1.94</td><td> </td>\n</tr><tr style=\"color:Black;\">\n<td>2019/03</td><td>1.94</td><td> </td>\n</tr><tr class=\"ALT\" style=\"color:Black;\">\n<td>2019/04</td><td>1.88</td><td> </td>\n</tr><tr style=\"color:Black;\">\n<td>2019/05</td><td>1.86</td><td> </td>\n</tr><tr class=\"ALT\" style=\"color:Black;\">\n<td>2019/06</td><td>1.79</td><td> </td>\n</tr><tr style=\"color:Black;\">\n<td>2019/07</td><td>1.80</td><td> </td>\n</tr><tr class=\"ALT\" style=\"color:Black;\">\n<td>2019/08</td><td>1.82</td><td> </td>\n</tr><tr style=\"color:Black;\">\n<td>2019/09</td><td>1.86</td><td> </td>\n</tr><tr class=\"ALT\" style=\"color:Black;\">\n<td>2019/10</td><td>1.92</td><td> </td>\n</tr><tr style=\"color:Black;\">\n<td>2019/11</td><td>1.94</td><td> </td>\n</tr><tr class=\"ALT\" style=\"color:Black;\">\n<td>2019/12</td><td>1.95</td><td> </td>\n</tr>\n</table>\n"
    }
   ],
   "source": [
    "from bs4 import BeautifulSoup\n",
    "\n",
    "soup = BeautifulSoup(r.text, 'html.parser')\n",
    "table = soup.find('table', class_='TABLE_G')\n",
    "print(table)"
   ]
  },
  {
   "cell_type": "code",
   "execution_count": 7,
   "metadata": {},
   "outputs": [
    {
     "output_type": "stream",
     "name": "stdout",
     "text": "{'SO2': {'2019/01': '4.10', '2019/02': '3.30', '2019/03': '3.90', '2019/04': '3.40', '2019/05': '3.30', '2019/06': '4.10', '2019/07': '4', '2019/08': '4.60', '2019/09': '3.50', '2019/10': '3.20', '2019/11': '3.60', '2019/12': '3'}, 'CO': {'2019/01': '0.67', '2019/02': '0.48', '2019/03': '0.50', '2019/04': '0.39', '2019/05': '0.38', '2019/06': '0.24', '2019/07': '0.28', '2019/08': '0.33', '2019/09': '0.32', '2019/10': '0.36', '2019/11': '0.46', '2019/12': '0.54'}, 'O3': {'2019/01': '24.70', '2019/02': '29.40', '2019/03': '29.20', '2019/04': '30.40', '2019/05': '28.60', '2019/06': '16.30', '2019/07': '15.50', '2019/08': '19.70', '2019/09': '35.70', '2019/10': '44', '2019/11': '34.80', '2019/12': '22.30'}, 'PM10': {'2019/01': '78', '2019/02': '57', '2019/03': '52', '2019/04': '42', '2019/05': '35', '2019/06': '20', '2019/07': '24', '2019/08': '27', '2019/09': '35', '2019/10': '50', '2019/11': '63', '2019/12': '54'}, 'NOx': {'2019/01': '38.01', '2019/02': '25.62', '2019/03': '27.84', '2019/04': '21.83', '2019/05': '22.55', '2019/06': '17.15', '2019/07': '17.71', '2019/08': '19.66', '2019/09': '18.66', '2019/10': '19.50', '2019/11': '28.99', '2019/12': '33.84'}, 'NO': {'2019/01': '7.95', '2019/02': '4.76', '2019/03': '5.41', '2019/04': '4.16', '2019/05': '4.58', '2019/06': '5.08', '2019/07': '5.16', '2019/08': '5.17', '2019/09': '3.63', '2019/10': '3.50', '2019/11': '5.21', '2019/12': '7.83'}, 'NO2': {'2019/01': '30.06', '2019/02': '20.86', '2019/03': '22.43', '2019/04': '17.68', '2019/05': '17.98', '2019/06': '12.08', '2019/07': '12.54', '2019/08': '14.49', '2019/09': '15.03', '2019/10': '15.99', '2019/11': '23.78', '2019/12': '26'}, 'THC': {'2019/01': '2.27', '2019/02': '2.11', '2019/03': '2.12', '2019/04': '2.02', '2019/05': '2.02', '2019/06': '1.92', '2019/07': '1.93', '2019/08': '1.97', '2019/09': '1.98', '2019/10': '2.05', '2019/11': '2.15', '2019/12': '2.18'}, 'NMHC': {'2019/01': '0.27', '2019/02': '0.17', '2019/03': '0.18', '2019/04': '0.14', '2019/05': '0.16', '2019/06': '0.13', '2019/07': '0.14', '2019/08': '0.15', '2019/09': '0.13', '2019/10': '0.13', '2019/11': '0.21', '2019/12': '0.23'}, 'CH4': {'2019/01': '2', '2019/02': '1.94', '2019/03': '1.94', '2019/04': '1.88', '2019/05': '1.86', '2019/06': '1.79', '2019/07': '1.80', '2019/08': '1.82', '2019/09': '1.86', '2019/10': '1.92', '2019/11': '1.94', '2019/12': '1.95'}}\n"
    }
   ],
   "source": [
    "\n",
    "d = {}\n",
    "for tr in table.find_all('tr')[1:]:#[1:] 跳過第一個\n",
    "\n",
    "    for i, td in enumerate(tr.find_all('td')):\n",
    "        \n",
    "        if len(tr.find_all('td')) == 5:\n",
    "            if i == 0:\n",
    "                obs = td.text\n",
    "                d.setdefault(obs, {})\n",
    "            if i == 2:\n",
    "                date = td.text\n",
    "            if i == 3:\n",
    "                value = td.text\n",
    "                d[obs][date] = value\n",
    "        \n",
    "        if len(tr.find_all('td')) == 3:\n",
    "            if i == 0:\n",
    "                date = td.text\n",
    "            if i == 1:\n",
    "                value = td.text\n",
    "                d[obs][date] = value\n",
    "print(d)"
   ]
  },
  {
   "cell_type": "code",
   "execution_count": 8,
   "metadata": {},
   "outputs": [
    {
     "output_type": "execute_result",
     "data": {
      "text/plain": "          SO2    CO     O3 PM10    NOx    NO    NO2   THC  NMHC   CH4\n2019/01  4.10  0.67  24.70   78  38.01  7.95  30.06  2.27  0.27     2\n2019/02  3.30  0.48  29.40   57  25.62  4.76  20.86  2.11  0.17  1.94\n2019/03  3.90  0.50  29.20   52  27.84  5.41  22.43  2.12  0.18  1.94\n2019/04  3.40  0.39  30.40   42  21.83  4.16  17.68  2.02  0.14  1.88\n2019/05  3.30  0.38  28.60   35  22.55  4.58  17.98  2.02  0.16  1.86\n2019/06  4.10  0.24  16.30   20  17.15  5.08  12.08  1.92  0.13  1.79\n2019/07     4  0.28  15.50   24  17.71  5.16  12.54  1.93  0.14  1.80\n2019/08  4.60  0.33  19.70   27  19.66  5.17  14.49  1.97  0.15  1.82\n2019/09  3.50  0.32  35.70   35  18.66  3.63  15.03  1.98  0.13  1.86\n2019/10  3.20  0.36     44   50  19.50  3.50  15.99  2.05  0.13  1.92\n2019/11  3.60  0.46  34.80   63  28.99  5.21  23.78  2.15  0.21  1.94\n2019/12     3  0.54  22.30   54  33.84  7.83     26  2.18  0.23  1.95",
      "text/html": "<div>\n<style scoped>\n    .dataframe tbody tr th:only-of-type {\n        vertical-align: middle;\n    }\n\n    .dataframe tbody tr th {\n        vertical-align: top;\n    }\n\n    .dataframe thead th {\n        text-align: right;\n    }\n</style>\n<table border=\"1\" class=\"dataframe\">\n  <thead>\n    <tr style=\"text-align: right;\">\n      <th></th>\n      <th>SO2</th>\n      <th>CO</th>\n      <th>O3</th>\n      <th>PM10</th>\n      <th>NOx</th>\n      <th>NO</th>\n      <th>NO2</th>\n      <th>THC</th>\n      <th>NMHC</th>\n      <th>CH4</th>\n    </tr>\n  </thead>\n  <tbody>\n    <tr>\n      <th>2019/01</th>\n      <td>4.10</td>\n      <td>0.67</td>\n      <td>24.70</td>\n      <td>78</td>\n      <td>38.01</td>\n      <td>7.95</td>\n      <td>30.06</td>\n      <td>2.27</td>\n      <td>0.27</td>\n      <td>2</td>\n    </tr>\n    <tr>\n      <th>2019/02</th>\n      <td>3.30</td>\n      <td>0.48</td>\n      <td>29.40</td>\n      <td>57</td>\n      <td>25.62</td>\n      <td>4.76</td>\n      <td>20.86</td>\n      <td>2.11</td>\n      <td>0.17</td>\n      <td>1.94</td>\n    </tr>\n    <tr>\n      <th>2019/03</th>\n      <td>3.90</td>\n      <td>0.50</td>\n      <td>29.20</td>\n      <td>52</td>\n      <td>27.84</td>\n      <td>5.41</td>\n      <td>22.43</td>\n      <td>2.12</td>\n      <td>0.18</td>\n      <td>1.94</td>\n    </tr>\n    <tr>\n      <th>2019/04</th>\n      <td>3.40</td>\n      <td>0.39</td>\n      <td>30.40</td>\n      <td>42</td>\n      <td>21.83</td>\n      <td>4.16</td>\n      <td>17.68</td>\n      <td>2.02</td>\n      <td>0.14</td>\n      <td>1.88</td>\n    </tr>\n    <tr>\n      <th>2019/05</th>\n      <td>3.30</td>\n      <td>0.38</td>\n      <td>28.60</td>\n      <td>35</td>\n      <td>22.55</td>\n      <td>4.58</td>\n      <td>17.98</td>\n      <td>2.02</td>\n      <td>0.16</td>\n      <td>1.86</td>\n    </tr>\n    <tr>\n      <th>2019/06</th>\n      <td>4.10</td>\n      <td>0.24</td>\n      <td>16.30</td>\n      <td>20</td>\n      <td>17.15</td>\n      <td>5.08</td>\n      <td>12.08</td>\n      <td>1.92</td>\n      <td>0.13</td>\n      <td>1.79</td>\n    </tr>\n    <tr>\n      <th>2019/07</th>\n      <td>4</td>\n      <td>0.28</td>\n      <td>15.50</td>\n      <td>24</td>\n      <td>17.71</td>\n      <td>5.16</td>\n      <td>12.54</td>\n      <td>1.93</td>\n      <td>0.14</td>\n      <td>1.80</td>\n    </tr>\n    <tr>\n      <th>2019/08</th>\n      <td>4.60</td>\n      <td>0.33</td>\n      <td>19.70</td>\n      <td>27</td>\n      <td>19.66</td>\n      <td>5.17</td>\n      <td>14.49</td>\n      <td>1.97</td>\n      <td>0.15</td>\n      <td>1.82</td>\n    </tr>\n    <tr>\n      <th>2019/09</th>\n      <td>3.50</td>\n      <td>0.32</td>\n      <td>35.70</td>\n      <td>35</td>\n      <td>18.66</td>\n      <td>3.63</td>\n      <td>15.03</td>\n      <td>1.98</td>\n      <td>0.13</td>\n      <td>1.86</td>\n    </tr>\n    <tr>\n      <th>2019/10</th>\n      <td>3.20</td>\n      <td>0.36</td>\n      <td>44</td>\n      <td>50</td>\n      <td>19.50</td>\n      <td>3.50</td>\n      <td>15.99</td>\n      <td>2.05</td>\n      <td>0.13</td>\n      <td>1.92</td>\n    </tr>\n    <tr>\n      <th>2019/11</th>\n      <td>3.60</td>\n      <td>0.46</td>\n      <td>34.80</td>\n      <td>63</td>\n      <td>28.99</td>\n      <td>5.21</td>\n      <td>23.78</td>\n      <td>2.15</td>\n      <td>0.21</td>\n      <td>1.94</td>\n    </tr>\n    <tr>\n      <th>2019/12</th>\n      <td>3</td>\n      <td>0.54</td>\n      <td>22.30</td>\n      <td>54</td>\n      <td>33.84</td>\n      <td>7.83</td>\n      <td>26</td>\n      <td>2.18</td>\n      <td>0.23</td>\n      <td>1.95</td>\n    </tr>\n  </tbody>\n</table>\n</div>"
     },
     "metadata": {},
     "execution_count": 8
    }
   ],
   "source": [
    "import pandas as pd\n",
    "pd.DataFrame(d)"
   ]
  },
  {
   "cell_type": "code",
   "execution_count": null,
   "metadata": {},
   "outputs": [],
   "source": []
  },
  {
   "cell_type": "code",
   "execution_count": null,
   "metadata": {},
   "outputs": [],
   "source": []
  }
 ],
 "metadata": {
  "kernelspec": {
   "display_name": "Python 3",
   "language": "python",
   "name": "python3"
  },
  "language_info": {
   "codemirror_mode": {
    "name": "ipython",
    "version": 3
   },
   "file_extension": ".py",
   "mimetype": "text/x-python",
   "name": "python",
   "nbconvert_exporter": "python",
   "pygments_lexer": "ipython3",
   "version": "3.7.4-final"
  }
 },
 "nbformat": 4,
 "nbformat_minor": 2
}