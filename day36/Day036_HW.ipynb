{
 "cells": [
  {
   "cell_type": "markdown",
   "metadata": {},
   "source": [
    "# 加速：非同步爬蟲\n",
    "\n",
    "* 了解非同步爬蟲加速原理與實作"
   ]
  },
  {
   "cell_type": "markdown",
   "metadata": {},
   "source": [
    "## 作業目標\n",
    "\n",
    "* 比較一下非同步爬蟲跟多線程爬蟲的差異是什麼？各自的優缺點為何？"
   ]
  },
  {
   "cell_type": "code",
   "execution_count": 1,
   "metadata": {
    "scrolled": true
   },
   "outputs": [
    {
     "data": {
      "text/plain": [
       "'\\nYour Input\\n'"
      ]
     },
     "execution_count": 1,
     "metadata": {},
     "output_type": "execute_result"
    }
   ],
   "source": [
    "比較一下非同步爬蟲跟多線程爬蟲的差異是什麼？\n",
    "\n",
    "Mult:可以平行處理多個工作\n",
    "Async: 使用一個單線程直接執行多個工作 , 不用等待前一個工作執行完畢 , 才做下一個\n",
    "在單線程裡使用Async, 下載網頁的時候和處理網頁的時候是不連續的, 可以有效利用了等待下載的這段時間."
   ]
  },
  {
   "cell_type": "code",
   "execution_count": null,
   "metadata": {},
   "outputs": [],
   "source": [
    "各自的優缺點為何？\n",
    "Mult Good point: 資源分配跟排程不用由程式自己安排\n",
    "Muli Bad point: 在存取獨佔資料時 , 容易堵塞\n",
    "\n",
    "Async Good point: 在存取獨佔資料時 , 比較不容易堵塞\n",
    "Async Bad point: 但需要程式本身做資源分配及排程\n"
   ]
  },
  {
   "cell_type": "code",
   "execution_count": null,
   "metadata": {},
   "outputs": [],
   "source": [
    "\n",
    "https://blog.csdn.net/qq_27825451/article/details/78853119\n",
    "\n",
    "https://morvanzhou.github.io/tutorials/data-manipulation/scraping/4-02-asyncio/"
   ]
  }
 ],
 "metadata": {
  "colab": {
   "name": "homework.ipynb",
   "provenance": []
  },
  "kernelspec": {
   "display_name": "Python 3",
   "language": "python",
   "name": "python3"
  },
  "language_info": {
   "codemirror_mode": {
    "name": "ipython",
    "version": 3
   },
   "file_extension": ".py",
   "mimetype": "text/x-python",
   "name": "python",
   "nbconvert_exporter": "python",
   "pygments_lexer": "ipython3",
   "version": "3.6.5"
  }
 },
 "nbformat": 4,
 "nbformat_minor": 1
}